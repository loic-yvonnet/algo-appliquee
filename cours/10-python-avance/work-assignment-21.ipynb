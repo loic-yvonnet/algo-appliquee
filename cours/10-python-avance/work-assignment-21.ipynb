{
 "cells": [
  {
   "cell_type": "markdown",
   "source": [
    "# TP 17 - Courbes et traitement d'images\n",
    "\n",
    "Pour chaque exercice, rentrez votre réponse dans l'éditeur Python associé.\n",
    "Enregistrez vos modifications, de préférence au format ipynb, lorsque vous aurez terminé.\n",
    "\n",
    "## Exercice 1 - Affichez quelques courbes avec MapPlotLib\n",
    "\n",
    "Plot(constant)\n",
    "Plot(linéaire)\n",
    "Plot(log)\n",
    "Plot(n log)\n",
    "Plot(n^2)\n",
    "Plot(2^n)\n",
    "\n",
    "Toutes les mettres sur le même graphique.\n"
   ],
   "metadata": {}
  },
  {
   "cell_type": "markdown",
   "source": [
    "## Exercice 2 - Bubble Sort versus Quick Sort\n",
    "\n",
    "Reprendre les algos implémentés dans le précédent TP.\n",
    "Utiliser MatPlotLib et random pour afficher l'évolution du temps d'exécution de Bubble Sort, Quick Sort et du `sort` de Python en fonction de la taille des entrées.\n",
    "L'instrumenter et afficher les temps dans un même graphique."
   ],
   "metadata": {}
  },
  {
   "cell_type": "markdown",
   "source": [
    "## Exercice 3 - Multiplication matricielle avec NumPy\n",
    "\n",
    "Utilisez numpy pour refaire la multiplication matricielle, la transformée de matrice, etc.\n",
    "=> one-liner à chaque fois.\n",
    "\n",
    "=> comparez la vitesse d'exécution pour de grosses matrices par rapport aux versions implémentées dans les TP précédents.\n",
    "=> affichez avec matplotlib la différence"
   ],
   "metadata": {}
  },
  {
   "cell_type": "markdown",
   "source": [
    "## Exercice 4 - Affichez une image avec SciImage\n",
    "\n",
    "Expliquer qu'une image est une tableau de RGB. Ce tableau peut être géré avec NumPy.\n",
    "En mathématiques, on considère qu'une image est un signal. Le traitement du signal est une branche des mathématiques qui s'applique au traitement d'image aussi bien que d'un traitement de sons, électrique, etc.\n",
    "\n",
    "=> Affichez une image (à partir d'une URL)"
   ],
   "metadata": {}
  },
  {
   "cell_type": "markdown",
   "source": [
    "## Exercice 5 - Traitements d'image\n",
    "\n",
    "Retourner une image\n",
    "Extraire une sous-partie d'une image\n",
    "Redimensionner une image"
   ],
   "metadata": {}
  }
 ],
 "metadata": {
  "orig_nbformat": 4,
  "language_info": {
   "name": "python",
   "version": "3.9.6",
   "mimetype": "text/x-python",
   "codemirror_mode": {
    "name": "ipython",
    "version": 3
   },
   "pygments_lexer": "ipython3",
   "nbconvert_exporter": "python",
   "file_extension": ".py"
  },
  "kernelspec": {
   "name": "python3",
   "display_name": "Python 3.9.6 64-bit"
  },
  "interpreter": {
   "hash": "36cf16204b8548560b1c020c4e8fb5b57f0e4c58016f52f2d4be01e192833930"
  }
 },
 "nbformat": 4,
 "nbformat_minor": 2
}