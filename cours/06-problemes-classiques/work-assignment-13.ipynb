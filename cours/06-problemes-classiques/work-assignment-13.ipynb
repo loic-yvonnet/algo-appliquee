{
 "cells": [
  {
   "cell_type": "markdown",
   "source": [
    "# TP 10 - Queues de messages simples\n",
    "\n",
    "Pour chaque exercice, rentrez votre réponse dans l'éditeur Python associé.\n",
    "Enregistrez vos modifications, de préférence au format ipynb, lorsque vous aurez terminé.\n",
    "\n",
    "## Exercice 1 - Tours de Hanoï\n",
    "\n",
    "Le problème des tours de Hanoï consiste à déplacer des cylindres de taille croissante empilés sur une tour de départ vers une tour d'arrivée.\n",
    "\n",
    "Le point de départ est le suivant :\n",
    "\n",
    "![Au départ de Hanoï](https://loic-yvonnet.github.io/algo-appliquee/06-problemes-classiques/assets/hanoi_depart.png)\n",
    "\n",
    "Le point d'arrivée est la même configuration sur une autre tour :\n",
    "\n",
    "![A l'arrivée des tours de Hanoï](https://loic-yvonnet.github.io/algo-appliquee/06-problemes-classiques/assets/hanoi_arrivee.png)\n",
    "\n",
    "Il est interdit de déplacer plus de 1 cylindre à la fois. Il est également interdit, à tout moment, d'avoir un cylindre plus petit positionné sous un cylindre plus large.\n",
    "\n",
    "Comment feriez-vous pour résoudre ce problème manuellement si vous aviez 1 cylindre ? 2 cylindres ? 3 cylindres ?\n",
    "Notez les étapes dans l'encadré ci-dessous qui vous est réservé :"
   ],
   "metadata": {}
  },
  {
   "cell_type": "markdown",
   "source": [
    "* On note les tours : `départ`, `intermédiaire`, et `cible`.\n",
    "* On note les cylindres numériquement du plus petit au plus gros : `1`, `2`, `3`, `4`, ..., `N`, où `N` est le nombre total de cylindres.\n",
    "* Etapes pour `N = 1` cylindre :\n",
    "    * Etape 1 : déplacer le cylindre `1` de `départ` vers `cible`.\n",
    "    * Fin.\n",
    "* Etapes pour `N = 2` cylindres :\n",
    "    * Etape 1 : ...\n",
    "    * Etape 2 : ...\n",
    "    * ...\n",
    "    * ...\n",
    "    * Fin.\n",
    "* Etapes pour `N = 3` cylindres :\n",
    "    * Etape 1 : ...\n",
    "    * Etape 2 : ...\n",
    "    * ...\n",
    "    * ...\n",
    "    * Fin."
   ],
   "metadata": {}
  },
  {
   "cell_type": "markdown",
   "source": [
    "Pourriez-vous décrire la solution avec 4 cylindres en fonction de la solution avec 3 cylindres ?\n",
    "\n",
    "En pratique, on utilise l'approche suivante pour résoudre le problème des Tours de Hanoï pour un nombre `N` quelconque :\n",
    "* Déplacer récursivement les cylindres `1` à `N-1` sur la tour `intermédiaire`.\n",
    "* Déplacer le cylindre `N` sur la tour `cible`.\n",
    "* Déplacer récursivement les cylindres `1` à `N-1` sur la tour `cible`.\n",
    "\n",
    "Ecrivez les fonctions suivantes :"
   ],
   "metadata": {}
  },
  {
   "cell_type": "code",
   "execution_count": null,
   "source": [
    "def affiche_tour(label, liste_cylindres):\n",
    "    \"\"\"Affiche dans la sortie standard la liste des cylindres au format suivant :\n",
    "    {label} : {contenu de la liste}\n",
    "\n",
    "    label - nom de la tour (str).\n",
    "    liste_cylindres - liste des numéros de cylindres de la tour (list).\n",
    "    \"\"\"\n",
    "    pass\n",
    "\n",
    "def affiche_tours(tours):\n",
    "    \"\"\"Affiche dans la sortie standard le contenu des tours.\"\"\"\n",
    "    pass\n",
    "\n",
    "def deplace_cylindre(tours, depart, cible):\n",
    "    \"\"\"Déplace le cylindre en haut de tours[depart] vers le haut de tours[cible].\"\"\"\n",
    "    pass\n",
    "\n",
    "def deplace_recursif(tours, N, depart, intermediare, cible):\n",
    "    \"\"\"Résout récursivement le problème des Tours de Hanoï.\n",
    "\n",
    "    La récursivité s'arrête lorsque N = 1 : on déplace alors le cylindre 1 de \n",
    "    tours[depart] vers tours[cible].\n",
    "    Sinon, on suit les étapes suivantes :\n",
    "    - Déplace récursivement les cylindres 1 à N-1 de tours[depart] vers tours[intermediare].\n",
    "    - Déplace le cylindre N de tours[depart] vers tours[cible].\n",
    "    - Déplace récursivement les cylindres 1 à N-1 de tours[intermediare] vers tours[cible].\n",
    "    \"\"\"\n",
    "    pass\n",
    "\n",
    "def hanoi(N):\n",
    "    \"\"\"Initialise la récursivité et résout le problème des Tours de Hanoï.\n",
    "    \n",
    "    N - nombre de cylindres (int > 0).\n",
    "    \"\"\"\n",
    "    tours = {\n",
    "        \"depart\" : list(range(N, 0, -1)),\n",
    "        \"intermediaire\" : [],\n",
    "        \"cible\" : []\n",
    "    }\n",
    "    affiche_tours(tours)\n",
    "\n",
    "    deplace_recursif(tours, N, \"depart\", \"intermediare\", \"cible\")\n",
    "    \n",
    "def init_hanoi():\n",
    "    N = int(input(\"Nombre de cylindres : \"))\n",
    "    if N < 1:\n",
    "        raise ValueError(\"Entrée invalide\")\n",
    "\n",
    "    hanoi(N)\n",
    "\n",
    "init_hanoi()"
   ],
   "outputs": [],
   "metadata": {}
  },
  {
   "cell_type": "markdown",
   "source": [
    "## Exercice 2 - File d'attente à La Poste\n",
    "\n",
    "Producteurs = personnes qui postent une lettre => ecrire une fonction qui rajoute une lettre\n",
    "Consommateurs = membre du personnel de La Poste qui prennent la lettre et l'envoie => ecrire une fonction qui retire la lettre de la queue de message\n",
    "\n",
    "Mettre dans une boucle quasi-infinie 1 producteur et 1 consommateur.\n",
    "Testez avec 2 producteurs et 1 consommateur, en gros\n",
    "while True:\n",
    "    produce_mail(queue)\n",
    "    produce_mail(queue)\n",
    "    consume_mail(queue)\n",
    "\n",
    "Et regarder la consommation mémoire\n",
    "Que faire pour ajuster le nombre de membres du personnel ? ==> monitoring des queues"
   ],
   "metadata": {}
  },
  {
   "cell_type": "markdown",
   "source": [
    "## Exercice 3 - Planificateur de tâches\n",
    "\n",
    "Dequeue qui contient des fonctions à exécuter.\n",
    "Une autre fonction est en charge de les dépiler et de les exécuter.\n",
    "Comme un scheduler dans un OS..."
   ],
   "metadata": {}
  },
  {
   "cell_type": "markdown",
   "source": [
    "## Exercice 4 - Implémentation d'une queue\n",
    "\n",
    "Utiliser une `list` pour implémenter le enqueue, le dequeue et gérer les cas limites (rien à dequeue, et plus de place pour enqueue)."
   ],
   "metadata": {}
  },
  {
   "cell_type": "markdown",
   "source": [
    "## Exercice 5 - Implémentation d'une stack\n",
    "\n",
    "Idem en mode LIFO"
   ],
   "metadata": {}
  }
 ],
 "metadata": {
  "orig_nbformat": 4,
  "language_info": {
   "name": "python",
   "version": "3.9.6",
   "mimetype": "text/x-python",
   "codemirror_mode": {
    "name": "ipython",
    "version": 3
   },
   "pygments_lexer": "ipython3",
   "nbconvert_exporter": "python",
   "file_extension": ".py"
  },
  "kernelspec": {
   "name": "python3",
   "display_name": "Python 3.9.6 64-bit"
  },
  "interpreter": {
   "hash": "36cf16204b8548560b1c020c4e8fb5b57f0e4c58016f52f2d4be01e192833930"
  }
 },
 "nbformat": 4,
 "nbformat_minor": 2
}