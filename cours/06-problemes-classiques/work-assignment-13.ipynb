{
 "cells": [
  {
   "cell_type": "markdown",
   "source": [
    "# TP 10 - Queues de messages simples\n",
    "\n",
    "Pour chaque exercice, rentrez votre réponse dans l'éditeur Python associé.\n",
    "Enregistrez vos modifications, de préférence au format ipynb, lorsque vous aurez terminé.\n",
    "\n",
    "## Exercice 1 - Tours de Hanoï\n",
    "\n",
    "Le problème des tours de Hanoï consiste à déplacer des cylindres de taille croissante empilés sur une tour de départ vers une tour d'arrivée.\n",
    "\n",
    "Le point de départ est le suivant :\n",
    "\n",
    "![Au départ de Hanoï](https://loic-yvonnet.github.io/algo-appliquee/06-problemes-classiques/assets/hanoi_depart.png)\n",
    "\n",
    "Le point d'arrivée est la même configuration sur une autre tour :\n",
    "\n",
    "![A l'arrivée des tours de Hanoï](https://loic-yvonnet.github.io/algo-appliquee/06-problemes-classiques/assets/hanoi_arrivee.png)\n",
    "\n",
    "Il est interdit de déplacer plus de 1 cylindre à la fois. Il est également interdit, à tout moment, d'avoir un cylindre plus petit positionné sous un cylindre plus large.\n",
    "\n",
    "Comment feriez-vous pour résoudre ce problème manuellement si vous aviez 1 cylindre ? 2 cylindres ? 3 cylindres ?\n",
    "Notez les étapes dans l'encadré ci-dessous qui vous est réservé :"
   ],
   "metadata": {}
  },
  {
   "cell_type": "markdown",
   "source": [
    "* On note les tours : `départ`, `intermédiaire`, et `cible`.\n",
    "* On note les cylindres numériquement du plus petit au plus gros : `1`, `2`, `3`, `4`, ..., `N`, où `N` est le nombre total de cylindres.\n",
    "* Etapes pour `N = 1` cylindre :\n",
    "    * Etape 1 : déplacer le cylindre `1` de `départ` vers `cible`.\n",
    "    * Fin.\n",
    "* Etapes pour `N = 2` cylindres :\n",
    "    * Etape 1 : ...\n",
    "    * Etape 2 : ...\n",
    "    * ...\n",
    "    * ...\n",
    "    * Fin.\n",
    "* Etapes pour `N = 3` cylindres :\n",
    "    * Etape 1 : ...\n",
    "    * Etape 2 : ...\n",
    "    * ...\n",
    "    * ...\n",
    "    * Fin."
   ],
   "metadata": {}
  },
  {
   "cell_type": "markdown",
   "source": [
    "Pourriez-vous décrire la solution avec 4 cylindres en fonction de la solution avec 3 cylindres ?\n",
    "\n",
    "En pratique, on utilise l'approche suivante pour résoudre le problème des Tours de Hanoï pour un nombre `N` quelconque :\n",
    "* Déplacer récursivement les cylindres `1` à `N-1` sur la tour `intermédiaire`.\n",
    "* Déplacer le cylindre `N` sur la tour `cible`.\n",
    "* Déplacer récursivement les cylindres `1` à `N-1` sur la tour `cible`.\n",
    "\n",
    "Ecrivez les fonctions suivantes :"
   ],
   "metadata": {}
  },
  {
   "cell_type": "code",
   "execution_count": null,
   "source": [
    "def affiche_tour(label, liste_cylindres):\n",
    "    \"\"\"Affiche dans la sortie standard la liste des cylindres au format suivant :\n",
    "    {label} : {contenu de la liste}\n",
    "\n",
    "    label - nom de la tour (str).\n",
    "    liste_cylindres - liste des numéros de cylindres de la tour (list).\n",
    "    \"\"\"\n",
    "    pass\n",
    "\n",
    "def affiche_tours(tours):\n",
    "    \"\"\"Affiche dans la sortie standard le contenu des tours.\"\"\"\n",
    "    pass\n",
    "\n",
    "def deplace_cylindre(tours, depart, cible):\n",
    "    \"\"\"Déplace le cylindre en haut de tours[depart] vers le haut de tours[cible].\"\"\"\n",
    "    pass\n",
    "\n",
    "def deplace_recursif(tours, N, depart, intermediare, cible):\n",
    "    \"\"\"Résout récursivement le problème des Tours de Hanoï.\n",
    "\n",
    "    La récursivité s'arrête lorsque N = 1 : on déplace alors le cylindre 1 de \n",
    "    tours[depart] vers tours[cible].\n",
    "    Sinon, on suit les étapes suivantes :\n",
    "    - Déplace récursivement les cylindres 1 à N-1 de tours[depart] vers tours[intermediare].\n",
    "    - Déplace le cylindre N de tours[depart] vers tours[cible].\n",
    "    - Déplace récursivement les cylindres 1 à N-1 de tours[intermediare] vers tours[cible].\n",
    "    \"\"\"\n",
    "    pass\n",
    "\n",
    "def hanoi(N):\n",
    "    \"\"\"Initialise la récursivité et résout le problème des Tours de Hanoï.\n",
    "    \n",
    "    N - nombre de cylindres (int > 0).\n",
    "    \"\"\"\n",
    "    tours = {\n",
    "        \"depart\" : list(range(N, 0, -1)),\n",
    "        \"intermediaire\" : [],\n",
    "        \"cible\" : []\n",
    "    }\n",
    "    affiche_tours(tours)\n",
    "\n",
    "    deplace_recursif(tours, N, \"depart\", \"intermediare\", \"cible\")\n",
    "    \n",
    "def init_hanoi():\n",
    "    \"\"\"\n",
    "    Initialise le problème des tours de Hanoï.\n",
    "\n",
    "    Demande le nombre de cylindres à l'utilisateur et affiche les étapes de\n",
    "    résolution du problème des tours de Hanoï.\n",
    "    \"\"\"\n",
    "    N = int(input(\"Nombre de cylindres : \"))\n",
    "    if N < 1:\n",
    "        raise ValueError(\"Entrée invalide\")\n",
    "\n",
    "    hanoi(N)\n",
    "\n",
    "init_hanoi()"
   ],
   "outputs": [],
   "metadata": {}
  },
  {
   "cell_type": "markdown",
   "source": [
    "## Exercice 2 - Planificateur de tâches\n",
    "\n",
    "Un système d'exploitation comme GNU/Linux, macOS ou Windows doit ordonnancer les tâches à exécuter. En effet, vous avez un nombre limité de processeurs sur votre ordinateur, et vous pouvez malgré tout exécuter de nombreux processus en même temps (traitement de texte, feuille de calcul, programme Python, navigateur Internet, jeu vidéo, etc.).\n",
    "\n",
    "Un ordonnanceur de tâches (en anglais : *scheduler*) naïf peut utiliser un planificateur simple qui va exécuter de petites tâches les unes après les autres. Les tâches sont stockées dans une queue. Une tâche peut alors être représentée par une fonction. Chaque processus va alors poster de petites tâches.\n",
    "\n",
    "Par exemple :\n",
    "* le logiciel de traitement de texte va poster une demande d'affichage d'un caractère,\n",
    "* le jeu vidéo va poster une demande de déplacement d'un sprite de quelques pixels,\n",
    "* le navigateur Internet va poster une demande d'exécution d'une requête HTTP.\n",
    "\n",
    "On se propose d'implémenter un planificateur de tâches avec la structure de données suivante :"
   ],
   "metadata": {}
  },
  {
   "cell_type": "code",
   "execution_count": 1,
   "source": [
    "from dataclasses import dataclass\n",
    "from collections import deque\n",
    "from threading import Thread\n",
    "from datetime import datetime\n",
    "import time\n",
    "\n",
    "@dataclass\n",
    "class Planificateur:\n",
    "    \"\"\"Planificateur de tâches.\n",
    "    \n",
    "    Les tâches sont empilées dans une queue de tâches représentée par une deque.\n",
    "    \"\"\"\n",
    "    taches = deque()\n"
   ],
   "outputs": [],
   "metadata": {}
  },
  {
   "cell_type": "markdown",
   "source": [
    "Implémentez les fonctions suivantes en suivant les spécifications :"
   ],
   "metadata": {}
  },
  {
   "cell_type": "code",
   "execution_count": 2,
   "source": [
    "def empile_tache(planificateur, f):\n",
    "    \"\"\"Rajoute une tâche dans la queue de tâches du planificateur de tâches.\n",
    "    \n",
    "    La tâche est représentée par la fonction d'ordre supérieur f.\n",
    "    \"\"\"\n",
    "    pass\n",
    "\n",
    "def execute_prochaine_tache(planificateur):\n",
    "    \"\"\"Execute la prochaine tâche du planificateur dans la queue de tâches.\n",
    "\n",
    "    Si la queue de tâches est vide, il ne se passe rien.\n",
    "    Sinon, la tâche en haut de la queue est exécutée.\n",
    "    Si une tâche est exécutée, cette fonction renvoie True, et False dans le\n",
    "    cas contraire.\n",
    "    \"\"\"\n",
    "    pass\n",
    "\n",
    "def execute_toutes_les_taches(planificateur):\n",
    "    \"\"\"Execute toutes les tâches du planificateur.\n",
    "    \n",
    "    Appelle dans une boucle execute_prochaine_tache jusqu'à ce qu'il n'ait\n",
    "    plus de tâche à exécuter.\n",
    "    \"\"\"\n",
    "    pass"
   ],
   "outputs": [],
   "metadata": {}
  },
  {
   "cell_type": "markdown",
   "source": [
    "Testez vos fonctions en exécutant le programme suivant :"
   ],
   "metadata": {}
  },
  {
   "cell_type": "code",
   "execution_count": 14,
   "source": [
    "def execute_en_parallele(planificateur, nb_secondes):\n",
    "    \"\"\"Cette fonction s'exécute en parallèle pendant nb_secondes secondes.\n",
    "    \n",
    "    Elle appelle la fonction execute_prochaine_tache jusqu'à vider la queue\n",
    "    de messages.\n",
    "    \"\"\"\n",
    "    # Execute nb_secondes fois la boucle (et attend 1 second à chaque fois)\n",
    "    for i in range(nb_secondes): # secondes\n",
    "        # Mesure approximativement le temps d'exécution\n",
    "        debut = datetime.now()\n",
    "\n",
    "        # Execute toutes les tâches\n",
    "        execute_toutes_les_taches(planificateur)\n",
    "\n",
    "        # Affiche le temps d'exécution approximatif\n",
    "        fin = datetime.now()\n",
    "        temps = fin - debut\n",
    "        print(f\"Itération {i} : {temps.total_seconds()}s\")\n",
    "\n",
    "        # Attend 1 seconde\n",
    "        time.sleep(1)\n",
    "\n",
    "def genere_taches_en_parallele(planificateur, nb_secondes):\n",
    "    \"\"\"Cette fonction s'exécute en parallèle pendant nb_secondes secondes.\n",
    "    \n",
    "    Elle appelle la fonction empile_tache un nombre croissant de fois à\n",
    "    chaque itération.\n",
    "    \"\"\"\n",
    "    compteur = 0\n",
    "    nb_taches = 2\n",
    "\n",
    "    # Execute nb_secondes fois la boucle (et attend 1 second à chaque fois)\n",
    "    for _ in range(nb_secondes):\n",
    "        # Empile plusieurs tâches\n",
    "        for _ in range(nb_taches):\n",
    "            def tache():\n",
    "                nonlocal compteur\n",
    "                compteur += 1\n",
    "\n",
    "            empile_tache(planificateur, tache)\n",
    "\n",
    "        # Augmente le nombre de tâches\n",
    "        nb_taches *= 2\n",
    "\n",
    "        # Attend 1 seconde\n",
    "        time.sleep(1)\n",
    "\n",
    "def principal():\n",
    "    \"\"\"Fonction principale qui lance les fils d'exécutions (threads).\"\"\"\n",
    "    planificateur = Planificateur()\n",
    "    nb_secondes = 10\n",
    "\n",
    "    # Création des fils d'exécution\n",
    "    producteur = Thread(None, genere_taches_en_parallele, \"producteur\", [planificateur, nb_secondes])\n",
    "    consommateur = Thread(None, execute_en_parallele, \"consommateur\", [planificateur, nb_secondes])\n",
    "\n",
    "    # Lancement de l'exécution parallèle\n",
    "    producteur.start()\n",
    "    consommateur.start()\n",
    "\n",
    "    # Attente de la fin de l'exécution\n",
    "    producteur.join()\n",
    "    consommateur.join()\n",
    "\n",
    "principal()"
   ],
   "outputs": [
    {
     "output_type": "stream",
     "name": "stdout",
     "text": [
      "\n",
      "\n"
     ]
    }
   ],
   "metadata": {}
  },
  {
   "cell_type": "markdown",
   "source": [
    "Quelles sont vos observations concernant le temps d'exécution à chaque itération ?\n",
    "\n",
    "Dans la fonction `principal`, changez `nb_secondes` et testez la valeur `20` à la place de `10`. Qu'est-ce que vous observez ?\n",
    "\n",
    "Changez maintenant la définition de `Planificateur` en haut de ce paragraphe pour utiliser une `list` à la place d'un `deque` :\n",
    "```py\n",
    "@dataclass\n",
    "class Planificateur:\n",
    "    taches = list()\n",
    "```\n",
    "\n",
    "Executez à nouveau la fonction `principal`. Quels sont vos observations par rapport au temps d'exécution ?"
   ],
   "metadata": {}
  },
  {
   "cell_type": "markdown",
   "source": [
    "\n",
    "<!-- Vos réponses -->\n",
    "\n",
    "*Vos réponses*\n",
    "\n",
    "\n",
    "\n",
    "\n",
    "\n",
    "\n"
   ],
   "metadata": {}
  },
  {
   "cell_type": "markdown",
   "source": [
    "## Exercice 3 - Implémentation d'une queue\n",
    "\n",
    "Vous allez implémenter une queue de messages à l'aide d'une liste chaînée.\n",
    "\n",
    "Vous allez utiliser ces structures de données :"
   ],
   "metadata": {}
  },
  {
   "cell_type": "code",
   "execution_count": null,
   "source": [
    "from dataclasses import dataclass\n",
    "\n",
    "@dataclass\n",
    "class Noeud:\n",
    "    \"\"\"Noeud de la liste chainee.\n",
    "    \n",
    "    La valeur peut etre n'importe quel objet Python valide.\n",
    "    Le suivant doit avoir pour type Noeud ou None.\n",
    "    \"\"\"\n",
    "    valeur = None\n",
    "    suivant = None\n",
    "\n",
    "@dataclass\n",
    "class Queue:\n",
    "    \"\"\"Queue utilisant une liste chainee en interne.\n",
    "\n",
    "    Il s'agit simplement d'un point d'entree vers le 1er noeud\n",
    "    de la liste chainee, nomme initial.\n",
    "    La variable initial doit avoir pour type Noeud ou None.\n",
    "    \"\"\"\n",
    "    initial = None"
   ],
   "outputs": [],
   "metadata": {}
  },
  {
   "cell_type": "markdown",
   "source": [
    "Implémentez les fonctions suivantes selon leurs spécifications :"
   ],
   "metadata": {}
  },
  {
   "cell_type": "code",
   "execution_count": null,
   "source": [
    "def empile_dans_queue(queue, valeur):\n",
    "    \"\"\"Empile la valeur dans la queue.\n",
    "    \n",
    "    Le paramètre queue est une instance de la class Queue.\n",
    "    Le paramètre valeur est la valeur à rajouter dans la queue.\n",
    "    La valeur est ajoutée à la fin de la queue.\n",
    "    \"\"\"\n",
    "    pass\n",
    "\n",
    "def depile_de_queue(queue):\n",
    "    \"\"\"Dépile la 1ière valeur dans la queue.\n",
    "    \n",
    "    Le paramètre queue est une instance de la class Queue.\n",
    "    Le 1er élément de queue est retiré et sa valeur est renvoyée.\n",
    "    \"\"\"\n",
    "    pass"
   ],
   "outputs": [],
   "metadata": {}
  },
  {
   "cell_type": "markdown",
   "source": [
    "## Exercice 4 - Implémentation d'une pile (stack)\n",
    "\n",
    "Vous allez implémenter une pile de messages à l'aide d'une liste chaînée.\n",
    "\n",
    "Vous allez utiliser ces structures de données :"
   ],
   "metadata": {}
  },
  {
   "cell_type": "code",
   "execution_count": null,
   "source": [
    "from dataclasses import dataclass\n",
    "\n",
    "@dataclass\n",
    "class Noeud:\n",
    "    \"\"\"Noeud de la liste chainee.\n",
    "    \n",
    "    La valeur peut etre n'importe quel objet Python valide.\n",
    "    Le suivant doit avoir pour type Noeud ou None.\n",
    "    \"\"\"\n",
    "    valeur = None\n",
    "    suivant = None\n",
    "\n",
    "@dataclass\n",
    "class Pile:\n",
    "    \"\"\"Pile utilisant une liste chainee en interne.\n",
    "\n",
    "    Il s'agit simplement d'un point d'entree vers le 1er noeud\n",
    "    de la liste chainee, nomme initial.\n",
    "    La variable initial doit avoir pour type Noeud ou None.\n",
    "    \"\"\"\n",
    "    initial = None"
   ],
   "outputs": [],
   "metadata": {}
  },
  {
   "cell_type": "markdown",
   "source": [
    "Implémentez les fonctions suivantes selon leurs spécifications :"
   ],
   "metadata": {}
  },
  {
   "cell_type": "code",
   "execution_count": null,
   "source": [
    "def empile_dans_pile(queue, valeur):\n",
    "    \"\"\"Empile la valeur dans la pile.\n",
    "    \n",
    "    Le paramètre pile est une instance de la class Pile.\n",
    "    Le paramètre valeur est la valeur à rajouter dans la pile.\n",
    "    La valeur est ajoutée au début de la pile.\n",
    "    \"\"\"\n",
    "    pass\n",
    "\n",
    "def depile_de_pile(queue):\n",
    "    \"\"\"Dépile la 1ière valeur dans la pile.\n",
    "    \n",
    "    Le paramètre pile est une instance de la class Pile.\n",
    "    Le 1er élément de pile est retiré et sa valeur est renvoyée.\n",
    "    \"\"\"\n",
    "    pass"
   ],
   "outputs": [],
   "metadata": {}
  }
 ],
 "metadata": {
  "orig_nbformat": 4,
  "language_info": {
   "name": "python",
   "version": "3.9.6",
   "mimetype": "text/x-python",
   "codemirror_mode": {
    "name": "ipython",
    "version": 3
   },
   "pygments_lexer": "ipython3",
   "nbconvert_exporter": "python",
   "file_extension": ".py"
  },
  "kernelspec": {
   "name": "python3",
   "display_name": "Python 3.9.6 64-bit"
  },
  "interpreter": {
   "hash": "36cf16204b8548560b1c020c4e8fb5b57f0e4c58016f52f2d4be01e192833930"
  }
 },
 "nbformat": 4,
 "nbformat_minor": 2
}