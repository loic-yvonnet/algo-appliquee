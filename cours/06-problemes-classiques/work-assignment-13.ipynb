{
 "cells": [
  {
   "cell_type": "markdown",
   "source": [
    "# TP 10 - Queues de messages simples\n",
    "\n",
    "Pour chaque exercice, rentrez votre réponse dans l'éditeur Python associé.\n",
    "Enregistrez vos modifications, de préférence au format ipynb, lorsque vous aurez terminé.\n",
    "\n",
    "## Exercice 1 - Tours de Voronoï\n",
    "\n",
    "@TODO - utiliser stack pour résoudre voronoï facilement"
   ],
   "metadata": {}
  },
  {
   "cell_type": "markdown",
   "source": [
    "## Exercice 2 - File d'attente à La Poste\n",
    "\n",
    "Producteurs = personnes qui postent une lettre => ecrire une fonction qui rajoute une lettre\n",
    "Consommateurs = membre du personnel de La Poste qui prennent la lettre et l'envoie => ecrire une fonction qui retire la lettre de la queue de message\n",
    "\n",
    "Mettre dans une boucle quasi-infinie 1 producteur et 1 consommateur.\n",
    "Testez avec 2 producteurs et 1 consommateur, en gros\n",
    "while True:\n",
    "    produce_mail(queue)\n",
    "    produce_mail(queue)\n",
    "    consume_mail(queue)\n",
    "\n",
    "Et regarder la consommation mémoire\n",
    "Que faire pour ajuster le nombre de membres du personnel ? ==> monitoring des queues"
   ],
   "metadata": {}
  },
  {
   "cell_type": "markdown",
   "source": [
    "## Exercice 3 - Planificateur de tâches\n",
    "\n",
    "Dequeue qui contient des fonctions à exécuter.\n",
    "Une autre fonction est en charge de les dépiler et de les exécuter.\n",
    "Comme un scheduler dans un OS..."
   ],
   "metadata": {}
  },
  {
   "cell_type": "markdown",
   "source": [
    "## Exercice 4 - Implémentation d'une queue\n",
    "\n",
    "Utiliser une `list` pour implémenter le enqueue, le dequeue et gérer les cas limites (rien à dequeue, et plus de place pour enqueue)."
   ],
   "metadata": {}
  },
  {
   "cell_type": "markdown",
   "source": [
    "## Exercice 5 - Implémentation d'une stack\n",
    "\n",
    "Idem en mode LIFO"
   ],
   "metadata": {}
  }
 ],
 "metadata": {
  "orig_nbformat": 4,
  "language_info": {
   "name": "python",
   "version": "3.9.6",
   "mimetype": "text/x-python",
   "codemirror_mode": {
    "name": "ipython",
    "version": 3
   },
   "pygments_lexer": "ipython3",
   "nbconvert_exporter": "python",
   "file_extension": ".py"
  },
  "kernelspec": {
   "name": "python3",
   "display_name": "Python 3.9.6 64-bit"
  },
  "interpreter": {
   "hash": "36cf16204b8548560b1c020c4e8fb5b57f0e4c58016f52f2d4be01e192833930"
  }
 },
 "nbformat": 4,
 "nbformat_minor": 2
}