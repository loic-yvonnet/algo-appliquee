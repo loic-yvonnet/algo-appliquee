{
 "cells": [
  {
   "cell_type": "markdown",
   "source": [
    "![Entête CCI](./assets/entete-cci.png)\n",
    "\n",
    "Ce devoir à la maison va donner lieu à une note sur 20. Il doit être rendu avant le début du prochain cours.\n"
   ],
   "metadata": {}
  },
  {
   "cell_type": "markdown",
   "source": [
    "\n",
    "# DM 3 - Ensembles et calcul matriciel\n",
    "\n",
    "Pour chaque exercice, rentrez votre réponse dans l'éditeur Python associé.\n",
    "Enregistrez vos modifications, de préférence au format ipynb, lorsque vous aurez terminé.\n",
    "\n",
    "Vous devrez créer une archive `dm03.zip` contenant tous vos fichiers et l'envoyer à [loic@yvo.solutions](mailto:loic@yvo.solutions).\n",
    "\n",
    "*Astuce* : Lorsque cela est adapté, n'hésitez pas à écrire et déboguer des scripts séparemment puis à revenir ici pour écrire votre réponse.\n"
   ],
   "metadata": {}
  },
  {
   "cell_type": "markdown",
   "source": [
    "\n",
    "## Exerice 1 - Fonction d'ordre supérieur (2 points)\n",
    "\n",
    "Implémentez une fonction somme $\\sum_{i=1}^{n} f(i)$ et une fonction produit $\\prod_{i=1}^{n} f(i)$.\n",
    "\n",
    "Par exemple :\n",
    "```py\n",
    "f1 = lambda x : x\n",
    "f2 = lambda x : x ** 2\n",
    "\n",
    "total1 = somme(f1, 1, 2, 3, 4) # 1 + 2 + 3 + 4 = 10\n",
    "total2 = somme(f2, 1, 2, 3)    # 1**2 + 2**2 + 3**2 = 1 + 4 + 9 = 14\n",
    "\n",
    "print(total1)\n",
    "print(total2)\n",
    "```\n",
    "\n",
    "doit afficher :\n",
    "```\n",
    "10\n",
    "14\n",
    "```\n",
    "\n",
    "Autre exemple :\n",
    "```py\n",
    "total1 = produit(f1, 1, 2, 3, 4) # 1 * 2 * 3 * 4 = 24\n",
    "total2 = produit(f2, 1, 2, 3)    # 1**2 * 2**2 * 3**2 = 1 * 4 * 9 = 36\n",
    "\n",
    "print(total1)\n",
    "print(total2)\n",
    "```\n",
    "\n",
    "doit afficher :\n",
    "```\n",
    "24\n",
    "36\n",
    "```"
   ],
   "metadata": {}
  },
  {
   "cell_type": "code",
   "execution_count": null,
   "source": [
    "\n",
    "\n"
   ],
   "outputs": [],
   "metadata": {}
  },
  {
   "cell_type": "markdown",
   "source": [
    "## Exercice 2 - Gestion d'ensembles avec des sets (3 points)\n",
    "\n",
    "Vous aller implémenter les fonction `union_set`, `intersection_set`, `exclusion_set`.\n",
    "\n",
    "### Exercice 2.1 - Union (1 point)\n",
    "\n",
    "Implémentez la fonction `union_set` qui renvoie l'union des 2 sets en entrée.\n",
    "\n",
    "Par exemple : \n",
    "```py\n",
    "set1 = {1, 2, 3}\n",
    "set2 = {2, 3, 4}\n",
    "set3 = union_set(set1, set2)\n",
    "print(set3)\n",
    "```\n",
    "\n",
    "doit afficher :\n",
    "```\n",
    "{1, 2, 3, 4}\n",
    "```"
   ],
   "metadata": {}
  },
  {
   "cell_type": "code",
   "execution_count": null,
   "source": [
    "\n",
    "\n",
    "\n",
    "\n"
   ],
   "outputs": [],
   "metadata": {}
  },
  {
   "cell_type": "markdown",
   "source": [
    "### Exercice 2.2 - Intersection (1 point)\n",
    "\n",
    "Implémentez la fonction `intersection_set` qui renvoie l'intersection des 2 sets en entrée.\n",
    "\n",
    "Par exemple : \n",
    "```py\n",
    "set1 = {1, 2, 3}\n",
    "set2 = {2, 3, 4}\n",
    "set3 = intersection_set(set1, set2)\n",
    "print(set3)\n",
    "```\n",
    "\n",
    "doit afficher :\n",
    "```\n",
    "{2, 3}\n",
    "```"
   ],
   "metadata": {}
  },
  {
   "cell_type": "code",
   "execution_count": null,
   "source": [
    "\n",
    "\n",
    "\n",
    "\n"
   ],
   "outputs": [],
   "metadata": {}
  },
  {
   "cell_type": "markdown",
   "source": [
    "### Exercice 2.3 - Exclusion (1 point)\n",
    "\n",
    "Implémentez la fonction `exclusion_set` qui renvoie l'intersection des 2 sets en entrée.\n",
    "\n",
    "Par exemple : \n",
    "```py\n",
    "set1 = {1, 2, 3}\n",
    "set2 = {2, 3, 4}\n",
    "set3 = exclusion_set(set1, set2)\n",
    "print(set3)\n",
    "```\n",
    "\n",
    "doit afficher :\n",
    "```\n",
    "{1, 4}\n",
    "```"
   ],
   "metadata": {}
  },
  {
   "cell_type": "code",
   "execution_count": null,
   "source": [
    "\n",
    "\n",
    "\n",
    "\n"
   ],
   "outputs": [],
   "metadata": {}
  },
  {
   "cell_type": "markdown",
   "source": [
    "## Exercice 3 - Gestion d'ensembles avec des listes chaînées (6 points)\n",
    "\n",
    "Dans le TP 9, vous avez implémenté une bibliothèque de fonctions de manipulation d'une liste chaînée. Vous allez compléter cette bibliothèque en ajoutant des fonctions de gestion d'ensembles.\n",
    "\n",
    "*Astuces* :\n",
    "* Vous pouvez créer une fonction `creer_liste_python` qui transforme une liste chaînée en une liste python :\n",
    "```python\n",
    "def creer_liste_python(L):\n",
    "    liste = []\n",
    "\n",
    "    noeud = L.initial\n",
    "    while noeud != None:\n",
    "        liste.append(noeud.valeur)\n",
    "        noeud = noeud.suivant\n",
    "\n",
    "    return liste\n",
    "\n",
    "L = creer_liste_chainee(1, 2, 3) # 1 → 2 → 3\n",
    "liste = creer_liste_python(L)    # [1, 2, 3]\n",
    "print(liste)\n",
    "```\n",
    "* Vous pouvez utiliser la fonction `creer_liste_chainee` de la manière suivante :\n",
    "```python\n",
    "L2 = creer_liste_chainee(*liste) # 1 → 2 → 3\n",
    "affiche_liste(L2)\n",
    "```\n",
    "* Ainsi, vous pouvez utiliser temporairement des listes Python pour effectuer vos opérations d'union, intersection et exclusion plus facilement.\n",
    "* Une fois que vous avez terminé vos opérations avec des listes Python, vous pouvez convertir le résultat en une liste chaînée.\n",
    "* Insérer ici le code que vous avez écrit dans le cadre du TP 9."
   ],
   "metadata": {}
  },
  {
   "cell_type": "code",
   "execution_count": null,
   "source": [
    "\n",
    "\n",
    "\n",
    "#\n",
    "# Copier/coller le code du TP 9\n",
    "#\n",
    "\n"
   ],
   "outputs": [],
   "metadata": {}
  },
  {
   "cell_type": "markdown",
   "source": [
    "\n",
    "### Exercice 3.1 - Union (2 points)\n",
    "\n",
    "Implémentez la fonction `union_liste` qui renvoie l'union des 2 listes chaînées en entrée.\n",
    "\n",
    "Par exemple : \n",
    "```py\n",
    "L1 = creer_liste_chainee(1, 2, 3)\n",
    "L2 = creer_liste_chainee(2, 3, 4)\n",
    "L3 = union_liste(L1, L2)\n",
    "affiche_liste(L3)\n",
    "```\n",
    "\n",
    "doit afficher :\n",
    "```\n",
    "1 → 2 → 3 → 4\n",
    "```"
   ],
   "metadata": {}
  },
  {
   "cell_type": "code",
   "execution_count": null,
   "source": [
    "\n",
    "\n",
    "\n",
    "\n"
   ],
   "outputs": [],
   "metadata": {}
  },
  {
   "cell_type": "markdown",
   "source": [
    "### Exercice 3.2 - Intersection (2 points)\n",
    "\n",
    "Implémentez la fonction `intersection_liste` qui renvoie l'intersection des 2 listes chaînées en entrée.\n",
    "\n",
    "Par exemple : \n",
    "```py\n",
    "L1 = creer_liste_chainee(1, 2, 3)\n",
    "L2 = creer_liste_chainee(2, 3, 4)\n",
    "L3 = intersection_liste(L1, L2)\n",
    "affiche_liste(L3)\n",
    "```\n",
    "\n",
    "doit afficher :\n",
    "```\n",
    "2 → 3\n",
    "```"
   ],
   "metadata": {}
  },
  {
   "cell_type": "code",
   "execution_count": null,
   "source": [
    "\n",
    "\n",
    "\n",
    "\n"
   ],
   "outputs": [],
   "metadata": {}
  },
  {
   "cell_type": "markdown",
   "source": [
    "### Exercice 3.3 - Exclusion (2 points)\n",
    "\n",
    "Implémentez la fonction `exclusion_liste` qui renvoie l'exclusion des 2 listes chaînées en entrée.\n",
    "\n",
    "Par exemple : \n",
    "```py\n",
    "L1 = creer_liste_chainee(1, 2, 3)\n",
    "L2 = creer_liste_chainee(2, 3, 4)\n",
    "L3 = exclusion_liste(L1, L2)\n",
    "affiche_liste(L3)\n",
    "```\n",
    "\n",
    "doit afficher :\n",
    "```\n",
    "1 → 4\n",
    "```"
   ],
   "metadata": {}
  },
  {
   "cell_type": "code",
   "execution_count": null,
   "source": [
    "\n",
    "\n",
    "\n",
    "\n"
   ],
   "outputs": [],
   "metadata": {}
  },
  {
   "cell_type": "markdown",
   "source": [
    "## Exercice 4 - Calcul matriciel (9 points)\n",
    "\n",
    "Dans les prochains exercices, vous allez être amenés à implémenter des algorithmes de calcul matriciel. Les nouvelles fonctions que vous allez implémenter vont venir compléter celles développées dans le cadre du TD 3.\n"
   ],
   "metadata": {}
  },
  {
   "cell_type": "markdown",
   "source": [
    "\n",
    "### Exercice 4.1 - Reprendre la bibliothèque du TD 3 (1 point)\n",
    "\n",
    "Insérer ici le code que vous avez écrit dans le cadre du TD 3.\n"
   ],
   "metadata": {}
  },
  {
   "cell_type": "code",
   "execution_count": null,
   "source": [
    "\n",
    "\n",
    "#\n",
    "# Copier/coller le code du TD 3\n",
    "#\n",
    "\n"
   ],
   "outputs": [],
   "metadata": {}
  },
  {
   "cell_type": "markdown",
   "source": [
    "### Exercice 4.2 - Matrices triangulaires (2 points)\n",
    "\n",
    "Il existe 2 types de matrices triangulaires :\n",
    "* Les matrices triangulaires supérieures, dont tous les éléments sous la diagonale sont égaux à 0.\n",
    "* Les matrices triangulaires inférieures, dont tous les éléments au-dessus de la diagonale sont égaux à 0.\n",
    "\n",
    "Par exemple :\n",
    "\n",
    "$$\n",
    "A = \n",
    "\\begin{pmatrix}\n",
    "    1 & 2 & 3 \\\\\n",
    "    0 & 4 & 5 \\\\\n",
    "    0 & 0 & 6\n",
    "\\end{pmatrix}\n",
    "$$\n",
    "\n",
    "est une matrice triangulaire supérieure.\n",
    "\n",
    "Ecrivez les fonctions `est_triangulaire_sup` et `est_triangulaire_inf` qui renvoient `True` si la matrice en entrée est respectivement une matrice triangulaire supérieure ou inférieure.\n",
    "\n",
    "Par exemple :\n",
    "```py\n",
    "A = [\n",
    "    [1, 2, 3],\n",
    "    [0, 4, 5],\n",
    "    [0, 0, 6]\n",
    "]\n",
    "sup = est_triangulaire_sup(A)\n",
    "inf = est_triangulaire_inf(A)\n",
    "print(f\"Supérieure : {sup} ; Inférieure : {inf}\")\n",
    "```\n",
    "\n",
    "doit afficher :\n",
    "```\n",
    "Supérieure : True ; Inférieure : False\n",
    "```"
   ],
   "metadata": {}
  },
  {
   "cell_type": "code",
   "execution_count": null,
   "source": [
    "\n",
    "\n",
    "\n"
   ],
   "outputs": [],
   "metadata": {}
  },
  {
   "cell_type": "markdown",
   "source": [
    "### Exercice 4.3 - Matrices diagonales (2 points)\n",
    "\n",
    "Une matrice diagonale comporte des éléments non-nuls uniquement sur sa diagonale. Seule une matrice diagonale est à la fois triangulaire supérieure et inférieure.\n",
    "\n",
    "Par exemple :\n",
    "\n",
    "$$\n",
    "A = \n",
    "\\begin{pmatrix}\n",
    "    1 & 0 & 0 \\\\\n",
    "    0 & 2 & 0 \\\\\n",
    "    0 & 0 & 3\n",
    "\\end{pmatrix}\n",
    "$$\n",
    "\n",
    "est une matrice diagonale.\n",
    "\n",
    "Ecrivez la fonction `est_diagonale` qui revoie `True` si la matrice en entrée est diagonale.\n",
    "\n",
    "Par exemple :\n",
    "```py\n",
    "A = [\n",
    "    [1, 0, 0],\n",
    "    [0, 4, 0],\n",
    "    [0, 0, 6]\n",
    "]\n",
    "diag = est_diagonale(A)\n",
    "print(f\"Diagonale : {diag}\")\n",
    "```\n",
    "\n",
    "doit afficher :\n",
    "```\n",
    "Diagonale : True\n",
    "```"
   ],
   "metadata": {}
  },
  {
   "cell_type": "code",
   "execution_count": null,
   "source": [
    "\n",
    "\n",
    "\n"
   ],
   "outputs": [],
   "metadata": {}
  },
  {
   "cell_type": "markdown",
   "source": [
    "### Exercice 4.4 - Matrice identité (2 points)\n",
    "\n",
    "La matrice $I$ est appelée la matrice identité car il s'agit de l'élément neutre de la multiplication matricielle. Cela signifie que $A \\cdot I = I \\cdot A = A$. Il s'agit d'une matrice diagonale dont tous les éléments sont égaux à 1.\n",
    "\n",
    "Ecrivez la fonction `I` qui prend un paramètre entier `n` et renvoie une matrice identité de taille `n`.\n",
    "\n",
    "Par exemple : \n",
    "```py\n",
    "I2 = I(2)\n",
    "I4 = I(4)\n",
    "print(\"I2 = \")\n",
    "affiche_matrice(I2)\n",
    "print(\"I4 = \")\n",
    "affiche_matrice(I4)\n",
    "```\n",
    "\n",
    "doit afficher :\n",
    "```\n",
    "I2 = \n",
    "╭           ╮\n",
    "│   1   0   │\n",
    "│   0   1   │\n",
    "╰           ╯\n",
    "I4 =\n",
    "╭                   ╮\n",
    "│   1   0   0   0   │\n",
    "│   0   1   0   0   │\n",
    "│   0   0   1   0   │\n",
    "│   0   0   0   1   │\n",
    "╰                   ╯\n",
    "```"
   ],
   "metadata": {}
  },
  {
   "cell_type": "code",
   "execution_count": null,
   "source": [
    "\n",
    "\n"
   ],
   "outputs": [],
   "metadata": {}
  },
  {
   "cell_type": "markdown",
   "source": [
    "### Exercice 4.5 - Matrice augmentée (2 points)\n",
    "\n",
    "On note $[A | B]$ la matrice $A$ augmentée de la matrice $B$. La matrice $B$ doit avoir autant de lignes que la matrice $A$.\n",
    "\n",
    "Autrement dit, soit :\n",
    "\n",
    "$$\n",
    "A = \n",
    "\\begin{pmatrix}\n",
    "    a_1 & a_4 & a_7 \\\\\n",
    "    a_2 & a_5 & a_8 \\\\\n",
    "    a_3 & a_6 & a_9\n",
    "\\end{pmatrix},\n",
    "\\quad\\text{et}\\quad\n",
    "B = \\begin{pmatrix} \n",
    "    b_1 & b_4 \\\\\n",
    "    b_2 & b_5 \\\\\n",
    "    b_3 & b_6\n",
    "\\end{pmatrix}\n",
    "$$\n",
    "\n",
    "On a alors :\n",
    "\n",
    "$$\n",
    "[A | B] = \n",
    "\\begin{pmatrix}\n",
    "    a_1 & a_4 & a_7 & b_1 & b_4 \\\\\n",
    "    a_2 & a_5 & a_8 & b_2 & b_5 \\\\\n",
    "    a_3 & a_6 & a_9 & b_3 & b_6\n",
    "\\end{pmatrix},\n",
    "$$\n",
    "\n",
    "Il s'agit donc d'une concaténation de A et B.\n",
    "\n",
    "Ecrivez la fonction `augmente_matrice` qui prend 2 matrices en argument et renvoie la matrice augmentée, si le nombre de lignes est égal.\n",
    "\n",
    "Par exemple :\n",
    "```py\n",
    "A = [\n",
    "    [1, 2, 3],\n",
    "    [2, 3, 4],\n",
    "    [4, 5, 6]\n",
    "]\n",
    "B = [\n",
    "    [10, 11],\n",
    "    [12, 13],\n",
    "    [14, 15]\n",
    "]\n",
    "AB = augmente_matrice(A, B)\n",
    "affiche_matrice(AB)\n",
    "```\n",
    "\n",
    "doit afficher :\n",
    "```\n",
    "╭                             ╮\n",
    "│    1    2    3   10   11    │\n",
    "│    2    3    4   12   13    │\n",
    "│    4    5    6   14   15    │\n",
    "╰                             ╯\n",
    "```\n",
    "\n",
    "*Astuce* : Vous pouvez utiliser la fonction `extend` sur une `list`.\n",
    "```python\n",
    "L1 = [1, 2, 3]\n",
    "L2 = [4, 5]\n",
    "L1.extend(L2)\n",
    "print(L1) # [1, 2, 3, 4, 5]\n",
    "```"
   ],
   "metadata": {}
  },
  {
   "cell_type": "code",
   "execution_count": null,
   "source": [
    "\n",
    "\n"
   ],
   "outputs": [],
   "metadata": {}
  }
 ],
 "metadata": {
  "orig_nbformat": 4,
  "language_info": {
   "name": "python",
   "version": "3.9.7",
   "mimetype": "text/x-python",
   "codemirror_mode": {
    "name": "ipython",
    "version": 3
   },
   "pygments_lexer": "ipython3",
   "nbconvert_exporter": "python",
   "file_extension": ".py"
  },
  "kernelspec": {
   "name": "python3",
   "display_name": "Python 3.9.7 64-bit"
  },
  "interpreter": {
   "hash": "36cf16204b8548560b1c020c4e8fb5b57f0e4c58016f52f2d4be01e192833930"
  }
 },
 "nbformat": 4,
 "nbformat_minor": 2
}