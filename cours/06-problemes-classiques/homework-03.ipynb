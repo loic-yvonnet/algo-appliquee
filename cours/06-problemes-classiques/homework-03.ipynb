{
 "cells": [
  {
   "cell_type": "markdown",
   "source": [
    "# DM 3 - Ensembles et calcul matriciel\n",
    "\n",
    "Pour chaque exercice, rentrez votre réponse dans l'éditeur Python associé.\n",
    "Enregistrez vos modifications, de préférence au format ipynb, lorsque vous aurez terminé.\n",
    "\n",
    "*Astuce* : Lorsque cela est adapté, n'hésitez pas à écrire et déboguer des scripts séparemment puis à revenir ici pour écrire votre réponse.\n",
    "\n",
    "## Exerice 1 - Echauffement\n",
    "\n",
    "Implémentez une fonction somme $\\sum_{i=1}^{n} f(i)$ et une fonction produit $\\prod_{i=1}^{n} f(i)$."
   ],
   "metadata": {}
  },
  {
   "cell_type": "code",
   "execution_count": null,
   "source": [],
   "outputs": [],
   "metadata": {}
  },
  {
   "cell_type": "markdown",
   "source": [
    "## Exercice 2 - Implémenter des fonctions de gestion d'ensemble avec des Sets (union, intersection, exclusion)\n",
    "\n",
    "@TODO"
   ],
   "metadata": {}
  },
  {
   "cell_type": "code",
   "execution_count": null,
   "source": [],
   "outputs": [],
   "metadata": {}
  },
  {
   "cell_type": "markdown",
   "source": [
    "## Exercice 3 - Implémenter des fonctions de calcul matriciel avancées (diagonalisation, inversion, méthode de Gauss).\n",
    "\n",
    "@TODO"
   ],
   "metadata": {}
  }
 ],
 "metadata": {
  "orig_nbformat": 4,
  "language_info": {
   "name": "python",
   "version": "3.9.6",
   "mimetype": "text/x-python",
   "codemirror_mode": {
    "name": "ipython",
    "version": 3
   },
   "pygments_lexer": "ipython3",
   "nbconvert_exporter": "python",
   "file_extension": ".py"
  },
  "kernelspec": {
   "name": "python3",
   "display_name": "Python 3.9.6 64-bit"
  },
  "interpreter": {
   "hash": "36cf16204b8548560b1c020c4e8fb5b57f0e4c58016f52f2d4be01e192833930"
  }
 },
 "nbformat": 4,
 "nbformat_minor": 2
}