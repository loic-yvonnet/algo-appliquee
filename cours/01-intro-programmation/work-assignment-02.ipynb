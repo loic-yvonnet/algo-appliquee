{
 "cells": [
  {
   "cell_type": "markdown",
   "metadata": {},
   "source": [
    "# TP 2\n",
    "\n",
    "Dans ce TP, vous allez écrire vos premières lignes en code en Python.\n",
    "\n",
    "Commencez par exécuter le code ci-dessous en cliquant sur le bouton représentant une flèche vers la droite : cela permet d'exécuter le code en question.\n",
    "\n",
    "Notez qu'il existe un bouton Exécuter à côté de chaque encadré, et qui permet d'exécuter uniquement le code de cet encadré. Il existe également un bouton Exécuter Tout situé tout en haut de la page."
   ]
  },
  {
   "cell_type": "code",
   "execution_count": null,
   "metadata": {},
   "outputs": [],
   "source": [
    "print(\"Bonjour, monde\")"
   ]
  },
  {
   "cell_type": "markdown",
   "metadata": {},
   "source": [
    "L'exécution du code ci-dessus affiche \"Bonjour, monde\". Un programme \"Hello, World\" en anglais est souvent le premier programme que l'on écrit pour découvrir un nouveau langage de programmation.\n",
    "\n",
    "Cela permet d'afficher dans la console le texte écrit entre guillemets. Vous venez donc d'exécuter votre premier programme Python.\n",
    "\n",
    "Maintenant, écrivez simple le chiffre 1 dans l'encadré ci-dessous et cliquez sur Exécuter."
   ]
  },
  {
   "cell_type": "code",
   "execution_count": null,
   "metadata": {},
   "outputs": [],
   "source": [
    "1"
   ]
  }
 ],
 "metadata": {
  "interpreter": {
   "hash": "31f2aee4e71d21fbe5cf8b01ff0e069b9275f58929596ceb00d14d90e3e16cd6"
  },
  "kernelspec": {
   "display_name": "Python 3.6.9 64-bit",
   "name": "python3"
  },
  "language_info": {
   "name": "python",
   "version": ""
  },
  "orig_nbformat": 4
 },
 "nbformat": 4,
 "nbformat_minor": 2
}