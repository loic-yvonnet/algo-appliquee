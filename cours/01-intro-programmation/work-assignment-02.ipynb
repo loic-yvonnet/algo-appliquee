{
 "cells": [
  {
   "cell_type": "markdown",
   "metadata": {},
   "source": [
    "# TP 2 - Familiarisation avec Python et Jupyter Notebook\n",
    "\n",
    "Dans ce TP, vous allez écrire vos premières lignes de code **en Python**.\n",
    "\n",
    "Pour cela, vous utilisez **Jupyter Notebook** : un carnet de notes qui vous permet d'exécuter du code Python depuis une page web sans avoir à installer quoique ce soit sur votre machine.\n",
    "\n",
    "Jupyter Notebook est uniquement un environnement de travail à **but pédagogique**. Il est utilisé dans le monde de l'éducation pour enseigner le Python, l'algorithmique, la Data Science, etc. Il est également utilisé dans le **monde de la recherche** pour présenter des travaux et tester différentes approches.\n",
    "\n",
    "En revanche, Jupyter Notebook n'est *pas* utilisé dans le monde de l'édition logicielle ou dans l'industrie. A la place, les développeurs installent sur leur machine un **environnement de développement** pour travailler. Dans un prochain TP, nous explorerons également cette approche.\n",
    "\n",
    "Il existe 2 types de zones dans Jupyter :\n",
    "* les **zones de texte** (Markdown): la zone actuelle *est* une zone de texte,\n",
    "* les **zones de programmation** (Code) : identifiable aux encadrés gris et au préfix `In [ ]`.\n",
    "\n",
    "Il est possible d'activer une zone en cliquant dessus (clic gauche simple).\n",
    "\n",
    "Cliquez sur la zone de programmation ci-dessous (où il est écrit `print(\"Boujour, monde\")`). Observez l'activation de cette zone, qui est reflétée par un encadré supplémentaire. Cette zone de programmation contient déjà un programme Python très simple. Pour l'exécuter, vous devez cliquer sur le bouton :arrow_forward: **Run** situé dans le menu en haut."
   ]
  },
  {
   "cell_type": "code",
   "execution_count": 56,
   "metadata": {},
   "outputs": [
    {
     "name": "stdout",
     "output_type": "stream",
     "text": [
      "Bonjour, monde\n"
     ]
    }
   ],
   "source": [
    "print(\"Bonjour, monde\")"
   ]
  },
  {
   "cell_type": "markdown",
   "metadata": {},
   "source": [
    "L'exécution du code ci-dessus affiche \"Bonjour, monde\". Un programme \"Hello, World\" en anglais est souvent le premier programme que l'on écrit pour découvrir un nouveau langage de programmation.\n",
    "\n",
    "Cela permet d'afficher dans la sortie standard de la console le texte écrit entre guillemets. Nous reviendrons sur les notions de sortie standard et de console dans le prochain cours. A ce stade, il est simplement important de comprendre et de retenir que vous venez d'exécuter votre premier programme Python :+1:.\n",
    "\n",
    "Maintenant, cliquez dans l'encadré ci-dessous et cliquez sur **Run**."
   ]
  },
  {
   "cell_type": "code",
   "execution_count": 57,
   "metadata": {},
   "outputs": [
    {
     "data": {
      "text/plain": [
       "1"
      ]
     },
     "execution_count": 57,
     "metadata": {},
     "output_type": "execute_result"
    }
   ],
   "source": [
    "1"
   ]
  },
  {
   "cell_type": "markdown",
   "metadata": {},
   "source": [
    "Vous voyez que 1 est affiché en sortie. Jupyter renvoie le résultat de l'exécution de la dernière instruction qu'il trouve.\n",
    "\n",
    "Pour vous en convaincre, exécutez le programme ci-dessous :"
   ]
  },
  {
   "cell_type": "code",
   "execution_count": 58,
   "metadata": {},
   "outputs": [
    {
     "data": {
      "text/plain": [
       "2"
      ]
     },
     "execution_count": 58,
     "metadata": {},
     "output_type": "execute_result"
    }
   ],
   "source": [
    "1\n",
    "2"
   ]
  },
  {
   "cell_type": "markdown",
   "metadata": {},
   "source": [
    "Cette fois-ci, la sortie est `2`, car il s'agit de la dernière instruction.\n",
    "\n",
    "## Les opérateurs arithmétiques\n",
    "\n",
    "Nous allons maintenant faire un peu de calcul basique :"
   ]
  },
  {
   "cell_type": "code",
   "execution_count": 59,
   "metadata": {},
   "outputs": [
    {
     "data": {
      "text/plain": [
       "2"
      ]
     },
     "execution_count": 59,
     "metadata": {},
     "output_type": "execute_result"
    }
   ],
   "source": [
    "1 + 1"
   ]
  },
  {
   "cell_type": "markdown",
   "metadata": {},
   "source": [
    "Sans surprise, le résultat est `2`.\n",
    "\n",
    "Evidemment, on peut aussi soustraire 2 nombres avec l'opérateur `-` :"
   ]
  },
  {
   "cell_type": "code",
   "execution_count": 60,
   "metadata": {},
   "outputs": [
    {
     "data": {
      "text/plain": [
       "2"
      ]
     },
     "execution_count": 60,
     "metadata": {},
     "output_type": "execute_result"
    }
   ],
   "source": [
    "6 - 4"
   ]
  },
  {
   "cell_type": "markdown",
   "metadata": {},
   "source": [
    "Ce qui nous donne `2` à nouveau.\n",
    "\n",
    "Les nombres négatifs sont précédés du caractère `-` :"
   ]
  },
  {
   "cell_type": "code",
   "execution_count": 61,
   "metadata": {},
   "outputs": [
    {
     "data": {
      "text/plain": [
       "-12"
      ]
     },
     "execution_count": 61,
     "metadata": {},
     "output_type": "execute_result"
    }
   ],
   "source": [
    "-4 - 8"
   ]
  },
  {
   "cell_type": "markdown",
   "metadata": {},
   "source": [
    "On obtient `-12`.\n",
    "\n",
    "Le caractère `*` représente une multiplication dans la plupart des langages de programmation :"
   ]
  },
  {
   "cell_type": "code",
   "execution_count": 62,
   "metadata": {},
   "outputs": [
    {
     "data": {
      "text/plain": [
       "6"
      ]
     },
     "execution_count": 62,
     "metadata": {},
     "output_type": "execute_result"
    }
   ],
   "source": [
    "2 * 3"
   ]
  },
  {
   "cell_type": "markdown",
   "metadata": {},
   "source": [
    "Encore une fois, pas de grande surprise : on s'attend à voir `6`.\n",
    "\n",
    "Le caractère `\\` représente une division :"
   ]
  },
  {
   "cell_type": "code",
   "execution_count": 63,
   "metadata": {},
   "outputs": [
    {
     "data": {
      "text/plain": [
       "1.5"
      ]
     },
     "execution_count": 63,
     "metadata": {},
     "output_type": "execute_result"
    }
   ],
   "source": [
    "3 / 2"
   ]
  },
  {
   "cell_type": "markdown",
   "metadata": {},
   "source": [
    "Cette fois-ci, vous devriez obtenir `1.5`. Notez que le caractère `.` est utilisé pour séparer la partie entière de la partie décimale. Cette convention vient de la langue anglo-saxonne qui utilise cette représentation des nombres réels. Cette différence est importante avec les mathématiques telles qu'elles sont enseignées en France et qui utilise le caractère `,` à la place.\n",
    "\n",
    "En résumé, là où un français dira \"un virgule cinq\", un anglo-saxon dira \"one dot five\", c'est-à-dire \"un point cinq\". La quasi-totalité des langages de programmation utilisent la notation anglo-saxonne avec un point.\n",
    "\n",
    "Tant que l'on parle de division, on vous a toujours expliqué que la division par zéro était impossible. Soyons perfides :imp: 1 minute et regardons si on peut faire une blague à Python :"
   ]
  },
  {
   "cell_type": "code",
   "execution_count": 64,
   "metadata": {},
   "outputs": [
    {
     "ename": "ZeroDivisionError",
     "evalue": "division by zero",
     "output_type": "error",
     "traceback": [
      "\u001b[0;31m---------------------------------------------------------------------------\u001b[0m",
      "\u001b[0;31mZeroDivisionError\u001b[0m                         Traceback (most recent call last)",
      "\u001b[0;32m<ipython-input-64-bc757c3fda29>\u001b[0m in \u001b[0;36m<module>\u001b[0;34m\u001b[0m\n\u001b[0;32m----> 1\u001b[0;31m \u001b[0;36m1\u001b[0m \u001b[0;34m/\u001b[0m \u001b[0;36m0\u001b[0m\u001b[0;34m\u001b[0m\u001b[0;34m\u001b[0m\u001b[0m\n\u001b[0m",
      "\u001b[0;31mZeroDivisionError\u001b[0m: division by zero"
     ]
    }
   ],
   "source": [
    "1 / 0"
   ]
  },
  {
   "cell_type": "markdown",
   "metadata": {},
   "source": [
    "Des messages d'erreur s'affichent. Ne vous inquiétez pas, vous n'avez rien cassé ! Python a détecté que vous faisiez une opération de division par zéro et vous en informe avec une exception `ZeroDivisionError`.\n",
    "\n",
    "Nous reviendrons sur les exceptions dans un prochain cours.\n",
    "\n",
    "Légérement plus compliqué, le symbole `\\\\` permet d'effectuer une division entière. Cela signifie que la valeur renvoyée est la partie entière du résultat de la division :"
   ]
  },
  {
   "cell_type": "code",
   "execution_count": null,
   "metadata": {},
   "outputs": [],
   "source": [
    "3 // 2"
   ]
  },
  {
   "cell_type": "markdown",
   "metadata": {},
   "source": [
    "Cela devrait vous renvoyer `1`."
   ]
  },
  {
   "cell_type": "markdown",
   "metadata": {},
   "source": [
    "Prenons un autre exemple :"
   ]
  },
  {
   "cell_type": "code",
   "execution_count": null,
   "metadata": {},
   "outputs": [],
   "source": [
    "23 // 3"
   ]
  },
  {
   "cell_type": "markdown",
   "metadata": {},
   "source": [
    "Cela devrait vous renvoyer `7` car :"
   ]
  },
  {
   "cell_type": "code",
   "execution_count": null,
   "metadata": {},
   "outputs": [],
   "source": [
    "23 / 3"
   ]
  },
  {
   "cell_type": "markdown",
   "metadata": {},
   "source": [
    "Un autre concept important est le modulo, représenté par le symbole `%`. Il renvoit le reste de la division :"
   ]
  },
  {
   "cell_type": "code",
   "execution_count": null,
   "metadata": {},
   "outputs": [],
   "source": [
    "23 % 3"
   ]
  },
  {
   "cell_type": "markdown",
   "metadata": {},
   "source": [
    "Expliquez la relation entre ces 3 instructions :"
   ]
  },
  {
   "cell_type": "code",
   "execution_count": null,
   "metadata": {},
   "outputs": [],
   "source": [
    "23 // 3"
   ]
  },
  {
   "cell_type": "code",
   "execution_count": null,
   "metadata": {},
   "outputs": [],
   "source": [
    "23 % 3"
   ]
  },
  {
   "cell_type": "code",
   "execution_count": null,
   "metadata": {},
   "outputs": [],
   "source": [
    "3 * 7 + 2"
   ]
  },
  {
   "cell_type": "markdown",
   "metadata": {},
   "source": [
    "Il est d'ailleurs bien évidemment possible de combiner des opérations, comme on peut le voir dans le dernier exemple ci-dessus, et également dans l'exemple suivant :"
   ]
  },
  {
   "cell_type": "code",
   "execution_count": null,
   "metadata": {},
   "outputs": [],
   "source": [
    "2 * 3 + 1"
   ]
  },
  {
   "cell_type": "markdown",
   "metadata": {},
   "source": [
    "Les opérations sont priorisés généralement comme en mathématiques. Par exemple, la multiplication a la priorité sur l'addition :"
   ]
  },
  {
   "cell_type": "code",
   "execution_count": null,
   "metadata": {},
   "outputs": [
    {
     "data": {
      "text/plain": [
       "7"
      ]
     },
     "execution_count": 2,
     "metadata": {},
     "output_type": "execute_result"
    }
   ],
   "source": [
    "1 + 2 * 3"
   ]
  },
  {
   "cell_type": "markdown",
   "metadata": {},
   "source": [
    "Il est possible d'utiliser des paranthèses pour changer l'ordre d'exécution, comme en mathématiques :"
   ]
  },
  {
   "cell_type": "code",
   "execution_count": null,
   "metadata": {},
   "outputs": [
    {
     "data": {
      "text/plain": [
       "9"
      ]
     },
     "execution_count": 1,
     "metadata": {},
     "output_type": "execute_result"
    }
   ],
   "source": [
    "(1 + 2) * 3"
   ]
  },
  {
   "cell_type": "code",
   "execution_count": null,
   "metadata": {},
   "outputs": [
    {
     "data": {
      "text/plain": [
       "23"
      ]
     },
     "execution_count": 4,
     "metadata": {},
     "output_type": "execute_result"
    }
   ],
   "source": [
    "3 * (23 // 3) + (23 % 3)"
   ]
  },
  {
   "cell_type": "code",
   "execution_count": null,
   "metadata": {},
   "outputs": [],
   "source": [
    "3 * 23 // 3 + 23 % 3"
   ]
  },
  {
   "cell_type": "markdown",
   "metadata": {},
   "source": [
    "L'opérateur `**` permet d'élever un nombre à une puissance. Donc $2^3$ devient :"
   ]
  },
  {
   "cell_type": "code",
   "execution_count": null,
   "metadata": {},
   "outputs": [
    {
     "data": {
      "text/plain": [
       "8"
      ]
     },
     "execution_count": 5,
     "metadata": {},
     "output_type": "execute_result"
    }
   ],
   "source": [
    "2 ** 3"
   ]
  },
  {
   "cell_type": "markdown",
   "metadata": {},
   "source": [
    "Jusqu'à présent, nous avons manipulé uniquement des nombres entiers naturels IN et des nombres réels IR. En informatique, on parle de **types** :\n",
    "* `integer` (entier) pour la représentation des nombres entiers naturels,\n",
    "* `floating-point` (à point flottant) pour la représentation des nombres réels.\n",
    "\n",
    "Sans rentrer dans les détails, il s'agit uniquement d'une sous-partie de ces ensembles. En effet, les limites physiques d'une machine contraignent l'espace que les valeurs peuvent prendre.\n",
    "\n",
    "Voici une illustration. Quel devrait être les résultats de ces calculs ?"
   ]
  },
  {
   "cell_type": "code",
   "execution_count": null,
   "metadata": {},
   "outputs": [
    {
     "data": {
      "text/plain": [
       "0.3333333333333333"
      ]
     },
     "output_type": "unknown"
    }
   ],
   "source": [
    "1 / 3"
   ]
  },
  {
   "cell_type": "code",
   "execution_count": null,
   "metadata": {},
   "outputs": [
    {
     "data": {
      "text/plain": [
       "300.03000000000003"
      ]
     },
     "execution_count": 15,
     "metadata": {},
     "output_type": "execute_result"
    }
   ],
   "source": [
    "100.01 + 100.01 + 100.01"
   ]
  },
  {
   "cell_type": "markdown",
   "metadata": {},
   "source": [
    "Dans le premier cas, vous vous doutiez que le résultat allait forcément être une approximation puisque l'on sait que 1 / 3 fait 0.3333333333333333333333...\n",
    "\n",
    "Dans le deuxième cas, il y a de quoi être vraiment surpris. Le nombre 300.03 ne parait pas compliqué, et pourtant ce n'est pas le résultat retourné. On obtient 300.03000000000003 à la place.\n",
    "\n",
    "Dans les 2 cas, on appelle **approximation numérique** le résultat renvoyé. Dans le 2e cas, la valeur 0.00000000000003 est appelée **erreur d'approximation numérique**. Ces approximations sont une différence essentielle entre les mathématiques, qui ont une représentation \"parfaite\", et l'informatiqe qui a une représentation limitée par les capacités des machines et les normes de représentation des nombres.\n",
    "\n",
    "Ces limitations et ces approximations ne devraient pas vous inquiéter : le champ d'action est vaste et permet de résoudre une très grande quantité de problèmes avec une très bonne précision.\n",
    "\n",
    "## Opérateurs Booléen\n",
    "\n",
    "Nous allons maintenant parler du type `bool` qui permet de représenter les types Booléen suivants :\n",
    "* `True` pour vrai,\n",
    "* `False` pour faux."
   ]
  },
  {
   "cell_type": "code",
   "execution_count": null,
   "metadata": {},
   "outputs": [
    {
     "data": {
      "text/plain": [
       "True"
      ]
     },
     "execution_count": 20,
     "metadata": {},
     "output_type": "execute_result"
    }
   ],
   "source": [
    "True"
   ]
  },
  {
   "cell_type": "code",
   "execution_count": null,
   "metadata": {},
   "outputs": [],
   "source": [
    "False"
   ]
  },
  {
   "cell_type": "markdown",
   "metadata": {},
   "source": [
    "On retrouve les mêmes opérateurs de comparaison qu'en mathématiques.\n",
    "\n",
    "Pour vérifier si un nombre est strictement plus petit qu'un autre :"
   ]
  },
  {
   "cell_type": "code",
   "execution_count": null,
   "metadata": {},
   "outputs": [],
   "source": [
    "3 < 6"
   ]
  },
  {
   "cell_type": "code",
   "execution_count": null,
   "metadata": {},
   "outputs": [],
   "source": [
    "6 < 3"
   ]
  },
  {
   "cell_type": "markdown",
   "metadata": {},
   "source": [
    "Pour vérifier si un nombre est strictement plus grand qu'un autre :"
   ]
  },
  {
   "cell_type": "code",
   "execution_count": null,
   "metadata": {},
   "outputs": [],
   "source": [
    "3 > 6"
   ]
  },
  {
   "cell_type": "markdown",
   "metadata": {},
   "source": [
    "Pour vérifier si un nombre est plus petit ou égal, on utilise `<=` :"
   ]
  },
  {
   "cell_type": "code",
   "execution_count": null,
   "metadata": {},
   "outputs": [],
   "source": [
    "2 <= 6"
   ]
  },
  {
   "cell_type": "code",
   "execution_count": null,
   "metadata": {},
   "outputs": [],
   "source": [
    "2 <= 2"
   ]
  },
  {
   "cell_type": "code",
   "execution_count": null,
   "metadata": {},
   "outputs": [],
   "source": [
    "2 <= 1"
   ]
  },
  {
   "cell_type": "markdown",
   "metadata": {},
   "source": [
    "De manière similaire, on utilise `>=` pour l'inverse :"
   ]
  },
  {
   "cell_type": "code",
   "execution_count": null,
   "metadata": {},
   "outputs": [
    {
     "data": {
      "text/plain": [
       "True"
      ]
     },
     "execution_count": 21,
     "metadata": {},
     "output_type": "execute_result"
    }
   ],
   "source": [
    "2 >= 1"
   ]
  },
  {
   "cell_type": "markdown",
   "metadata": {},
   "source": [
    "Pour comparer si 2 nombres sont égaux, on utilise `==`. Faites bien attention au double `==`. Il y a en a 2. Comme les 2 yeux.\n",
    "\n",
    "On insiste lourdement ici à dessein : tout le monde oublie au moins une fois le double `==`. Un unique `=` a une signification complètement différente (nous y reviendrons plus tard dans ce TP).\n",
    "\n",
    "Exécutez les exemples suivants :"
   ]
  },
  {
   "cell_type": "code",
   "execution_count": null,
   "metadata": {},
   "outputs": [
    {
     "data": {
      "text/plain": [
       "True"
      ]
     },
     "execution_count": 22,
     "metadata": {},
     "output_type": "execute_result"
    }
   ],
   "source": [
    "1 == 1"
   ]
  },
  {
   "cell_type": "code",
   "execution_count": null,
   "metadata": {},
   "outputs": [
    {
     "data": {
      "text/plain": [
       "False"
      ]
     },
     "execution_count": 24,
     "metadata": {},
     "output_type": "execute_result"
    }
   ],
   "source": [
    "3 == 4"
   ]
  },
  {
   "cell_type": "code",
   "execution_count": null,
   "metadata": {},
   "outputs": [
    {
     "data": {
      "text/plain": [
       "False"
      ]
     },
     "execution_count": 23,
     "metadata": {},
     "output_type": "execute_result"
    }
   ],
   "source": [
    "300.03 == 100.01 + 100.01 + 100.01"
   ]
  },
  {
   "cell_type": "code",
   "execution_count": null,
   "metadata": {},
   "outputs": [
    {
     "ename": "SyntaxError",
     "evalue": "can't assign to literal (<ipython-input-25-ecdac3dcabfd>, line 1)",
     "output_type": "error",
     "traceback": [
      "\u001b[0;36m  File \u001b[0;32m\"<ipython-input-25-ecdac3dcabfd>\"\u001b[0;36m, line \u001b[0;32m1\u001b[0m\n\u001b[0;31m    1 = 1\u001b[0m\n\u001b[0m         ^\u001b[0m\n\u001b[0;31mSyntaxError\u001b[0m\u001b[0;31m:\u001b[0m can't assign to literal\n"
     ]
    }
   ],
   "source": [
    "1 = 1"
   ]
  },
  {
   "cell_type": "markdown",
   "metadata": {},
   "source": [
    "Les 2 premiers exemples ci-dessus sont triviaux et renvoient respectivement `True` et `False`.\n",
    "\n",
    "Dans le 3e exemple, on illustre à nouveau le problème d'approximation numérique. On a donc 300.03 qui, au sens de la représentation de Python, n'est pas égal à 100.01 + 100.01 + 100.01.\n",
    "\n",
    "Dans le 4e exemple, on a utilisé un unique `=`, juste pour montrer ce qui se passe dans ce cas précis. En pratique, l'interprêteur Python nous renvoie une exception de type `SyntaxError`. Cela signifie que ce code n'est pas valide car il n'obéit pas à la grammaire du langage Python. En tout cas, encore une fois, utilisez bien **deux (2)** symboles `==` lorsque vous voulez effectuer des comparaisons.\n",
    "\n",
    "Très souvent, on souhaite que plusieurs conditions soient remplies en même temps. Par exemple, je souhaite que ma prochaine voiture soit verte *OU* rouge, *ET* qu'elle ait un moteur. En logique Booléenne, on appelle *OU* et *ET* s'appellent des **opérateurs logiques**.\n",
    "\n",
    "En Python, on utilise tout simplement la version anglaise de ces mots : *or* et *and*"
   ]
  },
  {
   "cell_type": "code",
   "execution_count": null,
   "metadata": {},
   "outputs": [
    {
     "data": {
      "text/plain": [
       "True"
      ]
     },
     "execution_count": 26,
     "metadata": {},
     "output_type": "execute_result"
    }
   ],
   "source": [
    "1 < 2 and 2 < 3"
   ]
  },
  {
   "cell_type": "code",
   "execution_count": null,
   "metadata": {},
   "outputs": [
    {
     "data": {
      "text/plain": [
       "False"
      ]
     },
     "execution_count": 27,
     "metadata": {},
     "output_type": "execute_result"
    }
   ],
   "source": [
    "1 < 2 and 3 < 2"
   ]
  },
  {
   "cell_type": "code",
   "execution_count": null,
   "metadata": {},
   "outputs": [
    {
     "data": {
      "text/plain": [
       "True"
      ]
     },
     "execution_count": 28,
     "metadata": {},
     "output_type": "execute_result"
    }
   ],
   "source": [
    "1 < 2 or 3 < 2"
   ]
  },
  {
   "cell_type": "code",
   "execution_count": null,
   "metadata": {},
   "outputs": [
    {
     "data": {
      "text/plain": [
       "False"
      ]
     },
     "execution_count": 29,
     "metadata": {},
     "output_type": "execute_result"
    }
   ],
   "source": [
    "2 < 1 or 3 < 2"
   ]
  },
  {
   "cell_type": "markdown",
   "metadata": {},
   "source": [
    "La combinatoire entre opérateurs logiques peut se résumer très simplement dans les matrices suivantes :\n",
    "\n",
    "Ou :\n",
    "\n",
    "| or    | True | False |\n",
    "|-------|------|-------|\n",
    "| True  | True | True  |\n",
    "| False | True | False |\n",
    "\n",
    "Et :\n",
    "\n",
    "| and   | True  | False |\n",
    "|-------|-------|-------|\n",
    "| True  | True  | False |\n",
    "| False | False | False |\n",
    "\n",
    "## Variables\n",
    "\n",
    "La notion de **variable** en informatique est très différente de celle en mathématiques. En mathématiques, on recherche régulièrement à connaître la valeur inconnue de variables `x`, `y`, `z`, etc. dans un système d'équations :\n",
    "\n",
    "$2 (x + y)^2 = 3 z + 2$\n",
    "\n",
    "En informatique, dans la quasi-totalité des langages de programmation, la valeur d'une variable à un instant donné est **toujours** connue et dépend uniquement du chemin d'exécution emprunté.\n",
    "\n",
    "Certaines langages de programmation, notamment certains langages fonctionnels, les méthodes formelles ou les langages spécialisés dans les mathématiques, peuvent d'éloigner de cette règle et se rapprocher des mathématiques. Mais ces langages sont hors-sujets dans le cadre de ce cours.\n",
    "\n",
    "En Python, **tout est objet**. On lie une valeur à une variable de la manière suivante :"
   ]
  },
  {
   "cell_type": "code",
   "execution_count": null,
   "metadata": {},
   "outputs": [],
   "source": [
    "x = 3"
   ]
  },
  {
   "cell_type": "markdown",
   "metadata": {},
   "source": [
    "On peut ensuite lire la valeur de x :"
   ]
  },
  {
   "cell_type": "code",
   "execution_count": null,
   "metadata": {},
   "outputs": [
    {
     "data": {
      "text/plain": [
       "3"
      ]
     },
     "execution_count": 32,
     "metadata": {},
     "output_type": "execute_result"
    }
   ],
   "source": [
    "x"
   ]
  },
  {
   "cell_type": "markdown",
   "metadata": {},
   "source": [
    "Le caractère `=` est utilisé par désigner **une affectation** ou **assignement**. La valeur `3` est assignée à la variable `x`. Donc la variable `x` a pour valeur `3`. Désormais, à chaque fois que l'on utilise `x`, c'est comme si on avait utilisé la valeur `3` à la place :"
   ]
  },
  {
   "cell_type": "code",
   "execution_count": null,
   "metadata": {},
   "outputs": [
    {
     "data": {
      "text/plain": [
       "True"
      ]
     },
     "execution_count": 33,
     "metadata": {},
     "output_type": "execute_result"
    }
   ],
   "source": [
    "x < 5"
   ]
  },
  {
   "cell_type": "markdown",
   "metadata": {},
   "source": [
    "Il est possible de changer la valeur assignée à `x`. On dit que `x` est mutable."
   ]
  },
  {
   "cell_type": "code",
   "execution_count": null,
   "metadata": {},
   "outputs": [],
   "source": [
    "x = 2 + 3"
   ]
  },
  {
   "cell_type": "markdown",
   "metadata": {},
   "source": [
    "Maintenant, la valeur de `x` est `5`. Par conséquent :"
   ]
  },
  {
   "cell_type": "code",
   "execution_count": null,
   "metadata": {},
   "outputs": [
    {
     "data": {
      "text/plain": [
       "False"
      ]
     },
     "execution_count": 35,
     "metadata": {},
     "output_type": "execute_result"
    }
   ],
   "source": [
    "x < 5"
   ]
  },
  {
   "cell_type": "markdown",
   "metadata": {},
   "source": [
    "Le résultat de cette simple inéquation a changé, puisque la valeur de x a changé.\n",
    "\n",
    "Un programme Python est exécuté du haut vers le bas. Les valeurs des variables évoluent au cours de l'exécution.\n",
    "\n",
    "Notez que l'on ne peut utiliser qu'une seule variable à gauche d'un `=`. En mathématiques, on pourrait écrire :\n",
    "\n",
    "$x + y = 3$\n",
    "\n",
    "En Python, cela donne :"
   ]
  },
  {
   "cell_type": "code",
   "execution_count": null,
   "metadata": {},
   "outputs": [
    {
     "ename": "SyntaxError",
     "evalue": "can't assign to operator (<ipython-input-36-c0588d07a3bb>, line 1)",
     "output_type": "error",
     "traceback": [
      "\u001b[0;36m  File \u001b[0;32m\"<ipython-input-36-c0588d07a3bb>\"\u001b[0;36m, line \u001b[0;32m1\u001b[0m\n\u001b[0;31m    x + y = 3\u001b[0m\n\u001b[0m             ^\u001b[0m\n\u001b[0;31mSyntaxError\u001b[0m\u001b[0;31m:\u001b[0m can't assign to operator\n"
     ]
    }
   ],
   "source": [
    "x + y = 3"
   ]
  },
  {
   "cell_type": "markdown",
   "metadata": {},
   "source": [
    "Une erreur de syntaxte. La grammaire du langage Python (et de la plupart des langages de programmation) n'autorisent qu'une seule variable à gauche d'un assignement.\n",
    "\n",
    "De plus, en Python, on ne peut pas directement résoudre une équation de ce type :\n",
    "\n",
    "$2 (x + y)^2 = 3 z + 2$\n",
    "\n",
    "Pour résoudre automatiquement ce type d'équation, il serait nécessaire d'écrire un **algorithme**.\n",
    "\n",
    "Par contre, connaissant une solution :\n",
    "\n",
    "$$\n",
    "\\begin{bmatrix} \n",
    "x \\\\\n",
    "y \\\\\n",
    "z \\\\\n",
    "\\end{bmatrix}\n",
    "=\n",
    "\\begin{bmatrix} \n",
    "1 \\\\\n",
    "0 \\\\\n",
    "0 \\\\\n",
    "\\end{bmatrix}\n",
    "$$\n",
    "\n",
    "On peut facilement écrire un mini programme qui vérifie cette solution :"
   ]
  },
  {
   "cell_type": "code",
   "execution_count": null,
   "metadata": {},
   "outputs": [
    {
     "data": {
      "text/plain": [
       "True"
      ]
     },
     "execution_count": 37,
     "metadata": {},
     "output_type": "execute_result"
    }
   ],
   "source": [
    "x = 1\n",
    "y = 0\n",
    "z = 0\n",
    "2 * (x + y) == 3 * z + 2"
   ]
  },
  {
   "cell_type": "markdown",
   "metadata": {},
   "source": [
    "Notez bien que la dernière expression emploi un double `==` car on effectue une comparaison.\n",
    "\n",
    "En général, on évite les noms de variable trop courts ou peu explicites. Le premier caractères d'une variable doit être un caractère alphabétique ASCII ou un `_`. Les autres caractères composant le nom d'une variable doivent être alphanumériques ASCII ou `_`.\n",
    "\n",
    "Autrement dit, les noms suivants sont corrects :"
   ]
  },
  {
   "cell_type": "code",
   "execution_count": null,
   "metadata": {},
   "outputs": [],
   "source": [
    "maVariable1 = 0"
   ]
  },
  {
   "cell_type": "code",
   "execution_count": null,
   "metadata": {},
   "outputs": [],
   "source": [
    "Ma2eVariable = 1"
   ]
  },
  {
   "cell_type": "code",
   "execution_count": null,
   "metadata": {},
   "outputs": [],
   "source": [
    "ma_3e_var = 2"
   ]
  },
  {
   "cell_type": "code",
   "execution_count": null,
   "metadata": {},
   "outputs": [],
   "source": [
    "_maVar4 = 3"
   ]
  },
  {
   "cell_type": "code",
   "execution_count": null,
   "metadata": {},
   "outputs": [],
   "source": [
    "_ = 4"
   ]
  },
  {
   "cell_type": "markdown",
   "metadata": {},
   "source": [
    "En revanche, les noms suivants sont syntaxiquement incorrects :"
   ]
  },
  {
   "cell_type": "code",
   "execution_count": null,
   "metadata": {},
   "outputs": [
    {
     "ename": "SyntaxError",
     "evalue": "invalid syntax (<ipython-input-43-6f3f89b0246c>, line 1)",
     "output_type": "error",
     "traceback": [
      "\u001b[0;36m  File \u001b[0;32m\"<ipython-input-43-6f3f89b0246c>\"\u001b[0;36m, line \u001b[0;32m1\u001b[0m\n\u001b[0;31m    3DCube = 3\u001b[0m\n\u001b[0m         ^\u001b[0m\n\u001b[0;31mSyntaxError\u001b[0m\u001b[0;31m:\u001b[0m invalid syntax\n"
     ]
    }
   ],
   "source": [
    "3DCube = 3"
   ]
  },
  {
   "cell_type": "code",
   "execution_count": null,
   "metadata": {},
   "outputs": [
    {
     "ename": "SyntaxError",
     "evalue": "can't assign to operator (<ipython-input-48-455c9eafb3da>, line 1)",
     "output_type": "error",
     "traceback": [
      "\u001b[0;36m  File \u001b[0;32m\"<ipython-input-48-455c9eafb3da>\"\u001b[0;36m, line \u001b[0;32m1\u001b[0m\n\u001b[0;31m    être@hôpital = 42\u001b[0m\n\u001b[0m                     ^\u001b[0m\n\u001b[0;31mSyntaxError\u001b[0m\u001b[0;31m:\u001b[0m can't assign to operator\n"
     ]
    }
   ],
   "source": [
    "être@hôpital = 42"
   ]
  },
  {
   "cell_type": "code",
   "execution_count": null,
   "metadata": {},
   "outputs": [
    {
     "ename": "SyntaxError",
     "evalue": "can't assign to operator (<ipython-input-44-ea5a0d1d2f9d>, line 1)",
     "output_type": "error",
     "traceback": [
      "\u001b[0;36m  File \u001b[0;32m\"<ipython-input-44-ea5a0d1d2f9d>\"\u001b[0;36m, line \u001b[0;32m1\u001b[0m\n\u001b[0;31m    super-man = 3\u001b[0m\n\u001b[0m                 ^\u001b[0m\n\u001b[0;31mSyntaxError\u001b[0m\u001b[0;31m:\u001b[0m can't assign to operator\n"
     ]
    }
   ],
   "source": [
    "super-man = 3"
   ]
  },
  {
   "cell_type": "markdown",
   "metadata": {},
   "source": [
    "En Python, par convention, on choisit en général la syntaxe `snake_case`, qui signifie que les différents mots composant un nom de variable sont séparés par un `_`.\n",
    "\n",
    "On préférera donc :"
   ]
  },
  {
   "cell_type": "code",
   "execution_count": null,
   "metadata": {},
   "outputs": [],
   "source": [
    "carton_de_saumur_champigny = 6"
   ]
  },
  {
   "cell_type": "markdown",
   "metadata": {},
   "source": [
    "à la place de :"
   ]
  },
  {
   "cell_type": "code",
   "execution_count": null,
   "metadata": {},
   "outputs": [],
   "source": [
    "CartonDeSaumurChampigny = 6"
   ]
  },
  {
   "cell_type": "markdown",
   "metadata": {},
   "source": [
    "## Exercices\n",
    "\n",
    "Vous n'avez pas le droit d'utiliser de calculatrice, smartphone, ou tableau. Vous devez résoudre ces questions uniquement avec du code en Python.\n",
    "\n",
    "Lorsque vous aurez terminé, vous pouvez sauvegarder vos résultats en utilisant le menu File > Download as > Notebook (ipynb).\n",
    "\n",
    "### Exercice 1\n",
    "\n",
    "Utilisez Python pour déterminer lequel de ces 2 nombres est le plus grand :\n",
    "* $2^{100} + (12345 \\times 67890)^2$\n",
    "* $100000^{10} \\times 999999$"
   ]
  },
  {
   "cell_type": "code",
   "execution_count": null,
   "metadata": {},
   "outputs": [
    {
     "data": {
      "text/plain": [
       "True"
      ]
     },
     "execution_count": 50,
     "metadata": {},
     "output_type": "execute_result"
    }
   ],
   "source": [
    "# Insérez votre réponse ici...\n",
    "# Pour cela, vous pouvez supprimer ces commentaires \n",
    "# et les remplacer pour votre propre code."
   ]
  },
  {
   "cell_type": "markdown",
   "metadata": {},
   "source": [
    "### Exercice 2\n",
    "\n",
    "Quel est le reste de la division de 987654321 par 42 ?"
   ]
  },
  {
   "cell_type": "code",
   "execution_count": null,
   "metadata": {},
   "outputs": [
    {
     "data": {
      "text/plain": [
       "23515579"
      ]
     },
     "execution_count": 52,
     "metadata": {},
     "output_type": "execute_result"
    }
   ],
   "source": [
    "# Insérez votre réponse ici..."
   ]
  },
  {
   "cell_type": "markdown",
   "metadata": {},
   "source": [
    "Combien de fois a-t-on 42 dans 987654321 ?"
   ]
  },
  {
   "cell_type": "code",
   "execution_count": null,
   "metadata": {},
   "outputs": [],
   "source": [
    "# Insérez votre réponse ici..."
   ]
  },
  {
   "cell_type": "markdown",
   "metadata": {},
   "source": [
    "### Exercice 3\n",
    "\n",
    "On calcule l'Indice de Masse Corporelle en divisant la masse en kg par le carré de la taille en centimètres.\n",
    "\n",
    "Cela donne la formule :\n",
    "\n",
    "$$imc = \\frac{masse}{taille^2}$$\n",
    "\n",
    "Définissez les variables taille et masse initialement à 80 et 180.\n",
    "Définissez la variable imc en utilisant la formule ci-dessus.\n",
    "Affichez True si la valeur d'imc est supérieure ou égale à 25."
   ]
  },
  {
   "cell_type": "code",
   "execution_count": 65,
   "metadata": {},
   "outputs": [],
   "source": [
    "# Insérez votre réponse ici..."
   ]
  }
 ],
 "metadata": {
  "interpreter": {
   "hash": "31f2aee4e71d21fbe5cf8b01ff0e069b9275f58929596ceb00d14d90e3e16cd6"
  },
  "kernelspec": {
   "display_name": "Python 3.6.9 64-bit",
   "name": "python3"
  },
  "language_info": {
   "codemirror_mode": {
    "name": "ipython",
    "version": 3
   },
   "file_extension": ".py",
   "mimetype": "text/x-python",
   "name": "python",
   "nbconvert_exporter": "python",
   "pygments_lexer": "ipython3",
   "version": "3.6.9"
  },
  "orig_nbformat": 4
 },
 "nbformat": 4,
 "nbformat_minor": 2
}