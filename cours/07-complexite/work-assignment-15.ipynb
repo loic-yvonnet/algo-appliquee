{
 "cells": [
  {
   "cell_type": "markdown",
   "source": [
    "# TP 11 - Benchmark et complexité\n",
    "\n",
    "Pour chaque exercice, rentrez votre réponse dans l'éditeur Python associé.\n",
    "Enregistrez vos modifications, de préférence au format ipynb, lorsque vous aurez terminé.\n",
    "\n",
    "## Exercice 1 - Génération de nombres aléatoires\n",
    "\n",
    "Utiliser random et générer des sets de données aléatoires pour tester les algos suivants."
   ],
   "metadata": {}
  },
  {
   "cell_type": "markdown",
   "source": [
    "## Exercice 2 - Recherche linéaire versus recherche dichotomique\n",
    "\n",
    "Générer un set de données.\n",
    "Pour ce même set de données : linear search && bisection search => instrumenter & regarder\n",
    "\n",
    "Instrumentez-le avec un wallclock et notez le temps pour dix, milles, cent milles, 1 million et 1 milliard d'éléments.\n",
    "\n",
    "On doit pouvoir tracer à la mano un graphe qui montre la différence ouf entre les 2 (on introduira matplotlib dans un prochain TP)"
   ],
   "metadata": {}
  },
  {
   "cell_type": "markdown",
   "source": [
    "## Exercice 3 - Tri\n",
    "\n",
    "Que fait l'algo suivant :\n",
    "<<<Bubble Sort>>>\n",
    "\n",
    "Quel est sa complexité ?\n",
    "\n",
    "Instrumentez-le avec un wallclock et notez le temps pour dix, milles, cent milles, 1 million et 1 milliard d'éléments.\n",
    "\n",
    "Utiliser la fonction `sort` à la place. Testez également pour dix, milles, cent milles, 1 million et 1 milliard d'éléments. Qu'en déduisez-vous ?"
   ],
   "metadata": {}
  },
  {
   "cell_type": "markdown",
   "source": [
    "## Exercice 4 - Générer tous les ensembles pouvant contenir les éléments d'un ensemble\n",
    "\n",
    "Soit L = { 1, 2, 3 }\n",
    "\n",
    "==> Générer en sortie la liste [ {}, { 1 }, { 2 }, { 3 }, { 1, 2 }, { 1, 3 }, { 2, 3 }, { 1, 2, 3 }]\n",
    "\n",
    "Problème intrinsèquement exponentiel\n",
    "\n",
    "==> Tester et mesurer pour 2, 5, 10, 20, 50, et 100 éléments."
   ],
   "metadata": {}
  }
 ],
 "metadata": {
  "orig_nbformat": 4,
  "language_info": {
   "name": "python",
   "version": "3.9.6",
   "mimetype": "text/x-python",
   "codemirror_mode": {
    "name": "ipython",
    "version": 3
   },
   "pygments_lexer": "ipython3",
   "nbconvert_exporter": "python",
   "file_extension": ".py"
  },
  "kernelspec": {
   "name": "python3",
   "display_name": "Python 3.9.6 64-bit"
  },
  "interpreter": {
   "hash": "36cf16204b8548560b1c020c4e8fb5b57f0e4c58016f52f2d4be01e192833930"
  }
 },
 "nbformat": 4,
 "nbformat_minor": 2
}