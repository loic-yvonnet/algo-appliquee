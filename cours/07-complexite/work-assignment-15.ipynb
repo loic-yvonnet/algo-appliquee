{
 "cells": [
  {
   "cell_type": "markdown",
   "source": [
    "# TP 11 - Benchmark et complexité\n",
    "\n",
    "Pour chaque exercice, rentrez votre réponse dans l'éditeur Python associé.\n",
    "Enregistrez vos modifications, de préférence au format ipynb, lorsque vous aurez terminé.\n",
    "\n",
    "## Exercice 1 - Génération de nombres aléatoires\n",
    "\n",
    "Il est possible d'utiliser la fonction `randint` pour générer un entier aléatoire entre 2 bornes. Exécutez plusieurs fois le code ci-dessous et observez que les résultats diffèrent :"
   ],
   "metadata": {}
  },
  {
   "cell_type": "code",
   "execution_count": 10,
   "source": [
    "import random\n",
    "\n",
    "random.randint(1, 6)"
   ],
   "outputs": [
    {
     "output_type": "execute_result",
     "data": {
      "text/plain": [
       "2"
      ]
     },
     "metadata": {},
     "execution_count": 10
    }
   ],
   "metadata": {}
  },
  {
   "cell_type": "markdown",
   "source": [
    "Le code ci-dessus permet de simuler le comportement d'un dé à 6 faces, puisqu'il renvoie des valeurs entre 1 et 6.\n",
    "\n",
    "En pratique, les nombres renvoyés sont semi-aléatoires. En effet, l'implémentation des fonctions de génération de nombres aléatoires repose sur des séries mathématiques prévisibles. Il est possible d'initialiser la série avec un nombre appelé la graine (*seed* en anglais). La seed peut être initialisée par exemple avec l'adresse MAC d'une carte réseau, ou encore l'heure actuelle, afin d'améliorer le caractère aléatoire de la série.\n",
    "\n",
    "Pour ce TP, vous n'aurez pas besoin d'initialiser la seed.\n",
    "\n",
    "Ecrivez une fonction `genere_liste_aleatoire` qui prend 3 arguments :\n",
    "* N : le nombre de nombres aléatoires à générer,\n",
    "* min : la plus petite valeur à générer (-1 000 000 par défaut),\n",
    "* max : la plus grande valeur à générer (1 000 000 par défaut).\n",
    "\n",
    "et renvoie une liste de `N` nombres aléatoires entre `min` et `max`.\n",
    "\n",
    "Par exemple :\n",
    "```py\n",
    "L = genere_liste_aleatoire(2)\n",
    "print(L)\n",
    "sixDesQuatreFaces = genere_liste_aleatoire(6, min=1, max=4)\n",
    "print(sixDesQuatreFaces)\n",
    "```\n",
    "\n",
    "peut afficher par exemple :\n",
    "```\n",
    "[1234, -6789]\n",
    "[4, 1, 3, 1, 2, 4]\n",
    "```"
   ],
   "metadata": {}
  },
  {
   "cell_type": "code",
   "execution_count": 11,
   "source": [
    "\n",
    "\n",
    "\n"
   ],
   "outputs": [],
   "metadata": {}
  },
  {
   "cell_type": "markdown",
   "source": [
    "## Exercice 2 - Benchmarking\n",
    "\n",
    "Nous avons vu qu'une manière simple d'instrumenter le code pour obtenir un temps d'exécution approximatif consiste à faire la différence entre le temps avant et après le code à mesurer :"
   ],
   "metadata": {}
  },
  {
   "cell_type": "code",
   "execution_count": 15,
   "source": [
    "from datetime import datetime\n",
    "\n",
    "debut = datetime.now()\n",
    "\n",
    "genere_liste_aleatoire(1000000)\n",
    "\n",
    "fin = datetime.now()\n",
    "temps_ecoule = fin - debut\n",
    "print(f\"Temps d'exécution : {temps_ecoule.total_seconds()}s\")"
   ],
   "outputs": [
    {
     "output_type": "stream",
     "name": "stdout",
     "text": [
      "Temps d'exécution : 0.731853s\n"
     ]
    }
   ],
   "metadata": {}
  },
  {
   "cell_type": "markdown",
   "source": [
    "Il s'agit d'un résultat peu précis car il dépend des autres processus tournant sur le système d'exploitation. On peut obtenir un résultat équivalent avec `time.process_time` :"
   ],
   "metadata": {}
  },
  {
   "cell_type": "code",
   "execution_count": 16,
   "source": [
    "import time\n",
    "\n",
    "debut = time.process_time()\n",
    "\n",
    "genere_liste_aleatoire(1000000)\n",
    "\n",
    "fin = time.process_time()\n",
    "temps_ecoule = fin - debut\n",
    "print(f\"Temps d'exécution : {temps_ecoule}s\")"
   ],
   "outputs": [
    {
     "output_type": "stream",
     "name": "stdout",
     "text": [
      "Temps d'exécution : 0.7083241349999998s\n"
     ]
    }
   ],
   "metadata": {}
  },
  {
   "cell_type": "markdown",
   "source": [
    "Ce résultat n'est pas beaucoup plus précis, même s'il se cantonne à mesurer le temps d'exécution du processus courant, plutôt que le temps global de la machine.\n",
    "\n",
    "La bibliothèque `timeit` permet d'obtenir un résultat beaucoup plus précis, car indépendant des perturbations du système d'exploitation :"
   ],
   "metadata": {}
  },
  {
   "cell_type": "code",
   "execution_count": 17,
   "source": [
    "from timeit import timeit\n",
    "\n",
    "test = lambda: genere_liste_aleatoire(1000000)\n",
    "\n",
    "timeit(test, number=1)"
   ],
   "outputs": [
    {
     "output_type": "execute_result",
     "data": {
      "text/plain": [
       "0.6955388720002702"
      ]
     },
     "metadata": {},
     "execution_count": 17
    }
   ],
   "metadata": {}
  },
  {
   "cell_type": "markdown",
   "source": [
    "Le premier argument de `timeit` doit être une fonction qui ne prend pas d'argument. C'est la raison pour laquelle on construit la fonction `test` avec une lambda qui appelle `genere_liste_aleatoire` avec le nombre que l'on souhaite.\n",
    "\n",
    "Le deuxième argument de `timeit` est le nombre de fois qu'il doit exécuter la fonction en argument. Par exemple, l'appel suivant prendra 10 fois plus de temps, puisqu'on appelle 10 fois la fonction `genere_liste_aleatoire` :"
   ],
   "metadata": {}
  },
  {
   "cell_type": "code",
   "execution_count": 18,
   "source": [
    "timeit(test, number=10)"
   ],
   "outputs": [
    {
     "output_type": "execute_result",
     "data": {
      "text/plain": [
       "6.591189424999811"
      ]
     },
     "metadata": {},
     "execution_count": 18
    }
   ],
   "metadata": {}
  },
  {
   "cell_type": "markdown",
   "source": [
    "Il est possible d'aller plus loin en employant un profiler. Exécutez le code suivant :"
   ],
   "metadata": {}
  },
  {
   "cell_type": "code",
   "execution_count": 19,
   "source": [
    "from cProfile import Profile\n",
    "from pstats import Stats\n",
    "\n",
    "profiler = Profile()\n",
    "profiler.runcall(test)\n",
    "\n",
    "stats = Stats(profiler)\n",
    "stats.strip_dirs()\n",
    "stats.sort_stats('cumulative')\n",
    "stats.print_stats()"
   ],
   "outputs": [
    {
     "output_type": "stream",
     "name": "stdout",
     "text": [
      "         5048757 function calls in 1.346 seconds\n",
      "\n",
      "   Ordered by: cumulative time\n",
      "\n",
      "   ncalls  tottime  percall  cumtime  percall filename:lineno(function)\n",
      "        1    0.000    0.000    1.346    1.346 4194484203.py:3(<lambda>)\n",
      "        1    0.000    0.000    1.346    1.346 3811730195.py:1(genere_liste_aleatoire)\n",
      "        1    0.200    0.200    1.346    1.346 3811730195.py:2(<listcomp>)\n",
      "  1000000    0.239    0.000    1.146    0.000 random.py:334(randint)\n",
      "  1000000    0.455    0.000    0.906    0.000 random.py:290(randrange)\n",
      "  1000000    0.322    0.000    0.452    0.000 random.py:237(_randbelow_with_getrandbits)\n",
      "  1048753    0.073    0.000    0.073    0.000 {method 'getrandbits' of '_random.Random' objects}\n",
      "  1000000    0.056    0.000    0.056    0.000 {method 'bit_length' of 'int' objects}\n",
      "        1    0.000    0.000    0.000    0.000 {method 'disable' of '_lsprof.Profiler' objects}\n",
      "\n",
      "\n"
     ]
    },
    {
     "output_type": "execute_result",
     "data": {
      "text/plain": [
       "<pstats.Stats at 0x7f1adc4d3f10>"
      ]
     },
     "metadata": {},
     "execution_count": 19
    }
   ],
   "metadata": {}
  },
  {
   "cell_type": "markdown",
   "source": [
    "Le résultat est une table d'information organisée par fonction. Cette table fournit des informations sur le temps d'exécution de notre lambda (qui s'appelle `test`), et de toutes les fonctions qu'elle appelle de manière directe et indirecte.\n",
    "\n",
    "Ainsi, notre lambda appelle la fonction `genere_liste_aléatoire`, qui appelle `randint`, qui appelle `randrange`, qui appelle des fonctions internes de la bibliothèque standard Python.\n",
    "\n",
    "Sur chaque ligne, on obtient les informations suivantes :\n",
    "* **nbcalls** : nombre de fois que la fonction est appelée.\n",
    "* **tottime** : nombre de secondes passées à exécuter la fonction, en excluant le temps passé dans les autres fonctions que celle-ci appelle.\n",
    "* **tottime percall** : nombre moyen de secondes passées à exécuter la fonction, en excluant le temps passé dans les autres fonctions que celle-ci appelle. Autrement dit : $\\frac{tottime}{nbcalls}$.\n",
    "* **cumtime** : temps cumulatif passé à exécuter la fonction, en prenant compte aussi le temps passé dans les fonctions appelées.\n",
    "* **cumtime percall** : nombre moyen de secondes passées à exécuter la fonction, en prenant compte aussi le temps passé dans les fonctions appelées. Autrement dit : $\\frac{cumtime}{nbcalls}$."
   ],
   "metadata": {}
  },
  {
   "cell_type": "markdown",
   "source": [
    "## Exercice 3 - Recherche linéaire versus recherche dichotomique\n",
    "\n",
    "Dans les exercices 1 et 2 du TP 5, vous avez implémenté une recherche linéaire et une recherche dichotomique.\n",
    "\n",
    "Vous n'aviez pas encore appris le concept de fonction.\n",
    "\n",
    "On peut réécrire ce code sous forme de fonctions. Les fonctions `recherche_lineaire` et `recherche_dichotomique`. Ces 2 fonctions prennent 2 paramètres :\n",
    "* une liste,\n",
    "* un élément potentiellement dans cette liste.\n",
    "\n",
    "Ces 2 fonctions retournent -1 si l'élément n'est pas trouvé. Si l'élément est trouvé, l'index de cet élément dans la liste est renvoyé."
   ],
   "metadata": {}
  },
  {
   "cell_type": "code",
   "execution_count": 3,
   "source": [
    "def recherche_lineaire(L, element):\n",
    "    \"\"\"Recherche element dans L et retourne son index ou -1.\"\"\"\n",
    "    for i in range(len(L)):\n",
    "        if L[i] == element:\n",
    "            return i\n",
    "    \n",
    "    return -1\n",
    "\n",
    "def recherche_dichotomique(L, element):\n",
    "    \"\"\"Recherche element dans L triée et retourne son index ou -1.\"\"\"\n",
    "    debut = 0\n",
    "    fin = len(L) - 1\n",
    "\n",
    "    while debut <= fin:\n",
    "        milieu = debut + (fin - debut) // 2\n",
    "        actuel = L[milieu]\n",
    "\n",
    "        if element < actuel:\n",
    "            fin = milieu - 1\n",
    "        elif element > actuel:\n",
    "            debut = milieu + 1\n",
    "        else:\n",
    "            return milieu\n",
    "\n",
    "    return -1\n",
    "    \n",
    "L = [1, 2, 3, 4, 5]\n",
    "index_lineaire = recherche_lineaire(L, 5)\n",
    "print(f\"index : {index_lineaire}\")\n",
    "index_dichoto = recherche_dichotomique(L, 5)\n",
    "print(f\"index : {index_dichoto}\")\n",
    "index_dichoto = recherche_dichotomique(L, 1)\n",
    "print(f\"index : {index_dichoto}\")\n",
    "index_dichoto = recherche_dichotomique(L, 4)\n",
    "print(f\"index : {index_dichoto}\")\n",
    "index_dichoto = recherche_dichotomique(L, -3)\n",
    "print(f\"index : {index_dichoto}\")\n",
    "index_dichoto = recherche_dichotomique(L, 10)\n",
    "print(f\"index : {index_dichoto}\")\n",
    "index_dichoto = recherche_dichotomique(L, 2.5)\n",
    "print(f\"index : {index_dichoto}\")"
   ],
   "outputs": [
    {
     "output_type": "stream",
     "name": "stdout",
     "text": [
      "index : 4\n",
      "index : 4\n",
      "index : 0\n",
      "index : 3\n",
      "index : -1\n",
      "index : -1\n",
      "index : -1\n"
     ]
    }
   ],
   "metadata": {}
  },
  {
   "cell_type": "markdown",
   "source": [
    "\n",
    "Utilisez `genere_liste_aleatoire` pour générer des listes aléatoires comportant :\n",
    "* 10 éléments,\n",
    "* 1 000 éléments,\n",
    "* 100 000 éléments,\n",
    "* 1 000 000 éléments,\n",
    "* 10 000 000 éléments.\n",
    "\n",
    "Nommez respectivement ces listes `L1`, `L3`, `L5`, `L6` et `L7`. Utilisez pour cela des variables.\n",
    "\n",
    "Utilisez la méthode `sort` pour garantir que ces listes sont triées.\n",
    "\n",
    "Par exemple :\n",
    "```py\n",
    "L1 = genere_liste_aleatoire(10**1).sort()\n",
    "```"
   ],
   "metadata": {}
  },
  {
   "cell_type": "code",
   "execution_count": null,
   "source": [
    "\n",
    "\n",
    "\n"
   ],
   "outputs": [],
   "metadata": {}
  },
  {
   "cell_type": "markdown",
   "source": [
    "On cherche à mesurer le pire cas. Dans les variables `dernier_L1`, `dernier_L3`, `dernier_L5`, `dernier_L6` et `dernier_L7`, mettez respectivement le dernier élément des listes `L1`, `L3`, `L5`, `L6` et `L7`."
   ],
   "metadata": {}
  },
  {
   "cell_type": "code",
   "execution_count": null,
   "source": [
    "\n",
    "\n",
    "\n"
   ],
   "outputs": [],
   "metadata": {}
  },
  {
   "cell_type": "markdown",
   "source": [
    "Créez les lambdas :\n",
    "* `test_lineaire_L1` qui appelle `recherche_lineaire` avec `L1` et `dernier_L1`.\n",
    "* `test_dicho_L1` qui appelle `recherche_dichotomique` avec `L1` et `dernier_L1`.\n",
    "\n",
    "De manière similaire, créez les lambdas suivantes :\n",
    "* `test_lineaire_L3` et `test_dicho_L3`,\n",
    "* `test_lineaire_L5` et `test_dicho_L5`,\n",
    "* `test_lineaire_L6` et `test_dicho_L6`,\n",
    "* `test_lineaire_L7` et `test_dicho_L7`,"
   ],
   "metadata": {}
  },
  {
   "cell_type": "code",
   "execution_count": null,
   "source": [
    "\n",
    "\n",
    "\n"
   ],
   "outputs": [],
   "metadata": {}
  },
  {
   "cell_type": "markdown",
   "source": [
    "Utilisez `timeit` pour mesurer ces différentes lambda. Prenez un papier et un crayon et tracez les courbes obtenues.\n",
    "\n",
    "Quelle est la complexité des fonctions `recherche_lineaire` et `recherche_dichotomique` ? Que déduisez-vous de vos résultats ?"
   ],
   "metadata": {}
  },
  {
   "cell_type": "code",
   "execution_count": null,
   "source": [
    "\n",
    "\n",
    "\n",
    "\n"
   ],
   "outputs": [],
   "metadata": {}
  },
  {
   "cell_type": "markdown",
   "source": [
    "## Exercice 4 - Bulles\n",
    "\n",
    "Que fait la fonction `bulle` dans le code suivant ?"
   ],
   "metadata": {}
  },
  {
   "cell_type": "code",
   "execution_count": null,
   "source": [
    "def echange(a, b):\n",
    "    return b, a\n",
    "\n",
    "def bulle(liste):\n",
    "    N = len(liste)\n",
    "    for _ in range(N):\n",
    "        for i in range(N):\n",
    "            if liste[i] > liste[i + 1] :\n",
    "                liste[i], liste[i + 1] = echange(liste[i], liste[i + 1])"
   ],
   "outputs": [],
   "metadata": {}
  },
  {
   "cell_type": "markdown",
   "source": [
    "Quelle est la complexité de la fonction `bulle` ?\n",
    "\n",
    "Quel serait le pire cas pour cette fonction ? On entend par là le cas où il y aurait le plus d'opérations à effectuer dans cet algorithme.\n",
    "\n",
    "En utilisant une approche similaire à celle de l'exercice 3, utilisez `timeit` pour mesurer le temps d'exécution pour 10, 1000, 100 000, 1 000 000 et 10 000 000 d'éléments."
   ],
   "metadata": {}
  },
  {
   "cell_type": "code",
   "execution_count": null,
   "source": [
    "\n",
    "\n",
    "\n"
   ],
   "outputs": [],
   "metadata": {}
  },
  {
   "cell_type": "markdown",
   "source": [
    "Utilisez `Profiler` et `Stats` pour mesurer le nombre d'appels à la fonction `echange`."
   ],
   "metadata": {}
  },
  {
   "cell_type": "code",
   "execution_count": null,
   "source": [
    "\n",
    "\n",
    "\n",
    "\n"
   ],
   "outputs": [],
   "metadata": {}
  },
  {
   "cell_type": "markdown",
   "source": [
    "Une `list` comporte une méthode `sort`. Il est donc possible d'écrire :\n",
    "```py\n",
    "L = [5, 1, 3, 2, 4]\n",
    "L.sort()\n",
    "```\n",
    "\n",
    "Effectuez les mêmes tests, en utilisant `timeit`, puis `Profiler` et `Stats`, pour comparer la fonction `bulle` avec la méthode `sort`. Prenez un papier et un crayon et tracez les courbes.\n",
    "\n",
    "Qu'en déduisez-vous ?"
   ],
   "metadata": {}
  },
  {
   "cell_type": "markdown",
   "source": [
    "## Exercice 5 - Groupe de puissance\n",
    "\n",
    "On souhaite, pour une liste `L`, générer une liste de listes qui contient toutes les combinaisons possibles des éléments de `L`. On appelle cette liste de listes le groupe de puissance.\n",
    "\n",
    "Par exemple, si `L` est `[\"x\", \"y\"]`, alors le groupe de puissance est la liste contenant les listes `[]`, `[\"x\"]`, `[\"y\"]` et `[\"x\", \"y\"]`.\n",
    "\n",
    "Autre exemple, si `L` est `[1, 2, 3]`, alors le groupe de puissance est : `[[], [1], [2], [3], [1, 2], [1, 3], [2, 3], [1, 2, 3]]`\n",
    "\n",
    "Il est possible de représenter toutes ces combinaisons par une chaîne de `N` caractères `0` et de `1`, où `1` représente la présence de l'élément, et `0` son absence. La combinaison représentant aucun élément est représentée par une chaîne ne comportant que des `0`. La combinaison représentant la présence de tous les éléments est représentée par la chaîne ne comportant que des `1`. La combinaison contenant uniquement le 1er et le dernier élément est représentée par `100...001`.\n",
    "\n",
    "Par exemple, si `L` est `[\"x\", \"y\", \"z\"]`, alors `b = \"101\"` génère la liste `[\"x\", \"z\"]`.\n"
   ],
   "metadata": {}
  },
  {
   "cell_type": "markdown",
   "source": [
    "\n",
    "### Exercice 5.1 - Conversion d'un nombre en base 2\n",
    "\n",
    "Ecrivez une fonction `representation_binaire` qui prend un nombre `N` et un nombre de digits `nb_digits` qui renvoie la représentation binaire de `N` ayant au minimum `nb_digits` caractères.\n",
    "\n",
    "Par exemple :\n",
    "```py\n",
    "b = representation_binaire(5, nb_digits=8)\n",
    "print(b)\n",
    "```\n",
    "\n",
    "doit afficher :\n",
    "```\n",
    "00000101\n",
    "```\n",
    "\n",
    "Pensez à utiliser les opérateurs modulo (`%`) et division entière (`//`) pour convertir le nombre `N` en base 2.\n",
    "\n",
    "Pensez également à rajouter, si nécessaire, des 0 au début de la chaîne résultante."
   ],
   "metadata": {}
  },
  {
   "cell_type": "code",
   "execution_count": null,
   "source": [
    "\n",
    "\n",
    "\n"
   ],
   "outputs": [],
   "metadata": {}
  },
  {
   "cell_type": "markdown",
   "source": [
    "### Exercice 5.2 - Génération du groupe de puissance\n",
    "\n",
    "Ecrivez une fonction `groupe_puissance` qui prend en entrée une liste `L` et renvoie la liste des listes qui contient toutes les combinaisons possibles d'éléments de `L`.\n",
    "\n",
    "Votre fonction va comporter une première boucle allant de 0 à $2^{len(L)}$. A chaque itération, vous allez utiliser `representation_binaire` pour générer la ième représentation binaire de taille `len(L)`.\n",
    "\n",
    "Une boucle imbriquée va ensuite parser la chaîne de caractères en retour de `representation_binaire`. A chaque fois qu'un `\"1\"` est trouvé, on ajoute dans la sous-liste courante le jème élément de `L` (j étant l'index de la boucle imbriquée)."
   ],
   "metadata": {}
  },
  {
   "cell_type": "code",
   "execution_count": null,
   "source": [
    "\n",
    "\n",
    "\n",
    "\n"
   ],
   "outputs": [],
   "metadata": {}
  },
  {
   "cell_type": "markdown",
   "source": [
    "### Exercice 5.3 - Benchmark\n",
    "\n",
    "Quelle est la complexité de `groupe_puissance` ?\n",
    "\n",
    "En utilisant `timeit`, mesurez le temps d'exécution des cas d'usage suivant de `groupe_puissance` :\n",
    "* L2 = `[\"x\", \"y\"]`\n",
    "* L3 = `[\"x\", \"y\", \"z\"]`\n",
    "* L5 = `[\"a\", \"b\", \"c\", \"d\", \"e\"]`\n",
    "* L10 = `list(range(10))`\n",
    "* L15 = `list(range(15))`"
   ],
   "metadata": {}
  },
  {
   "cell_type": "code",
   "execution_count": null,
   "source": [
    "\n",
    "\n",
    "\n",
    "\n"
   ],
   "outputs": [],
   "metadata": {}
  },
  {
   "cell_type": "markdown",
   "source": [
    "Effectuez les mêmes tests avec `Profile` et `Stats`, notamment pour voir concrètement le nombre d'appels à `representation_binaire`."
   ],
   "metadata": {}
  },
  {
   "cell_type": "code",
   "execution_count": null,
   "source": [
    "\n",
    "\n",
    "\n"
   ],
   "outputs": [],
   "metadata": {}
  },
  {
   "cell_type": "markdown",
   "source": [
    "Comme précédemment, prenez un papier et un crayon, et tracez les résultats que vous avez obtenu.\n",
    "Qu'en déduisez-vous ?"
   ],
   "metadata": {}
  }
 ],
 "metadata": {
  "orig_nbformat": 4,
  "language_info": {
   "name": "python",
   "version": "3.9.7",
   "mimetype": "text/x-python",
   "codemirror_mode": {
    "name": "ipython",
    "version": 3
   },
   "pygments_lexer": "ipython3",
   "nbconvert_exporter": "python",
   "file_extension": ".py"
  },
  "kernelspec": {
   "name": "python3",
   "display_name": "Python 3.9.7 64-bit"
  },
  "interpreter": {
   "hash": "36cf16204b8548560b1c020c4e8fb5b57f0e4c58016f52f2d4be01e192833930"
  }
 },
 "nbformat": 4,
 "nbformat_minor": 2
}