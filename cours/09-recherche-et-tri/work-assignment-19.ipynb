{
 "cells": [
  {
   "cell_type": "markdown",
   "source": [
    "# TP 15 - Tri de collections\n",
    "\n",
    "Pour chaque exercice, rentrez votre réponse dans l'éditeur Python associé.\n",
    "Enregistrez vos modifications, de préférence au format ipynb, lorsque vous aurez terminé.\n",
    "\n",
    "## Exercice 1 - Test Driven Development\n",
    "\n",
    "Imaginez que vous avez une fonction `f` qui prend en entrée une liste et la trie.\n",
    "\n",
    "Par exemple :\n",
    "```py\n",
    "L = [2, 3, 1]\n",
    "f(L)\n",
    "print(L)\n",
    "```\n",
    "\n",
    "va afficher :\n",
    "```\n",
    "[1, 2, 3]\n",
    "```\n",
    "\n",
    "Ecrivez des tests unitaires qui prennent en paramètre cette fonction et teste que son comportement est correct. Vous avez le droit de reprendre les fonctions développée dans le TP 14."
   ],
   "metadata": {}
  },
  {
   "cell_type": "code",
   "execution_count": null,
   "source": [
    "def test_1(f):\n",
    "    \"\"\"f est une fonction de trie d'une liste.\"\"\"\n",
    "    pass\n",
    "\n",
    "def test_2(f):\n",
    "    \"\"\"f est une fonction de trie d'une liste.\"\"\"\n",
    "    pass\n",
    "\n",
    "# Ecrivez autant de tests unitaires que vous jugez nécessaire"
   ],
   "outputs": [],
   "metadata": {}
  },
  {
   "cell_type": "markdown",
   "source": [
    "## Exercice 2 - Bubble Sort\n",
    "\n",
    "En vous aidant des diapositives du cours, implémentez l'algorithme de tri *Bubble Sort* dans une fonction nommée `bubble_sort` qui prend une liste `L` en entrée.\n",
    "\n",
    "Appelez ensuite chacun des tests unitaires sur la fonction `bubble_sort`."
   ],
   "metadata": {}
  },
  {
   "cell_type": "code",
   "execution_count": null,
   "source": [
    "\n",
    "\n",
    "\n"
   ],
   "outputs": [],
   "metadata": {}
  },
  {
   "cell_type": "markdown",
   "source": [
    "## Exercice 3 - Selection Sort\n",
    "\n",
    "En vous aidant des diapositives du cours, implémentez l'algorithme de tri *Selection Sort* dans une fonction nommée `selection_sort` qui prend une liste `L` en entrée.\n",
    "\n",
    "Appelez ensuite chacun des tests unitaires sur la fonction `selection_sort`."
   ],
   "metadata": {}
  },
  {
   "cell_type": "code",
   "execution_count": null,
   "source": [
    "\n",
    "\n"
   ],
   "outputs": [],
   "metadata": {}
  },
  {
   "cell_type": "markdown",
   "source": [
    "## Exercice 4 - Partition\n",
    "\n",
    "En vous aidant des diapositives du cours, implémentez l'algorithme *Partition* dans une fonction nommée `partition` qui prend en entrée une liste `L`, et 2 bornes `bas` et `haut`.\n",
    "\n",
    "La partition se fera par rapport à l'élément `L[bas]`. Cette partition s'effectue dans `L[bas:haut+1]`."
   ],
   "metadata": {}
  },
  {
   "cell_type": "code",
   "execution_count": null,
   "source": [
    "\n",
    "\n",
    "\n"
   ],
   "outputs": [],
   "metadata": {}
  },
  {
   "cell_type": "markdown",
   "source": [
    "## Exercice 5 - Quick Sort\n",
    "\n",
    "En vous aidant de la fonction `partition` de l'exercice précédent et des diapositives du cours, implémentez l'algorithme de tri *Quick Sort* dans une fonction nommée `quick_sort` qui prend une liste `L` en entrée.\n",
    "\n",
    "Appelez ensuite chacun des tests unitaires sur la fonction `quick_sort`."
   ],
   "metadata": {}
  },
  {
   "cell_type": "code",
   "execution_count": null,
   "source": [
    "\n",
    "\n",
    "\n"
   ],
   "outputs": [],
   "metadata": {}
  },
  {
   "cell_type": "markdown",
   "source": [
    "## Exercice 6 - Fusion\n",
    "\n",
    "En vous aidant des diapositives du cours, implémentez l'algorithme *Fusion* dans une fonction nommée `fusion` qui prend en entrée 2 listes triées nommées `gauche` et `droite`, et renvoie la liste triée composée des éléments de `gauche + droite`."
   ],
   "metadata": {}
  },
  {
   "cell_type": "code",
   "execution_count": null,
   "source": [
    "\n",
    "\n",
    "\n"
   ],
   "outputs": [],
   "metadata": {}
  },
  {
   "cell_type": "markdown",
   "source": [
    "## Exercice 7 - Merge Sort\n",
    "\n",
    "En vous aidant de la fonction `fusion` de l'exercice précédent et des diapositives du cours, implémentez l'algorithme de tri *Merge Sort* dans une fonction nommée `merge_sort` qui prend une liste `L` en entrée.\n",
    "\n",
    "Appelez ensuite chacun des tests unitaires sur la fonction `merge_sort`."
   ],
   "metadata": {}
  },
  {
   "cell_type": "code",
   "execution_count": null,
   "source": [
    "\n",
    "\n",
    "\n"
   ],
   "outputs": [],
   "metadata": {}
  },
  {
   "cell_type": "markdown",
   "source": [
    "## Exercice 8 - Comparaison des algorithmes\n",
    "\n",
    "Reprenez votre fonction `genere_liste_aleatoire` du TP 11."
   ],
   "metadata": {}
  },
  {
   "cell_type": "code",
   "execution_count": null,
   "source": [
    "\n",
    "\n"
   ],
   "outputs": [],
   "metadata": {}
  },
  {
   "cell_type": "markdown",
   "source": [
    "Implémentez une fonction `gen_data_set` qui renvoie une liste de listes de nombres aléatoires. Chacune de ces listes de nombres aléatoires est générée avec `genere_liste_aleatoire` pour générer respectivement $10^0$, $10^1$, $10^2$, ..., $10^7$ nombres.\n",
    "\n",
    "Ainsi :\n",
    "```py\n",
    "data = gen_data_set()\n",
    "print(len(data[0]))\n",
    "print(len(data[1]))\n",
    "print(len(data[2]))\n",
    "print(len(data[3]))\n",
    "print(len(data[4]))\n",
    "print(len(data[5]))\n",
    "print(len(data[6]))\n",
    "print(len(data[7]))\n",
    "```\n",
    "\n",
    "doit afficher :\n",
    "```\n",
    "1\n",
    "10\n",
    "100\n",
    "1000\n",
    "10000\n",
    "100000\n",
    "1000000\n",
    "10000000\n",
    "```"
   ],
   "metadata": {}
  },
  {
   "cell_type": "code",
   "execution_count": null,
   "source": [
    "\n",
    "\n",
    "\n"
   ],
   "outputs": [],
   "metadata": {}
  },
  {
   "cell_type": "markdown",
   "source": [
    "\n",
    "Implémentez une fonction `bench_data_set` qui prend en entrée une fonction `f` et une liste de donnée `data` et renvoie une liste de temps mis pour appliquer f sur chaque élément de `data`.\n",
    "\n",
    "Utilisez `timeit` pour mesurer le temps d'exécution.\n",
    "\n",
    "Par exemple :\n",
    "```py\n",
    "def python_sort(L):\n",
    "    L.sort()\n",
    "\n",
    "data = gen_data_set()\n",
    "result = bench_data_set(python_sort, data)\n",
    "print(result)\n",
    "```\n",
    "\n",
    "peut afficher :\n",
    "```\n",
    "[5.920999683439732e-06, 4.560002707876265e-06, 2.5380999431945384e-05, \n",
    "0.00028754099912475795, 0.003701869998621987, 0.03065902199887205, \n",
    "0.238103300001967, 3.6971509770010016]\n",
    "```"
   ],
   "metadata": {}
  },
  {
   "cell_type": "code",
   "execution_count": null,
   "source": [
    "\n",
    "\n",
    "\n"
   ],
   "outputs": [],
   "metadata": {}
  },
  {
   "cell_type": "markdown",
   "source": [
    "Appelez `bench_data_set` sur `bubble_sort`, `selection_sort`, `quick_sort` et `merge_sort`. Comparez-les ensemble et avec `python_sort`.\n",
    "\n",
    "Qu'en déduisez-vous ?"
   ],
   "metadata": {}
  },
  {
   "cell_type": "code",
   "execution_count": null,
   "source": [
    "\n",
    "\n",
    "\n"
   ],
   "outputs": [],
   "metadata": {}
  }
 ],
 "metadata": {
  "orig_nbformat": 4,
  "language_info": {
   "name": "python",
   "version": "3.9.6",
   "mimetype": "text/x-python",
   "codemirror_mode": {
    "name": "ipython",
    "version": 3
   },
   "pygments_lexer": "ipython3",
   "nbconvert_exporter": "python",
   "file_extension": ".py"
  },
  "kernelspec": {
   "name": "python3",
   "display_name": "Python 3.9.6 64-bit"
  },
  "interpreter": {
   "hash": "36cf16204b8548560b1c020c4e8fb5b57f0e4c58016f52f2d4be01e192833930"
  }
 },
 "nbformat": 4,
 "nbformat_minor": 2
}