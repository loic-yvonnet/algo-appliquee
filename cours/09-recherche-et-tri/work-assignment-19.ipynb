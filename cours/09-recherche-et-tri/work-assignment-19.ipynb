{
 "cells": [
  {
   "cell_type": "markdown",
   "source": [
    "# TP 15 - Tri de collections\n",
    "\n",
    "Pour chaque exercice, rentrez votre réponse dans l'éditeur Python associé.\n",
    "Enregistrez vos modifications, de préférence au format ipynb, lorsque vous aurez terminé.\n",
    "\n",
    "## Exercice 1 - Test Driven Development\n",
    "\n",
    "Imaginez que vous avez une fonction `f` qui prend en entrée une liste et la trie.\n",
    "\n",
    "Par exemple :\n",
    "```py\n",
    "L = [2, 3, 1]\n",
    "f(L)\n",
    "print(L)\n",
    "```\n",
    "\n",
    "va afficher :\n",
    "```\n",
    "[1, 2, 3]\n",
    "```\n",
    "\n",
    "Ecrivez des tests unitaires qui prennent en paramètre cette fonction et teste que son comportement est correct. Vous avez le droit de reprendre les fonctions développée dans le TP 14."
   ],
   "metadata": {}
  },
  {
   "cell_type": "code",
   "execution_count": null,
   "source": [
    "def test_1(f):\n",
    "    \"\"\"f est une fonction de trie d'une liste.\"\"\"\n",
    "    pass\n",
    "\n",
    "def test_2(f):\n",
    "    \"\"\"f est une fonction de trie d'une liste.\"\"\"\n",
    "    pass\n",
    "\n",
    "# Ecrivez autant de tests unitaires que vous jugez nécessaire"
   ],
   "outputs": [],
   "metadata": {}
  },
  {
   "cell_type": "markdown",
   "source": [
    "## Exercice 2 - Bubble Sort\n",
    "\n",
    "En vous aidant des diapositives du cours, implémentez l'algorithme de tri *Bubble Sort* dans une fonction nommée `tri_bulle` qui prend une liste `a` en entrée.\n",
    "\n",
    "Appelez ensuite chacun des tests unitaires sur la fonction `tri_bulle`."
   ],
   "metadata": {}
  },
  {
   "cell_type": "code",
   "execution_count": null,
   "source": [
    "\n",
    "\n",
    "\n"
   ],
   "outputs": [],
   "metadata": {}
  },
  {
   "cell_type": "markdown",
   "source": [
    "## Exercice 3 - Selection Sort\n",
    "\n",
    "En vous aidant des diapositives du cours, implémentez l'algorithme de tri *Selection Sort* dans une fonction nommée `tri_selection` qui prend une liste `a` en entrée.\n",
    "\n",
    "Appelez ensuite chacun des tests unitaires sur la fonction `tri_selection`."
   ],
   "metadata": {}
  },
  {
   "cell_type": "code",
   "execution_count": null,
   "source": [
    "\n",
    "\n"
   ],
   "outputs": [],
   "metadata": {}
  },
  {
   "cell_type": "markdown",
   "source": [
    "## Exercice 4 - Partition\n",
    "\n",
    "En vous aidant des diapositives du cours, implémentez l'algorithme *Partition* dans une fonction nommée `partition` qui prend en entrée une liste `a`, et 2 bornes `debut` et `fin`.\n",
    "\n",
    "La partition se fera par rapport à l'élément `L[debut]`. Cette partition s'effectue dans `L[debut:fin+1]`."
   ],
   "metadata": {}
  },
  {
   "cell_type": "code",
   "execution_count": null,
   "source": [
    "\n",
    "\n",
    "\n"
   ],
   "outputs": [],
   "metadata": {}
  },
  {
   "cell_type": "markdown",
   "source": [
    "## Exercice 5 - Quick Sort\n",
    "\n",
    "En vous aidant de la fonction `partition` de l'exercice précédent et des diapositives du cours, implémentez l'algorithme de tri *Quick Sort* dans une fonction nommée `tri_rapide` qui prend une liste `a` en entrée.\n",
    "\n",
    "Appelez ensuite chacun des tests unitaires sur la fonction `tri_rapide`."
   ],
   "metadata": {}
  },
  {
   "cell_type": "code",
   "execution_count": null,
   "source": [
    "\n",
    "\n",
    "\n"
   ],
   "outputs": [],
   "metadata": {}
  },
  {
   "cell_type": "markdown",
   "source": [
    "## Exercice 6 - Fusion\n",
    "\n",
    "En vous aidant des diapositives du cours, implémentez l'algorithme *Fusion* dans une fonction nommée `fusion`. Cette fonction prend en entrée 4 arguments :\n",
    "* La liste `a`,\n",
    "* L'indice `debut`,\n",
    "* L'indice `milieu`\n",
    "* L'indice `fin`.\n",
    "\n",
    "La liste `a` doit être telle que :\n",
    "* `a[debut:milieu]` est triée, \n",
    "* `a[milieu+1:fin]` est triée.\n",
    "\n",
    "La fonction `fusion` modifie `a` de telle sorte qu'elle soit triée sur tout l'interval `[debut:fin]`."
   ],
   "metadata": {}
  },
  {
   "cell_type": "code",
   "execution_count": null,
   "source": [
    "\n",
    "\n",
    "\n"
   ],
   "outputs": [],
   "metadata": {}
  },
  {
   "cell_type": "markdown",
   "source": [
    "## Exercice 7 - Merge Sort\n",
    "\n",
    "En vous aidant de la fonction `fusion` de l'exercice précédent et des diapositives du cours, implémentez l'algorithme de tri *Merge Sort* dans une fonction nommée `tri_fusion` qui prend une liste `a` en entrée.\n",
    "\n",
    "Appelez ensuite chacun des tests unitaires sur la fonction `tri_fusion`."
   ],
   "metadata": {}
  },
  {
   "cell_type": "code",
   "execution_count": null,
   "source": [
    "\n",
    "\n",
    "\n"
   ],
   "outputs": [],
   "metadata": {}
  },
  {
   "cell_type": "markdown",
   "source": [
    "## Exercice 8 - Comparaison des algorithmes\n",
    "\n",
    "Reprenez votre fonction `genere_liste_aleatoire` du TP 11."
   ],
   "metadata": {}
  },
  {
   "cell_type": "code",
   "execution_count": null,
   "source": [
    "\n",
    "\n"
   ],
   "outputs": [],
   "metadata": {}
  },
  {
   "cell_type": "markdown",
   "source": [
    "Implémentez une fonction `gen_data_set` qui renvoie une liste de listes de nombres aléatoires. Chacune de ces listes de nombres aléatoires est générée avec `genere_liste_aleatoire` pour générer respectivement $10^0$, $10^1$, $10^2$, ..., $10^4$ nombres.\n",
    "\n",
    "Ainsi :\n",
    "```py\n",
    "data = gen_data_set()\n",
    "for element in data:\n",
    "    print(len(element))\n",
    "```\n",
    "\n",
    "doit afficher :\n",
    "```\n",
    "1\n",
    "10\n",
    "100\n",
    "1000\n",
    "10000\n",
    "```"
   ],
   "metadata": {}
  },
  {
   "cell_type": "code",
   "execution_count": null,
   "source": [
    "\n",
    "\n",
    "\n"
   ],
   "outputs": [],
   "metadata": {}
  },
  {
   "cell_type": "markdown",
   "source": [
    "Implémentez une fonction `bench_data_set` qui prend en entrée une fonction `f` et une liste de donnée `data` et renvoie une liste de temps mis pour appliquer f sur chaque élément de `data`.\n",
    "\n",
    "Utilisez `timeit` pour mesurer le temps d'exécution.\n",
    "\n",
    "Par exemple :\n",
    "```py\n",
    "def python_sort(L):\n",
    "    L.sort()\n",
    "\n",
    "data = gen_data_set()\n",
    "result = bench_data_set(python_sort, data)\n",
    "print(result)\n",
    "```\n",
    "\n",
    "peut afficher :\n",
    "```\n",
    "[2.3989996407181025e-06, 1.963002432603389e-06, 1.1650001397356391e-05, \n",
    " 0.0001281039985769894, 0.0016064369992818683]\n",
    "```"
   ],
   "metadata": {}
  },
  {
   "cell_type": "code",
   "execution_count": null,
   "source": [
    "\n",
    "\n",
    "\n"
   ],
   "outputs": [],
   "metadata": {}
  },
  {
   "cell_type": "markdown",
   "source": [
    "Appelez `bench_data_set` sur `tri_bulle`, `tri_selection`, `tri_rapide` et `tri_fusion`. Comparez-les ensemble et avec `python_sort`.\n",
    "\n",
    "Qu'en déduisez-vous ?"
   ],
   "metadata": {}
  },
  {
   "cell_type": "code",
   "execution_count": null,
   "source": [
    "\n",
    "\n",
    "\n"
   ],
   "outputs": [],
   "metadata": {}
  }
 ],
 "metadata": {
  "orig_nbformat": 4,
  "language_info": {
   "name": "python",
   "version": "3.9.6",
   "mimetype": "text/x-python",
   "codemirror_mode": {
    "name": "ipython",
    "version": 3
   },
   "pygments_lexer": "ipython3",
   "nbconvert_exporter": "python",
   "file_extension": ".py"
  },
  "kernelspec": {
   "name": "python3",
   "display_name": "Python 3.9.6 64-bit"
  },
  "interpreter": {
   "hash": "36cf16204b8548560b1c020c4e8fb5b57f0e4c58016f52f2d4be01e192833930"
  }
 },
 "nbformat": 4,
 "nbformat_minor": 2
}