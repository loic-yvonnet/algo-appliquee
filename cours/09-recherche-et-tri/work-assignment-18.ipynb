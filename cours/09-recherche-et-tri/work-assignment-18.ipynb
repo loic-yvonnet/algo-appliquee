{
 "cells": [
  {
   "cell_type": "markdown",
   "source": [
    "# TP 9 - Manipulation d'une liste chaînée\n",
    "\n",
    "Pour chaque exercice, rentrez votre réponse dans l'éditeur Python associé.\n",
    "Enregistrez vos modifications, de préférence au format ipynb, lorsque vous aurez terminé.\n",
    "\n",
    "## Exercice 1 - Représentation d'une liste chaînée\n",
    "\n",
    "@TODO"
   ],
   "metadata": {}
  },
  {
   "cell_type": "code",
   "execution_count": 5,
   "source": [
    "from dataclasses import dataclass\n",
    "\n",
    "@dataclass\n",
    "class Noeud:\n",
    "    \"\"\"Noeud de la liste chainee.\n",
    "    \n",
    "    La valeur peut etre n'importe quel objet Python valide.\n",
    "    Le suivant doit avoir pour type Noeud ou None.\n",
    "    \"\"\"\n",
    "    valeur = None\n",
    "    suivant = None\n",
    "\n",
    "@dataclass\n",
    "class Liste:\n",
    "    \"\"\"Liste chainee.\n",
    "\n",
    "    Il s'agit simplement d'un point d'entree vers le 1er noeud\n",
    "    de la liste chainee, nomme initial.\n",
    "    La variable initial doit avoir pour type Noeud ou None.\n",
    "    Toutes les fonctions de ce TP prendront une Liste en entree.\n",
    "    \"\"\"\n",
    "    initial = None"
   ],
   "outputs": [],
   "metadata": {}
  },
  {
   "cell_type": "markdown",
   "source": [
    "## Exercice 2 - Création d'une liste chaînée"
   ],
   "metadata": {}
  },
  {
   "cell_type": "markdown",
   "source": [
    "## Exercice 3 - Insertion au début"
   ],
   "metadata": {}
  },
  {
   "cell_type": "markdown",
   "source": [
    "## Exercice 4 - Insertion au milieu"
   ],
   "metadata": {}
  },
  {
   "cell_type": "markdown",
   "source": [
    "## Exercice 5 - Insertion à la fin"
   ],
   "metadata": {}
  },
  {
   "cell_type": "markdown",
   "source": [
    "## Exercice 6 - Recherche d'une valeur"
   ],
   "metadata": {}
  },
  {
   "cell_type": "markdown",
   "source": [
    "## Exercice 7 - Retourner la i-ième valeur"
   ],
   "metadata": {}
  },
  {
   "cell_type": "markdown",
   "source": [
    "## Exercice 8 - Suppression d'un noeud (au début, au milieu ou à la fin)"
   ],
   "metadata": {}
  }
 ],
 "metadata": {
  "orig_nbformat": 4,
  "language_info": {
   "name": "python",
   "version": "3.9.6",
   "mimetype": "text/x-python",
   "codemirror_mode": {
    "name": "ipython",
    "version": 3
   },
   "pygments_lexer": "ipython3",
   "nbconvert_exporter": "python",
   "file_extension": ".py"
  },
  "kernelspec": {
   "name": "python3",
   "display_name": "Python 3.9.6 64-bit"
  },
  "interpreter": {
   "hash": "36cf16204b8548560b1c020c4e8fb5b57f0e4c58016f52f2d4be01e192833930"
  }
 },
 "nbformat": 4,
 "nbformat_minor": 2
}