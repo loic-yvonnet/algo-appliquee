{
 "cells": [
  {
   "cell_type": "markdown",
   "source": [
    "# TP 14 - Recherche dans une collection\n",
    "\n",
    "Pour chaque exercice, rentrez votre réponse dans l'éditeur Python associé.\n",
    "Enregistrez vos modifications, de préférence au format ipynb, lorsque vous aurez terminé.\n"
   ],
   "metadata": {}
  },
  {
   "cell_type": "markdown",
   "source": [
    "\n",
    "## Exercice 1 - Vérification qu'une liste est triée\n",
    "\n",
    "Implémentez la fonction `est_triee` qui prend en entrée une liste et retourne `True` si elle est triée dans l'ordre croissant.\n",
    "\n",
    "Par exemple :\n",
    "```py\n",
    "print(est_triee([1, 2, 3]))\n",
    "print(est_triee([4, 2, 3]))\n",
    "```\n",
    "\n",
    "doit afficher :\n",
    "```\n",
    "True\n",
    "False\n",
    "```"
   ],
   "metadata": {}
  },
  {
   "cell_type": "code",
   "execution_count": null,
   "source": [
    "\n",
    "\n",
    "\n"
   ],
   "outputs": [],
   "metadata": {}
  },
  {
   "cell_type": "markdown",
   "source": [
    "## Exercice 2 - Amélioration de la fonction est_triee\n",
    "\n",
    "Implémentez la fonction `est_triee_comp` qui prend en entrée une liste et une fonction de comparaison, et retourne `True` si la fonction de comparaison renvoie `True` pour chaque élément pris 2 à 2.\n",
    "\n",
    "Par exemple :\n",
    "```py\n",
    "superieur = lambda a, b: a > b\n",
    "est_decroissant = lambda L: est_triee_comp(L, superieur)\n",
    "L = [5, 4, 3, 2, 1]\n",
    "statut = est_decroissant(L)\n",
    "print(statut)\n",
    "```\n",
    "\n",
    "doit afficher :\n",
    "```\n",
    "True\n",
    "```"
   ],
   "metadata": {}
  },
  {
   "cell_type": "code",
   "execution_count": null,
   "source": [
    "\n",
    "\n",
    "\n"
   ],
   "outputs": [],
   "metadata": {}
  },
  {
   "cell_type": "markdown",
   "source": [
    "## Exercice 3 - Recherche binaire dans une liste triée\n",
    "\n",
    "Implémentez la fonction `recherche_binaire` qui prend une liste, une fonction de comparaison et un nombre en entrée, et renvoie l'index de ce nombre, s'il est dans la liste, et -1 sinon.\n",
    "\n",
    "Si la liste en entrée n'est pas triée, levez une exception.\n",
    "\n",
    "Par exemple :\n",
    "```py\n",
    "superieur = lambda a, b : a > b\n",
    "L = [10, 5, 3, 1]\n",
    "try:\n",
    "    index = recherche_binaire(L, superieur, 3)\n",
    "    print(index)\n",
    "    index = recherche_binaire(L, superieur, 2)\n",
    "    print(index)\n",
    "    index = recherche_binaire([1, 2, 3], superieur, 2)\n",
    "    print(index)\n",
    "except ValueError:\n",
    "    print(\"Exception attrapée\")\n",
    "```\n",
    "\n",
    "doit afficher :\n",
    "```\n",
    "2\n",
    "-1\n",
    "Exception attrapée\n",
    "```    "
   ],
   "metadata": {}
  },
  {
   "cell_type": "code",
   "execution_count": null,
   "source": [
    "\n",
    "\n",
    "\n"
   ],
   "outputs": [],
   "metadata": {}
  },
  {
   "cell_type": "markdown",
   "source": [
    "## Exercice 4 - Collection toujours triée\n",
    "\n",
    "En utilisant le mot clé `class` et l'annotation `@dataclass`, créez une structure de données appelée `ListeTriee`.\n",
    "\n",
    "Cette structure de données comporte :\n",
    "* une donnée membre appelée `liste`, et initialisée à une liste vide.\n",
    "* une donnée membre appelée `comparateur`, et initialisée à une lambda qui renvoie `True` si un premier nombre est inférieur au second.\n"
   ],
   "metadata": {}
  },
  {
   "cell_type": "code",
   "execution_count": 1,
   "source": [
    "from dataclasses import dataclass, field\n",
    "from typing import List, Callable\n",
    "\n",
    "@dataclass\n",
    "class ListeTriee:\n",
    "    \"\"\"Cette liste est toujours triée par construction.\"\"\"\n",
    "    liste: List = field(default_factory=list)\n",
    "    comparateur: Callable[[int, int], bool] = lambda a, b: a < b\n",
    "\n",
    "# Exemple de création\n",
    "liste_triee = ListeTriee()\n",
    "\n",
    "# La variable liste est une list Python\n",
    "liste_triee.liste.append(2)\n",
    "\n",
    "# On peut facilement l'afficher\n",
    "print(liste_triee.liste)\n",
    "\n",
    "# Le comparateur est une fonction lambda que l'on peut appeler\n",
    "print(liste_triee.comparateur(2, 3))"
   ],
   "outputs": [
    {
     "output_type": "stream",
     "name": "stdout",
     "text": [
      "[2]\n",
      "True\n"
     ]
    }
   ],
   "metadata": {}
  },
  {
   "cell_type": "markdown",
   "source": [
    "Implémentez la fonction `affiche_liste_triee` qui prend une `ListeTriee` en entrée et affiche son contenu sur la sortie standard de la console."
   ],
   "metadata": {}
  },
  {
   "cell_type": "code",
   "execution_count": null,
   "source": [
    "\n",
    "\n",
    "\n"
   ],
   "outputs": [],
   "metadata": {}
  },
  {
   "cell_type": "markdown",
   "source": [
    "Implémentez la fonction `insertion_triee` qui prend une `ListeTriee` nommée `L` et un nombre nommé `n` en entrée. Le nombre `n` est inséré dans la liste dès que le comparateur renvoie `True`.\n",
    "\n",
    "Par exemple :\n",
    "```py\n",
    "L = ListeTriee()\n",
    "insertion_triee(L, 5)\n",
    "insertion_triee(L, 3)\n",
    "insertion_triee(L, 8)\n",
    "insertion_triee(L, 1)\n",
    "insertion_triee(L, 2)\n",
    "insertion_triee(L, 10)\n",
    "affiche_liste_triee(L)\n",
    "```\n",
    "\n",
    "doit afficher :\n",
    "```\n",
    "[1, 2, 3, 5, 8, 10]\n",
    "```\n",
    "\n",
    "Autre exemple :\n",
    "```py\n",
    "L = ListeTriee(comparateur=lambda a, b : a > b)\n",
    "insertion_triee(L, 5)\n",
    "insertion_triee(L, 3)\n",
    "insertion_triee(L, 8)\n",
    "insertion_triee(L, 1)\n",
    "insertion_triee(L, 2)\n",
    "insertion_triee(L, 10)\n",
    "affiche_liste_triee(L)\n",
    "```\n",
    "\n",
    "doit afficher :\n",
    "```\n",
    "[10, 8, 5, 3, 2, 1]\n",
    "```"
   ],
   "metadata": {}
  },
  {
   "cell_type": "code",
   "execution_count": null,
   "source": [
    "\n",
    "\n",
    "\n"
   ],
   "outputs": [],
   "metadata": {}
  }
 ],
 "metadata": {
  "orig_nbformat": 4,
  "language_info": {
   "name": "python",
   "version": "3.9.7",
   "mimetype": "text/x-python",
   "codemirror_mode": {
    "name": "ipython",
    "version": 3
   },
   "pygments_lexer": "ipython3",
   "nbconvert_exporter": "python",
   "file_extension": ".py"
  },
  "kernelspec": {
   "name": "python3",
   "display_name": "Python 3.9.7 64-bit"
  },
  "interpreter": {
   "hash": "36cf16204b8548560b1c020c4e8fb5b57f0e4c58016f52f2d4be01e192833930"
  }
 },
 "nbformat": 4,
 "nbformat_minor": 2
}