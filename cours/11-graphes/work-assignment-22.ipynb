{
 "cells": [
  {
   "cell_type": "markdown",
   "metadata": {},
   "source": [
    "# TP 18 - Arbres binaires\n",
    "\n",
    "Pour chaque exercice, rentrez votre réponse dans l'éditeur Python associé.\n",
    "Enregistrez vos modifications, de préférence au format ipynb, lorsque vous aurez terminé.\n",
    "\n",
    "## Exercice 1 - Structure de données\n"
   ]
  },
  {
   "cell_type": "markdown",
   "metadata": {},
   "source": [
    "## Exercice 2 - Insertion\n",
    "\n",
    "Utiliser la fonction de comparaison < (càd __lt__) pour savoir où insérer\n",
    "Prendre des entiers et des strings comme exemples.\n",
    "Dans les autres exercices, on partira du principe que ce sont des entiers."
   ]
  },
  {
   "cell_type": "markdown",
   "metadata": {},
   "source": [
    "## Exercice 3 - Recherche\n",
    "\n",
    "En récursif et en itératif (avec dequeue)"
   ]
  },
  {
   "cell_type": "markdown",
   "metadata": {},
   "source": [
    "## Exercice 4 - Suppression"
   ]
  },
  {
   "cell_type": "markdown",
   "metadata": {},
   "source": [
    "## Exercice 5 - Affichage de hiérarchie\n",
    "\n",
    "Implémenter une fonction de comptage des éléments à gauche et à droite d'un noeud.\n",
    "\n",
    "Afficher l'arbre sous la forme :\n",
    "\n",
    "                            6\n",
    "                          /   \\\n",
    "                         3     12\n",
    "                        / \\           \n",
    "                       1   5"
   ]
  },
  {
   "cell_type": "markdown",
   "metadata": {},
   "source": [
    "## Exercice 6 - Affichage dans l'ordre\n",
    "\n",
    "DFS => 1, 3, 5, 6, 12 dans l'exemple ci-dessus"
   ]
  },
  {
   "cell_type": "markdown",
   "metadata": {},
   "source": [
    "## Exercice 7 - Application d'une fonction d'ordre supérieur"
   ]
  },
  {
   "cell_type": "markdown",
   "metadata": {},
   "source": [
    "## Exercice 8 - Tests unitaires"
   ]
  },
  {
   "cell_type": "markdown",
   "metadata": {},
   "source": [
    "## Exercice 9 - Benchmark\n",
    "\n",
    "Avec random => remplir un gros arbre\n",
    "Tracer avec MatPlotLib l'évolution du temps d'insertion\n",
    "Tracer avec MatPlotLib l'évolution du temps de recherche"
   ]
  },
  {
   "cell_type": "markdown",
   "metadata": {},
   "source": [
    "## Exercice 10 - Complexité\n",
    "\n",
    "Dans quel cas a-t-on la pire complexité ? Quelle est-elle ? Pourquoi ?\n",
    "Comment pourrais-t-on améliroer les choses?\n",
    "\n",
    "L'alternative s'appelle un Red Black Tree : Arbre Rouge Noir."
   ]
  }
 ],
 "metadata": {
  "interpreter": {
   "hash": "36cf16204b8548560b1c020c4e8fb5b57f0e4c58016f52f2d4be01e192833930"
  },
  "kernelspec": {
   "display_name": "Python 3.9.7 64-bit",
   "name": "python3"
  },
  "language_info": {
   "codemirror_mode": {
    "name": "ipython",
    "version": 3
   },
   "file_extension": ".py",
   "mimetype": "text/x-python",
   "name": "python",
   "nbconvert_exporter": "python",
   "pygments_lexer": "ipython3",
   "version": "3.9.7"
  },
  "orig_nbformat": 4
 },
 "nbformat": 4,
 "nbformat_minor": 2
}
