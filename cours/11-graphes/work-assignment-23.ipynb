{
 "cells": [
  {
   "cell_type": "markdown",
   "metadata": {},
   "source": [
    "# TP 19 - Graphes\n",
    "\n",
    "Pour chaque exercice, rentrez votre réponse dans l'éditeur Python associé.\n",
    "Enregistrez vos modifications, de préférence au format ipynb, lorsque vous aurez terminé."
   ]
  },
  {
   "cell_type": "markdown",
   "metadata": {},
   "source": [
    "## Exercice 1 - Graphe non-orienté avec networkx\n",
    "\n",
    "Le module networkx permet de créer des graphes et de les analyser. Ce module implémente tous les algorithmes vus en cours, et bien d'autres.\n",
    "\n",
    "Il est possible de créer un graphe non-orienté avec networkx.\n",
    "\n",
    "Exécutez plusieurs fois le code suivant :"
   ]
  },
  {
   "cell_type": "code",
   "execution_count": null,
   "metadata": {},
   "outputs": [],
   "source": [
    "import matplotlib.pyplot as plt\n",
    "import networkx as nx\n",
    "\n",
    "# Création du graphe non-orienté G\n",
    "G = nx.Graph()\n",
    "\n",
    "# Insertion du sommet 1\n",
    "G.add_node(1)\n",
    "\n",
    "# Insertion des sommets 2, 3, 4 et 5\n",
    "G.add_nodes_from([2, 3, 4, 5])\n",
    "\n",
    "# Insertion de l'arête 1 -- 2\n",
    "G.add_edge(1, 2)\n",
    "\n",
    "# Insertion des arêtes 1 -- 3, 3 -- 4, et 3 -- 5\n",
    "G.add_edges_from([(1, 3), (3, 4), (3, 5)])\n",
    "\n",
    "# Affichage du graphe\n",
    "nx.draw_networkx(G)"
   ]
  },
  {
   "cell_type": "markdown",
   "metadata": {},
   "source": [
    "Qu'est-ce que vous observez ?"
   ]
  },
  {
   "cell_type": "code",
   "execution_count": null,
   "metadata": {},
   "outputs": [],
   "source": [
    "\n",
    "\n",
    "\n"
   ]
  },
  {
   "cell_type": "markdown",
   "metadata": {},
   "source": [
    "On peut fixer les sommets à des positions particulières et changer l'aspect du graphe.\n",
    "\n",
    "Exécutez maintenant plusieurs fois le code suivant :"
   ]
  },
  {
   "cell_type": "code",
   "execution_count": null,
   "metadata": {},
   "outputs": [],
   "source": [
    "import matplotlib.pyplot as plt\n",
    "import networkx as nx\n",
    "\n",
    "# Création du graphe non-orienté G\n",
    "G = nx.Graph()\n",
    "\n",
    "# Insertion des sommets 0 à 4\n",
    "G.add_nodes_from(range(5))\n",
    "\n",
    "# Insertion des arêtes\n",
    "G.add_edges_from([(0, 1), (0, 2), (2, 3), (2, 4)])\n",
    "\n",
    "# Positionnement explicite des sommets\n",
    "positions = {\n",
    "    0: (25, 50),\n",
    "    1: (33, 25),\n",
    "    2: (15, 25),\n",
    "    3: (5, 0),\n",
    "    4: (25, 0)\n",
    "}\n",
    "\n",
    "# Options d'affichage\n",
    "options = {\n",
    "    \"font_size\": 20,        # Taille de la police\n",
    "    \"node_size\": 2000,      # Taille des sommets\n",
    "    \"node_color\": \"white\",  # Couleur du fond des sommets\n",
    "    \"edgecolors\": \"black\",  # Couleurs des arêtes\n",
    "    \"linewidths\": 5,        # Epaisseur des contours des sommets\n",
    "    \"width\": 2              # Epaisseur des arêtes\n",
    "}\n",
    "\n",
    "# Affichage du graphe\n",
    "nx.draw_networkx(G, positions, **options)\n",
    "\n",
    "# Agrandit les marges\n",
    "ax = plt.gca()\n",
    "ax.margins(0.20)"
   ]
  },
  {
   "cell_type": "markdown",
   "metadata": {},
   "source": [
    "Qu'en déduisez-vous ?"
   ]
  },
  {
   "cell_type": "code",
   "execution_count": null,
   "metadata": {},
   "outputs": [],
   "source": [
    "\n",
    "\n",
    "\n"
   ]
  },
  {
   "cell_type": "markdown",
   "metadata": {},
   "source": [
    "Une autre manière de fixer les positions consiste à utiliser un `layout`."
   ]
  },
  {
   "cell_type": "code",
   "execution_count": null,
   "metadata": {},
   "outputs": [],
   "source": [
    "# Création du graphe non-orienté G\n",
    "G = nx.Graph()\n",
    "\n",
    "# Insertion des arêtes (et des noeuds associés)\n",
    "G.add_edges_from([(0, 1), (0, 2), (2, 3), (2, 4)])\n",
    "\n",
    "# Fixation de la disposition des sommets\n",
    "pos = nx.spring_layout(G, seed=7)\n",
    "\n",
    "# Affichage du graphe\n",
    "nx.draw_networkx(G, pos)"
   ]
  },
  {
   "cell_type": "markdown",
   "metadata": {},
   "source": [
    "Autre exemple :"
   ]
  },
  {
   "cell_type": "code",
   "execution_count": null,
   "metadata": {},
   "outputs": [],
   "source": [
    "# Création d'un graphe non-orienté avec 50 sommets, reliés un-à-un par une arête\n",
    "G = nx.path_graph(50)\n",
    "\n",
    "# Fixation de la disposition des sommets\n",
    "pos = nx.spiral_layout(G, resolution=0.75, equidistant=True)\n",
    "\n",
    "# Affichage du graphe\n",
    "nx.draw_networkx(G, pos)"
   ]
  },
  {
   "cell_type": "markdown",
   "metadata": {},
   "source": [
    "Autre exemple avec un graphe complet (c'est-à-dire dont tous les sommets sont reliés entre eux) :"
   ]
  },
  {
   "cell_type": "code",
   "execution_count": null,
   "metadata": {},
   "outputs": [],
   "source": [
    "# Création d'un graphe non-orienté complet avec 10 sommets\n",
    "G = nx.complete_graph(10)\n",
    "\n",
    "# Fixation de la disposition des sommets\n",
    "pos = nx.circular_layout(G)\n",
    "\n",
    "# Affichage du graphe\n",
    "nx.draw_networkx(G, pos)"
   ]
  },
  {
   "cell_type": "markdown",
   "metadata": {},
   "source": [
    "## Exercice 2 - Graphe orienté\n",
    "\n",
    "La création et la manipulation d'un graphe orienté se fait de la même manière :"
   ]
  },
  {
   "cell_type": "code",
   "execution_count": null,
   "metadata": {},
   "outputs": [],
   "source": [
    "import matplotlib.pyplot as plt\n",
    "import networkx as nx\n",
    "\n",
    "# Création du graphe orienté G\n",
    "G = nx.DiGraph()\n",
    "\n",
    "# Insertion du sommet 1\n",
    "G.add_node(1)\n",
    "\n",
    "# Insertion des sommets 2, 3, 4 et 5\n",
    "G.add_nodes_from([2, 3, 4, 5])\n",
    "\n",
    "# Insertion de l'arc 1 -> 2\n",
    "G.add_edge(1, 2)\n",
    "\n",
    "# Insertion des arcs 1 -> 3, 3 -> 4, et 3 -> 5\n",
    "G.add_edges_from([(1, 3), (3, 4), (3, 5)])\n",
    "\n",
    "# Affichage du graphe\n",
    "nx.draw_networkx(G)"
   ]
  },
  {
   "cell_type": "markdown",
   "metadata": {},
   "source": [
    "On peut fixer également la disposition :"
   ]
  },
  {
   "cell_type": "code",
   "execution_count": null,
   "metadata": {},
   "outputs": [],
   "source": [
    "import matplotlib.pyplot as plt\n",
    "import networkx as nx\n",
    "\n",
    "# Création du graphe orienté G\n",
    "G = nx.DiGraph()\n",
    "\n",
    "# Insertion des sommets 0 à 4\n",
    "G.add_nodes_from(range(5))\n",
    "\n",
    "# Insertion des arcs\n",
    "G.add_edges_from([(0, 1), (0, 2), (2, 3), (2, 4)])\n",
    "\n",
    "# Positionnement explicite des sommets\n",
    "positions = {\n",
    "    0: (25, 50),\n",
    "    1: (33, 25),\n",
    "    2: (15, 25),\n",
    "    3: (5, 0),\n",
    "    4: (25, 0)\n",
    "}\n",
    "\n",
    "# Options d'affichage\n",
    "options = {\n",
    "    \"font_size\": 20,        # Taille de la police\n",
    "    \"node_size\": 2000,      # Taille des sommets\n",
    "    \"node_color\": \"white\",  # Couleur du fond des sommets\n",
    "    \"edgecolors\": \"black\",  # Couleurs des arcs\n",
    "    \"linewidths\": 5,        # Epaisseur des contours des sommets\n",
    "    \"width\": 2,             # Epaisseur des arcs\n",
    "    \"arrowsize\": 25         # Epaisseur des flêches\n",
    "}\n",
    "\n",
    "# Affichage du graphe\n",
    "nx.draw_networkx(G, positions, **options)\n",
    "\n",
    "# Agrandit les marges\n",
    "ax = plt.gca()\n",
    "ax.margins(0.20)"
   ]
  },
  {
   "cell_type": "markdown",
   "metadata": {},
   "source": [
    "Autre exemple :"
   ]
  },
  {
   "cell_type": "code",
   "execution_count": null,
   "metadata": {},
   "outputs": [],
   "source": [
    "# Création d'un graphe avec 50 sommets, reliés un-à-un par une arête\n",
    "G = nx.complete_graph(5, create_using=nx.DiGraph)\n",
    "\n",
    "# Fixation de la disposition des sommets\n",
    "pos = nx.spring_layout(G, seed=7)\n",
    "\n",
    "# Affichage du graphe\n",
    "nx.draw_networkx(G, pos, **options)\n",
    "\n",
    "# Agrandit les marges\n",
    "ax = plt.gca()\n",
    "ax.margins(0.20)"
   ]
  },
  {
   "cell_type": "markdown",
   "metadata": {},
   "source": [
    "## Exercice 3 - Fermeture transitive\n",
    "\n",
    "Exécutez le code suivant :"
   ]
  },
  {
   "cell_type": "code",
   "execution_count": null,
   "metadata": {},
   "outputs": [],
   "source": [
    "import matplotlib.pyplot as plt\n",
    "import networkx as nx\n",
    "\n",
    "# Création du graphe orienté G\n",
    "G = nx.DiGraph()\n",
    "\n",
    "# Insertion des arcs\n",
    "G.add_edges_from([(0, 1), (1, 3), (3, 4), (3, 5)])\n",
    "\n",
    "# Fixation de la disposition des sommets\n",
    "pos = nx.spring_layout(G, seed=37)\n",
    "\n",
    "# Déclare un tableau de 1 ligne par 2 colonnes\n",
    "figure, axes = plt.subplots(nrows=1, ncols=2)\n",
    "\n",
    "# Affichage du graphe dans la 1ière colonne\n",
    "nx.draw_networkx(G, pos, ax=axes[0])\n",
    "axes[0].set_title(\"G\", fontsize=16, color=\"cyan\")\n",
    "\n",
    "# Fermeture transitive\n",
    "G2 = nx.transitive_closure(G)\n",
    "\n",
    "# Affichage du nouveau graphe dans la 2e colonne\n",
    "nx.draw_networkx(G2, pos, ax=axes[1])\n",
    "axes[1].set_title(\"G2\", fontsize=16, color=\"cyan\")\n",
    "\n",
    "# Améliore l'affichage par rapport au contenu\n",
    "figure.tight_layout()"
   ]
  },
  {
   "cell_type": "markdown",
   "metadata": {},
   "source": [
    "Expliquez le résultat."
   ]
  },
  {
   "cell_type": "code",
   "execution_count": null,
   "metadata": {},
   "outputs": [],
   "source": [
    "\n",
    "\n",
    "\n",
    "\n"
   ]
  },
  {
   "cell_type": "markdown",
   "metadata": {},
   "source": [
    "## Exercice 4 - Prédécesseur et successeur\n",
    "\n",
    "Exécutez le code suivant :"
   ]
  },
  {
   "cell_type": "code",
   "execution_count": null,
   "metadata": {},
   "outputs": [],
   "source": [
    "import matplotlib.pyplot as plt\n",
    "import networkx as nx\n",
    "\n",
    "# Création du graphe orienté G\n",
    "G = nx.DiGraph()\n",
    "\n",
    "# Insertion des arcs\n",
    "G.add_edges_from([(0, 1), (1, 3), (3, 4), (3, 5)])\n",
    "\n",
    "for predecesseur in G.predecessors(1):\n",
    "    print(predecesseur)\n",
    "\n",
    "for successeur in G.successors(1):\n",
    "    print(successeur)"
   ]
  },
  {
   "cell_type": "markdown",
   "metadata": {},
   "source": [
    "Expliquez le résultat."
   ]
  },
  {
   "cell_type": "code",
   "execution_count": null,
   "metadata": {},
   "outputs": [],
   "source": [
    "\n",
    "\n",
    "\n",
    "\n"
   ]
  },
  {
   "cell_type": "markdown",
   "metadata": {},
   "source": [
    "## Exercice 5 - Parcours de graphe\n",
    "\n",
    "Exécutez le code suivant."
   ]
  },
  {
   "cell_type": "code",
   "execution_count": null,
   "metadata": {},
   "outputs": [],
   "source": [
    "import matplotlib.pyplot as plt\n",
    "import networkx as nx\n",
    "\n",
    "# Création du graphe orienté G\n",
    "G = nx.DiGraph([(0, 1), (0, 2), (1, 3), (1, 4), (2, 5), (2, 6)])\n",
    "\n",
    "# Parcours en profondeur\n",
    "profondeur = list(nx.dfs_edges(G, source=0))\n",
    "print(f\"Profondeur : {profondeur}\")\n",
    "\n",
    "# Parcours en largeur\n",
    "largeur = list(nx.bfs_edges(G, source=0))\n",
    "print(f\"Largeur    : {largeur}\")\n",
    "\n",
    "# Fixation de la disposition des sommets\n",
    "pos = nx.spring_layout(G, seed=127)\n",
    "\n",
    "# Affichage du graphe\n",
    "nx.draw_networkx(G, pos)"
   ]
  },
  {
   "cell_type": "markdown",
   "metadata": {},
   "source": [
    "Expliquez le résultat."
   ]
  },
  {
   "cell_type": "code",
   "execution_count": null,
   "metadata": {},
   "outputs": [],
   "source": [
    "\n",
    "\n",
    "\n",
    "\n",
    "\n"
   ]
  },
  {
   "cell_type": "markdown",
   "metadata": {},
   "source": [
    "## Exercice 6 - Identification de circuit\n",
    "\n",
    "Exécutez le code suivant :"
   ]
  },
  {
   "cell_type": "code",
   "execution_count": null,
   "metadata": {},
   "outputs": [],
   "source": [
    "import matplotlib.pyplot as plt\n",
    "import networkx as nx\n",
    "\n",
    "# Création du graphe orienté G\n",
    "G = nx.DiGraph([\n",
    "    (0, 2), (0, 4), (1, 5),\n",
    "    (1, 6), (14, 0), (2, 7),\n",
    "    (2, 3), (3, 8), (4, 1),\n",
    "    (4, 11), (5, 11), (2, 12),\n",
    "    (9, 13), (8, 7), (4, 5),\n",
    "    (8, 9), (10, 1), (11, 6),\n",
    "    (12, 11), (13, 14), (14, 9)\n",
    "])\n",
    "\n",
    "# Identification de circuit à partir du sommet 0\n",
    "circuit = nx.find_cycle(G, source=0)\n",
    "print(f\"Circuit : {circuit}\")\n",
    "\n",
    "# Fixation de la disposition des sommets\n",
    "pos = nx.kamada_kawai_layout(G, scale=3)\n",
    "\n",
    "# Affichage du graphe\n",
    "nx.draw_networkx(G, pos)\n",
    "nx.draw_networkx_edges(G, pos, edgelist=circuit, width=3.0, edge_color=\"red\")"
   ]
  },
  {
   "cell_type": "markdown",
   "metadata": {},
   "source": [
    "Expliquez le résultat."
   ]
  },
  {
   "cell_type": "code",
   "execution_count": null,
   "metadata": {},
   "outputs": [],
   "source": [
    "\n",
    "\n",
    "\n",
    "\n",
    "\n"
   ]
  },
  {
   "cell_type": "markdown",
   "metadata": {},
   "source": [
    "## Exercice 7 - Plus court chemin\n",
    "\n",
    "On peut créer un graphe orienté pondéré de la manière suivante :\n"
   ]
  },
  {
   "cell_type": "code",
   "execution_count": null,
   "metadata": {},
   "outputs": [],
   "source": [
    "import matplotlib.pyplot as plt\n",
    "import networkx as nx\n",
    "\n",
    "# Création d'un graphe orienté\n",
    "G = nx.DiGraph()\n",
    "\n",
    "# Ajout des arcs pondérés\n",
    "G.add_edge(0, 1, weight=6)\n",
    "G.add_edge(0, 2, weight=2)\n",
    "G.add_edge(1, 3, weight=1)\n",
    "G.add_edge(1, 4, weight=7)\n",
    "G.add_edge(2, 5, weight=9)\n",
    "G.add_edge(2, 6, weight=3)\n",
    "G.add_edge(3, 7, weight=4)\n",
    "G.add_edge(4, 7, weight=8)\n",
    "G.add_edge(5, 8, weight=5)\n",
    "G.add_edge(6, 8, weight=0)\n",
    "G.add_edge(7, 9, weight=-1)\n",
    "G.add_edge(8, 9, weight=6)\n",
    "G.add_edge(0, 9, weight=11)\n",
    "\n",
    "# Fixation de la disposition des sommets\n",
    "pos = {\n",
    "    0: (0, 0),\n",
    "    1: (25, 50),\n",
    "    2: (25, -50),\n",
    "    3: (50, 75),\n",
    "    4: (50, 25),\n",
    "    5: (50, -25),\n",
    "    6: (50, -75),\n",
    "    7: (75, 50),\n",
    "    8: (75, -50),\n",
    "    9: (100, 0)\n",
    "}\n",
    "\n",
    "# Affichage du graphe\n",
    "nx.draw_networkx(G, pos)\n",
    "\n",
    "# Affichage des poids\n",
    "labels = nx.get_edge_attributes(G, \"weight\")\n",
    "nx.draw_networkx_edge_labels(G, pos, edge_labels=labels)"
   ]
  },
  {
   "cell_type": "markdown",
   "metadata": {},
   "source": [
    "\n",
    "\n",
    "Exécutez le code suivant."
   ]
  },
  {
   "cell_type": "code",
   "execution_count": null,
   "metadata": {},
   "outputs": [],
   "source": [
    "# Liste d'arcs\n",
    "G.edges()"
   ]
  },
  {
   "cell_type": "code",
   "execution_count": null,
   "metadata": {},
   "outputs": [],
   "source": [
    "# Court chemin non-pondéré\n",
    "court_chemin = nx.shortest_path(G, source=0, target=9, method=\"bellman-ford\")\n",
    "court_chemin"
   ]
  },
  {
   "cell_type": "code",
   "execution_count": null,
   "metadata": {},
   "outputs": [],
   "source": [
    "# Plus court chemin pondéré\n",
    "court_chemin = nx.shortest_path(G, source=0, target=9, weight=\"weight\", method=\"bellman-ford\")\n",
    "court_chemin"
   ]
  },
  {
   "cell_type": "code",
   "execution_count": null,
   "metadata": {},
   "outputs": [],
   "source": [
    "# Récupération des arcs format le plus court chemin pondéré\n",
    "arcs = list(nx.utils.pairwise(court_chemin))\n",
    "arcs"
   ]
  },
  {
   "cell_type": "code",
   "execution_count": null,
   "metadata": {},
   "outputs": [],
   "source": [
    "# Affichage du graphe\n",
    "nx.draw_networkx(G, pos)\n",
    "\n",
    "# Affichage des poids\n",
    "labels = nx.get_edge_attributes(G, \"weight\")\n",
    "nx.draw_networkx_edge_labels(G, pos, edge_labels=labels)\n",
    "\n",
    "# Affichage du plus court chemin\n",
    "nx.draw_networkx_edges(G, pos, edgelist=arcs, width=5.0, edge_color=\"green\")"
   ]
  },
  {
   "cell_type": "markdown",
   "metadata": {},
   "source": [
    "Expliquez les résultats."
   ]
  },
  {
   "cell_type": "code",
   "execution_count": null,
   "metadata": {},
   "outputs": [],
   "source": [
    "\n",
    "\n",
    "\n",
    "\n"
   ]
  },
  {
   "cell_type": "markdown",
   "metadata": {},
   "source": [
    "## Exercice 8 - Chemin critique\n",
    "\n",
    "Votre projet est constitué des tâches suivantes :\n",
    "\n",
    "|          Tâches             | Durée (jours) | Prédécesseurs |\n",
    "|:----------------------------|:-------------:|:--------------|\n",
    "| T1 : Architecturer Solution |      2        |               |\n",
    "| T2 : Configurer Serveurs    |      1        |               |\n",
    "| T3 : Configurer BD          |      3        |               |\n",
    "| T4 : Plan de Tests          |      2        |               |\n",
    "| T5 : Coder Front End        |      5        | T1            |\n",
    "| T6 : Coder Backend          |      7        | T1, T2, T3    |\n",
    "| T7 : Tests                  |      3        | T4, T5, T6    |\n",
    "\n",
    "Utilisez networkx pour calculer le chemin critique de ce projet. Affichez ce chemin critique dans un graphe PERT."
   ]
  },
  {
   "cell_type": "code",
   "execution_count": null,
   "metadata": {},
   "outputs": [],
   "source": [
    "\n",
    "\n",
    "\n",
    "\n",
    "\n",
    "\n",
    "\n",
    "\n",
    "\n",
    "\n",
    "\n",
    "\n",
    "\n",
    "\n",
    "\n"
   ]
  }
 ],
 "metadata": {
  "interpreter": {
   "hash": "36cf16204b8548560b1c020c4e8fb5b57f0e4c58016f52f2d4be01e192833930"
  },
  "kernelspec": {
   "display_name": "Python 3.9.7 64-bit",
   "name": "python3"
  },
  "language_info": {
   "codemirror_mode": {
    "name": "ipython",
    "version": 3
   },
   "file_extension": ".py",
   "mimetype": "text/x-python",
   "name": "python",
   "nbconvert_exporter": "python",
   "pygments_lexer": "ipython3",
   "version": "3.9.7"
  },
  "orig_nbformat": 4
 },
 "nbformat": 4,
 "nbformat_minor": 2
}
