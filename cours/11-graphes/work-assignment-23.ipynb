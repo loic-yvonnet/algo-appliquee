{
 "cells": [
  {
   "cell_type": "markdown",
   "source": [
    "# TP 19 - Graphes\n",
    "\n",
    "Pour chaque exercice, rentrez votre réponse dans l'éditeur Python associé.\n",
    "Enregistrez vos modifications, de préférence au format ipynb, lorsque vous aurez terminé.\n",
    "\n",
    "## Exercice 1 - Structure de données (Digraph)\n",
    "\n",
    "Tableau à 2 dimensions avec numpy.\n"
   ],
   "metadata": {}
  },
  {
   "cell_type": "markdown",
   "source": [
    "## Exercice 2 - Ajout et suppression de sommets\n",
    "\n",
    "Supression ou ajout de colonne à la matrice"
   ],
   "metadata": {}
  },
  {
   "cell_type": "markdown",
   "source": [
    "## Exercice 3 - Ajout et suppression d'un arc\n",
    "\n",
    "+1 ou -1 (si valeur > 0) au bon endroit de la matrice."
   ],
   "metadata": {}
  },
  {
   "cell_type": "markdown",
   "source": [
    "# Exercice 4 - Affichage\n",
    "\n",
    "Au format matriciel :\n",
    "\n",
    "  A B C D\n",
    "A 1 0 0 1\n",
    "B 1 0 0 0\n",
    "C 0 1 0 0\n",
    "D 0 0 1 0\n",
    "\n",
    "Dans un format textuel où les sommets sont notés A, B, C, D :\n",
    "A -> A\n",
    "A -> B\n",
    "B -> C\n",
    "C -> D\n",
    "D -> A"
   ],
   "metadata": {}
  },
  {
   "cell_type": "markdown",
   "source": [
    "## Exercice 5 - Recherche d'un élément\n",
    "\n",
    "Implémentez la Recherche en Profondeur (DFS).\n",
    "Implémentez la Recherche en Largeur (BFS).\n"
   ],
   "metadata": {}
  },
  {
   "cell_type": "markdown",
   "source": [
    "## Exercice 6 - Identification d'un cycle"
   ],
   "metadata": {}
  },
  {
   "cell_type": "markdown",
   "source": [
    "## Exercice 7 - Tests unitaires"
   ],
   "metadata": {}
  },
  {
   "cell_type": "markdown",
   "source": [
    "## Exercice 8 - Benchmark\n",
    "\n",
    "Avec random => remplir un gros graphe\n",
    "Tracer avec MatPlotLib l'évolution du temps d'insertion\n",
    "Tracer avec MatPlotLib l'évolution du temps de recherche"
   ],
   "metadata": {}
  }
 ],
 "metadata": {
  "orig_nbformat": 4,
  "language_info": {
   "name": "python",
   "version": "3.9.6",
   "mimetype": "text/x-python",
   "codemirror_mode": {
    "name": "ipython",
    "version": 3
   },
   "pygments_lexer": "ipython3",
   "nbconvert_exporter": "python",
   "file_extension": ".py"
  },
  "kernelspec": {
   "name": "python3",
   "display_name": "Python 3.9.6 64-bit"
  },
  "interpreter": {
   "hash": "36cf16204b8548560b1c020c4e8fb5b57f0e4c58016f52f2d4be01e192833930"
  }
 },
 "nbformat": 4,
 "nbformat_minor": 2
}