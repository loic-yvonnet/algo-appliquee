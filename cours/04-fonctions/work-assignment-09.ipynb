{
 "cells": [
  {
   "cell_type": "markdown",
   "source": [
    "# TP 7 - Fonctions d'ordre supérieur\n",
    "\n",
    "Pour chaque exercice, rentrez votre réponse dans l'éditeur Python associé.\n",
    "Enregistrez vos modifications, de préférence au format ipynb, lorsque vous aurez terminé.\n",
    "\n",
    "## Exercice 1 - Dichotomie généralisée\n",
    "\n",
    "Ecrivez une fonction qui prend 3 paramètres :\n",
    "* `inf` : borne inférieure de l'interval\n",
    "* `sup` : borne supérieure de l'interval\n",
    "* `f` : fonction d'évaluation qui prend un argument, et renvoie 0 si l'objectif est atteint, -1 s'il faut se rapprocher de la borne inférieure, et 1 s'il faut se rapprocher de la borne supérieure.\n",
    "\n",
    "Cette fonction doit effectuer une recherche dichotomique en utilisant la fonction `f`."
   ],
   "metadata": {}
  },
  {
   "cell_type": "code",
   "execution_count": null,
   "source": [],
   "outputs": [],
   "metadata": {}
  }
 ],
 "metadata": {
  "orig_nbformat": 4,
  "language_info": {
   "name": "python"
  }
 },
 "nbformat": 4,
 "nbformat_minor": 2
}