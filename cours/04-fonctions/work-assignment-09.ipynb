{
 "cells": [
  {
   "cell_type": "markdown",
   "source": [
    "# TP 7 - Fonctions d'ordre supérieur\n",
    "\n",
    "Pour chaque exercice, rentrez votre réponse dans l'éditeur Python associé.\n",
    "Enregistrez vos modifications, de préférence au format ipynb, lorsque vous aurez terminé.\n",
    "\n",
    "## Exercice 1 - Dichotomie généralisée\n",
    "\n",
    "Ecrivez une fonction `dichotomie` qui prend 3 paramètres :\n",
    "* `inf` : borne inférieure de l'interval\n",
    "* `sup` : borne supérieure de l'interval\n",
    "* `f` : fonction d'évaluation qui prend un argument, et renvoie 0 si l'objectif est atteint, -1 s'il faut se rapprocher de la borne inférieure, et 1 s'il faut se rapprocher de la borne supérieure.\n",
    "\n",
    "Cette fonction doit effectuer une recherche dichotomique en utilisant la fonction `f`."
   ],
   "metadata": {}
  },
  {
   "cell_type": "code",
   "execution_count": null,
   "source": [
    "def dichotomie(inf, sup, f):\n",
    "    \"\"\"Utilise la fonction f pour converger par dichotomie vers un nombre dans l'interval [inf, sup].\"\"\"\n",
    "    pass"
   ],
   "outputs": [],
   "metadata": {}
  },
  {
   "cell_type": "markdown",
   "source": [
    "## Exercice 2 - Utilisation de la fonction dichotomie\n",
    "\n",
    "Utilisez la fonction `dichotomie` pour réécrire les fonctions suivantes :\n",
    "* `calcule_juste_prix` : trouve un nombre `cible` entre `inf` et `sup`.\n",
    "* `racine_carree` : calcule la racine d'un nombre flottant.\n",
    "* `logarithme` : calcule le logarithme d'un nombre flottant.\n",
    "\n",
    "*Astuce* : Vous pouvez utiliser une `lambda` ou écrire d'autres fonctions pour vous aider."
   ],
   "metadata": {}
  },
  {
   "cell_type": "code",
   "execution_count": null,
   "source": [
    "def calcule_juste_prix(cible, inf, sup):\n",
    "    \"\"\"Converge par dichotomie vers le nombre cible dans l'interval [inf, sup].\"\"\"\n",
    "    pass"
   ],
   "outputs": [],
   "metadata": {}
  },
  {
   "cell_type": "code",
   "execution_count": null,
   "source": [
    "def racine_carree(nombre):\n",
    "    \"\"\"Calcule la racine carree du nombre en entree.\"\"\"\n",
    "    pass"
   ],
   "outputs": [],
   "metadata": {}
  },
  {
   "cell_type": "code",
   "execution_count": null,
   "source": [
    "def logarithme(nombre):\n",
    "    \"\"\"Calcule le logarithme du nombre en entree.\"\"\"\n",
    "    pass"
   ],
   "outputs": [],
   "metadata": {}
  },
  {
   "cell_type": "markdown",
   "source": [
    "## Exercice 3 - Recherche dans une chaine de caractères.\n",
    "\n",
    "Ecrivez une fonction `recherche` qui prend en entrée une chaîne de caractères `chaine` et une fonction `f` et renvoie l'index du premier caractère `c` tel que `f(c) == True`. Si aucun caractère ne satisfait ce critère, renvoyez `-1`.\n",
    "\n",
    "Ecrivez ensuite une fonction `recherche_z` qui utilise la fonction `recherche` pour trouver la première instance du caractère `z` ou `Z`.\n",
    "\n",
    "Enfin, écrivez une fonction `recherche_inf_m` qui utilise la fonction `recherche` pour trouver la première instance d'un caractère lexicographiquement plus petit que `m`."
   ],
   "metadata": {}
  },
  {
   "cell_type": "code",
   "execution_count": null,
   "source": [
    "def recherche(chaine, f):\n",
    "    \"\"\"Parcourt la chaine et renvoie l'index du 1er caractere c tel que f(c) == True, ou -1.\"\"\"\n",
    "    pass"
   ],
   "outputs": [],
   "metadata": {}
  },
  {
   "cell_type": "code",
   "execution_count": null,
   "source": [
    "def recherche_z(chaine):\n",
    "    \"\"\"Renvoie l'index du 1er caractere z ou Z, ou -1.\"\"\"\n",
    "    pass"
   ],
   "outputs": [],
   "metadata": {}
  },
  {
   "cell_type": "code",
   "execution_count": null,
   "source": [
    "def recherche_inf_m(chaine):\n",
    "    \"\"\"Renvoie l'index du 1er caractere lexicographiquement plus petit que m.\"\"\""
   ],
   "outputs": [],
   "metadata": {}
  },
  {
   "cell_type": "markdown",
   "source": [
    "## Exercice 4 - Comparaison 2 à 2\n",
    "\n",
    "Ecrivez une fonction `compare_2_a_2` qui prend en entrée une chaîne de caractères `chaine` et une fonction `f` et renvoie `True` si pour chaque caractères consécutifs `c1` et `c2`, `f(c1, c2) == True`, et `False` sinon.\n",
    "\n",
    "Ecrivez ensuite une fonction `tous_egaux` qui utilise la fonction `compare_2_a_2` pour indiquer si tous les caractères d'une chaîne sont égaux, sans prendre en compte la casse (par exemple `\"a\"` == `\"A\"`).\n",
    "\n",
    "Enfin, écrivez une fonction `dans_l_ordre` qui utilise la fonction `compare_2_a_2` pour indiquer si tous les caractères d'une chaîne apparaissent dans l'ordre lexicographique."
   ],
   "metadata": {}
  },
  {
   "cell_type": "code",
   "execution_count": null,
   "source": [
    "def compare_2_a_2(chaine, f):\n",
    "    \"\"\"Renvoie True si pour chaque caracteres consecutifs c1, c2, f(c1, c2) == True.\"\"\"\n",
    "    pass"
   ],
   "outputs": [],
   "metadata": {}
  },
  {
   "cell_type": "code",
   "execution_count": null,
   "source": [
    "def tous_egaux(chaine):\n",
    "    \"\"\"Renvoie True si tous les caracteres sont egaux (non sensible a la casse).\"\"\"\n",
    "    pass"
   ],
   "outputs": [],
   "metadata": {}
  },
  {
   "cell_type": "code",
   "execution_count": null,
   "source": [
    "def dans_l_ordre(chaine):\n",
    "    \"\"\"Renvoie True si tous les caracteres sont dans l'odre lexicographique.\"\"\"\n",
    "    pass"
   ],
   "outputs": [],
   "metadata": {}
  },
  {
   "cell_type": "markdown",
   "source": [
    "## Exercice 5 - Recherche d'une sous-chaîne\n",
    "\n",
    "Ecrivez une fonction `recherche_sous_chaine` qui prend en entrée une chaîne de caractères `chaine`, une taille de sous-chaîne `taille`, et une fonction `f` et renvoie l'index du premier caractère d'une sous-chaîne `s` tel que `f(s) == True`. Si aucune sous-chaîne ne satisfait ce critère, renvoyez `-1`.\n",
    "\n",
    "Ecrivez ensuite une fonction `recherche_zorro` qui utilise la fonction `recherche_sous_chaine` pour trouver la première instance de la sous-chaîne `\"Zorro\"`.\n",
    "\n",
    "Enfin, écrivez une fonction `contient_sous_chaine` qui utilise la fonction `recherche_sous_chaine` pour indiquer si la chaine en entrée `chaine` contient la sous-chaîne `sous_chaine`."
   ],
   "metadata": {}
  },
  {
   "cell_type": "code",
   "execution_count": null,
   "source": [
    "def recherche_sous_chaine(chaine, taille, f):\n",
    "    \"\"\"Renvoie l'index du 1er caractere d'une sous-chaîne identifiee par la fonction f, ou -1.\"\"\"\n",
    "    pass"
   ],
   "outputs": [],
   "metadata": {}
  },
  {
   "cell_type": "code",
   "execution_count": null,
   "source": [
    "def recherche_zorro(chaine):\n",
    "    \"\"\"Renvoie l'index de Zorro dans la chaine en entree, ou -1.\"\"\"\n",
    "    pass"
   ],
   "outputs": [],
   "metadata": {}
  },
  {
   "cell_type": "code",
   "execution_count": null,
   "source": [
    "def contient_sous_chaine(chaine, sous_chaine):\n",
    "    \"\"\"Renvoie True si sous_chaine est contenu dans chaine.\"\"\"\n",
    "    pass"
   ],
   "outputs": [],
   "metadata": {}
  },
  {
   "cell_type": "markdown",
   "source": [
    "## Exercice 6 - Transformation\n",
    "\n",
    "Ecrivez une fonction `transforme` qui prend en entrée une chaîne de caractères `chaine`, et une fonction `f`. Cette fonction `f` prend en entrée un caractère et renvoie un caractère. La fonction `transforme` renvoie une nouvelle chaîne de caractères telle que la fonction `f` ait été appliquée à chaque caractère de `chaine`.\n",
    "\n",
    "Ecrivez ensuite une fonction `met_des_etoiles` qui utilise la fonction `transforme` pour renvoyer une chaîne de caractères de la même taille que celle en entrée, mais composée uniquement de `*`.\n",
    "Par exemple, `met_des_etoiles(\"Bonjour\")` renvoie `\"*******\"`.\n",
    "\n",
    "Enfin, écrivez une fonction `remplace_par_des_chiffres` qui utilise la fonction `transforme` pour renvoyer une chaîne de caractères de la même taille que celle en entrée, et qui contient la série `123456789`.\n",
    "Par exemple, `remplace_par_des_chiffres(\"Le petit chat innocent traverse la route diligemment\")` renvoie `\"1234567891234567891234567891234567891234567891234567\"`.\n",
    "\n",
    "*Astuce* : Utilisez la capture pour conserver la valeur d'un compteur à chaque appel de fonction."
   ],
   "metadata": {}
  },
  {
   "cell_type": "code",
   "execution_count": null,
   "source": [
    "def transforme(chaine, f):\n",
    "    \"\"\"Applique la fonction f a chaque caractere de la chaine en entree.\n",
    "    \n",
    "    Renvoie une nouvelle chaine telle que f(c) ait ete appliquee \n",
    "    a chaque caractere c de chaine.\n",
    "    \"\"\"\n",
    "    pass"
   ],
   "outputs": [],
   "metadata": {}
  },
  {
   "cell_type": "code",
   "execution_count": null,
   "source": [
    "def met_des_etoiles(chaine):\n",
    "    \"\"\"Renvoie l'équivalent de la chaine en entree, compose d'etoiles.\"\"\"\n",
    "    pass"
   ],
   "outputs": [],
   "metadata": {}
  },
  {
   "cell_type": "code",
   "execution_count": null,
   "source": [
    "def remplace_par_des_chiffres(chaine):\n",
    "    \"\"\"Remplace les caracteres de la chaine en entree par 123456789123...\"\"\"\n",
    "    pass"
   ],
   "outputs": [],
   "metadata": {}
  },
  {
   "cell_type": "markdown",
   "source": [
    "### Exercice 7 - Code César\n",
    "\n",
    "Jules César utilisait autrefois un codage particulier dans certaines de ses lettres. On l'appelle le code César, et consiste simplement à substituer une lettre par celle qui apparait 4 index plus loin dans l'alphabet. Ainsi, le \"a\" devient \"d\", le \"b\" devient \"e\", etc.\n",
    "\n",
    "En Python, on peut obtenir l'index d'un caractère avec la fonction `ord`. Par exemple :"
   ],
   "metadata": {}
  },
  {
   "cell_type": "code",
   "execution_count": 1,
   "source": [
    "ord(\"e\")"
   ],
   "outputs": [
    {
     "output_type": "execute_result",
     "data": {
      "text/plain": [
       "101"
      ]
     },
     "metadata": {},
     "execution_count": 1
    }
   ],
   "metadata": {}
  },
  {
   "cell_type": "markdown",
   "source": [
    "La fonction inverse est `chr` :"
   ],
   "metadata": {}
  },
  {
   "cell_type": "code",
   "execution_count": 2,
   "source": [
    "chr(101)"
   ],
   "outputs": [
    {
     "output_type": "execute_result",
     "data": {
      "text/plain": [
       "'e'"
      ]
     },
     "metadata": {},
     "execution_count": 2
    }
   ],
   "metadata": {}
  },
  {
   "cell_type": "markdown",
   "source": [
    "A l'aide des fonctions `transforme`, `ord` et `chr`, écrivez une fonction `encode_cesar` qui renvoie le message chiffré par le code César.\n",
    "\n",
    "*Note* : Normalement, dans le code César, on doit rouler une fois arrivé à la fin de l'alphabet. Ainsi, un \"z\" devient un \"c\" par exemple. Cette astuce n'est pas nécessaire ici, grâce à UTF-8, car :"
   ],
   "metadata": {}
  },
  {
   "cell_type": "code",
   "execution_count": 3,
   "source": [
    "chr(ord(\"z\") + 4)"
   ],
   "outputs": [
    {
     "output_type": "execute_result",
     "data": {
      "text/plain": [
       "'~'"
      ]
     },
     "metadata": {},
     "execution_count": 3
    }
   ],
   "metadata": {}
  },
  {
   "cell_type": "code",
   "execution_count": 4,
   "source": [
    "chr(ord(\"~\") - 4)"
   ],
   "outputs": [
    {
     "output_type": "execute_result",
     "data": {
      "text/plain": [
       "'z'"
      ]
     },
     "metadata": {},
     "execution_count": 4
    }
   ],
   "metadata": {}
  },
  {
   "cell_type": "code",
   "execution_count": null,
   "source": [
    "def encode_cesar(chaine):\n",
    "    \"\"\"Renvoie le message chiffre par le code Cesar correspondant a l'entree chaine.\"\"\"\n",
    "    pass"
   ],
   "outputs": [],
   "metadata": {}
  },
  {
   "cell_type": "markdown",
   "source": [
    "Ecrivez la fonction inverse en utilisant toujours `transforme`, `ord` et `chr` :"
   ],
   "metadata": {}
  },
  {
   "cell_type": "code",
   "execution_count": null,
   "source": [
    "def decode_cesar(chaine):\n",
    "    \"\"\"Renvoie le message dechiffre par le code Cesar correspondant a l'entree chaine.\"\"\"\n",
    "    pass"
   ],
   "outputs": [],
   "metadata": {}
  },
  {
   "cell_type": "markdown",
   "source": [
    "Vous pouvez maintenant découvrir le message caché :"
   ],
   "metadata": {}
  },
  {
   "cell_type": "code",
   "execution_count": null,
   "source": [
    "decode_cesar(\"Wm$Nypiw$Gíwev$ezemx$iy$yr$gsqtxi$Mrwxe0$mp$eyvemx$iy$hiw$qmppmivw$hi$jspps{ivw$%\")"
   ],
   "outputs": [],
   "metadata": {}
  }
 ],
 "metadata": {
  "orig_nbformat": 4,
  "language_info": {
   "name": "python",
   "version": "3.9.6",
   "mimetype": "text/x-python",
   "codemirror_mode": {
    "name": "ipython",
    "version": 3
   },
   "pygments_lexer": "ipython3",
   "nbconvert_exporter": "python",
   "file_extension": ".py"
  },
  "kernelspec": {
   "name": "python3",
   "display_name": "Python 3.9.6 64-bit"
  },
  "interpreter": {
   "hash": "36cf16204b8548560b1c020c4e8fb5b57f0e4c58016f52f2d4be01e192833930"
  }
 },
 "nbformat": 4,
 "nbformat_minor": 2
}