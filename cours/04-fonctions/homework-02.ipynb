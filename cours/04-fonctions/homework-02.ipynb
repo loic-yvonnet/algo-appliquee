{
 "cells": [
  {
   "cell_type": "markdown",
   "source": [
    "# DM 2 - Retours sur les fonctions et le débogage\n",
    "\n",
    "Pour chaque exercice, rentrez votre réponse dans l'éditeur Python associé.\n",
    "Enregistrez vos modifications, de préférence au format ipynb, lorsque vous aurez terminé.\n",
    "\n",
    "*Astuce* : Lorsque cela est adapté, n'hésitez pas à écrire et déboguer des scripts séparemment puis à revenir ici pour écrire votre réponse.\n",
    "\n",
    "## Exerice 1 - Attraper les insectes\n",
    "\n",
    "Le programme suivant est mal écrit et comporte des bugs :"
   ],
   "metadata": {}
  },
  {
   "cell_type": "code",
   "execution_count": null,
   "source": [
    "from math import sqrt\n",
    "def foo  (var1, var2,var3, var4, var5,      var6)                                          :\n",
    "    IN1, IN2=1/  sqrt( var1**2+ var2**2+var3**2),1 /sqrt(var4**2+var5**2+ var6** 2)\n",
    "    x_1,x_2 =  IN1*var1                             ,IN2*var4\n",
    "    y_1,y_2= IN1*var2, IN2*var5\n",
    "    z_2,          z_1 = IN2*var6,IN2*                                           var3\n",
    "    return (y_1 * \n",
    "    z_2 - z_1 * y_2,z_1 *                      x_2 \n",
    "    - x_1 * z_2,\n",
    "        x_1 * y_2-y_1                                                        *  \n",
    "         x_2)"
   ],
   "outputs": [],
   "metadata": {}
  },
  {
   "cell_type": "markdown",
   "source": [
    "Ecrivez votre propre version documentée et corrigée de ce programme :"
   ],
   "metadata": {}
  },
  {
   "cell_type": "code",
   "execution_count": null,
   "source": [
    "# Ecrivez ici un programme propre, élégant et documenté"
   ],
   "outputs": [],
   "metadata": {}
  },
  {
   "cell_type": "markdown",
   "source": [
    "## Exercice 2 - Tri avec un alphabet réduit\n",
    "\n",
    "Il existe plusieurs algorithmes de tri. Nous en étudierons certains de ces algorithmes lors de prochains cours.\n",
    "\n",
    "Nous pouvons d'ores et déjà nous intéresser à un algorithme de tri tout à fait remarquable. Cet algorithme ne peut être utilisé que lorsque l'ensemble des éléments à trier est un ensemble fini. Cet algorithme ne peut donc pas être utilisé pour trier des nombres sur les ensembles $\\mathbb{N}$ ou $\\mathbb{R}$.\n",
    "\n",
    "En revanche, cet algorithme peut être utilisé pour trier l'ensemble des lettres de l'alphabet, qui comporte uniquement 26 lettres.\n",
    "\n",
    "L'algorithme de tri sur un ensemble fini consiste en les étapes suivantes :\n",
    "* Parcourir les entrées et les compter.\n",
    "* Pour chaque élément dans l'ordre choisi, le renvoyer le nombre de fois compté.\n",
    "\n",
    "Ainsi, pour la chaîne de caractères : `\"au clair de la lune\"`, on obtient à la fin de la 1ière étape :\n",
    "- a : 3\n",
    "- b : 0\n",
    "- c : 1\n",
    "- d : 1\n",
    "- e : 2\n",
    "- f : 0\n",
    "- g : 0\n",
    "- h : 0\n",
    "- i : 1\n",
    "- j : 0\n",
    "- k : 0\n",
    "- l : 3\n",
    "- m : 0\n",
    "- n : 1\n",
    "- o : 0\n",
    "- p : 0\n",
    "- q : 0\n",
    "- r : 1\n",
    "- s : 0\n",
    "- t : 0\n",
    "- u : 2\n",
    "- v : 0\n",
    "- w : 0\n",
    "- x : 0\n",
    "- y : 0\n",
    "- z : 0\n",
    "\n",
    "Il ne reste plus qu'à afficher chaque caractère le nombre de fois indiqué : `\"aaacdeeilllnruu\"`.\n",
    "\n",
    "L'ADN est structué en 2 brins enroulés en double hélice. Chaque brin est composée de nucléotides, lesquels sont formés d'une base nucléique. Une base nucléique peut être :\n",
    "* A : Adénine,\n",
    "* C : Cytosine,\n",
    "* G : Guanine,\n",
    "* T : Thymine.\n",
    "\n",
    "On peut donc représenter un brin d'ADN avec un alphabet réduit de la manière suivante : `\"AGTTACGTGAACCCGTTGGAA\"`.\n",
    "\n",
    "Ecrivez une fonction qui trie les bases nucléiques d'un brin d'ADN."
   ],
   "metadata": {}
  },
  {
   "cell_type": "code",
   "execution_count": null,
   "source": [
    "def tri_adn(adn):\n",
    "    \"\"\"Tri la chaine de caracteres adn composee des caracteres A, C, G, et T.\"\"\"\n",
    "    pass"
   ],
   "outputs": [],
   "metadata": {}
  },
  {
   "cell_type": "markdown",
   "source": [
    "## Exercice 3 - Dérivée d'une fonction polynomiale\n",
    "\n",
    "Pour rappel, une fonction polynomiale est de la forme :\n",
    "\n",
    "$$\n",
    "\\begin{align}\n",
    "f(x) & = a_n x^n + a_{n-1}x^{n-1} + \\dotsb + a_2 x^2 + a_1 x + a_0 \\\\[6mu]\n",
    "& = \\sum_{k=0}^n a_k x^k\n",
    "\\end{align}\n",
    "$$\n",
    "\n",
    "Sachant que l'on calcule la dérivée d'une puissance ainsi :\n",
    "\n",
    "$$\n",
    "\\frac{d}{dx}x^k = kx^{k-1}\n",
    "$$\n",
    "\n",
    "Sachant que la dérivée d'une somme est égale à la somme des dérivées :\n",
    "\n",
    "$$\n",
    "(\\alpha f + \\beta g)' = \\alpha f' + \\beta g'\n",
    "$$\n",
    "\n",
    "On en déduit :\n",
    "\n",
    "$$\n",
    "f'(x) = \\sum_{k=0}^n a_k kx^{k-1}\n",
    "$$\n",
    "\n",
    "On appelle *rang* le *k*ième élément $a_k x^k$. On souhaite représenter un rang de la manière suivante :\n",
    "`(ak, k)` où k est le rang et ak est le nombre réel.\n",
    "\n",
    "Ecrivez une fonction `affiche_polynome` qui prend un nombre variadic de rangs et l'affiche sous un format Python. Pour le rang 0, n'affichez pas x. Pour le rang 1, n'affichez pas la puissance.\n",
    "\n",
    "Par exemple :\n",
    "```py\n",
    "affiche_polynome((3, 4), (2, 3), (5, 1), (4, 0))\n",
    "```\n",
    "\n",
    "doit afficher :\n",
    "```\n",
    "3 * (x**4) + 2 * (x**3) + 5 * x + 4\n",
    "```\n"
   ],
   "metadata": {}
  },
  {
   "cell_type": "code",
   "execution_count": null,
   "source": [
    "def affiche_polynome(*args):\n",
    "    \"\"\"Affiche un polynome de rangs (ak, k) au format Python.\"\"\"\n",
    "    resultat = \"\"\n",
    "    \n",
    "    for ak, k in args:\n",
    "        pass\n",
    "\n",
    "    return resultat"
   ],
   "outputs": [],
   "metadata": {}
  },
  {
   "cell_type": "markdown",
   "source": [
    "Ecrivez maintenant une fonction qui affiche la dérivée d'un polynôme, au même format.\n",
    "\n",
    "Par exemple :\n",
    "```py\n",
    "derive_polynome((3, 4), (2, 3), (5, 1), (4, 0))\n",
    "```\n",
    "\n",
    "doit afficher :\n",
    "```\n",
    "12 * (x**3) + 6 * (x**2) + 5\n",
    "```"
   ],
   "metadata": {}
  },
  {
   "cell_type": "code",
   "execution_count": null,
   "source": [
    "def derive_polynome(*args):\n",
    "    \"\"\"Affiche la derivee d'un polynome de rangs (ak, k) au format Python.\"\"\"\n",
    "    resultat = \"\"\n",
    "    \n",
    "    for ak, k in args:\n",
    "        pass\n",
    "\n",
    "    return resultat"
   ],
   "outputs": [],
   "metadata": {}
  },
  {
   "cell_type": "markdown",
   "source": [
    "Sachant que Python permet l'évaluation d'une chaîne de caractères de la manière suivante :"
   ],
   "metadata": {}
  },
  {
   "cell_type": "code",
   "execution_count": 3,
   "source": [
    "f = \"(x**2) + 5 * x + 5\"\n",
    "x = 2\n",
    "eval(f)"
   ],
   "outputs": [
    {
     "output_type": "execute_result",
     "data": {
      "text/plain": [
       "19"
      ]
     },
     "metadata": {},
     "execution_count": 3
    }
   ],
   "metadata": {}
  },
  {
   "cell_type": "markdown",
   "source": [
    "Ecrivez une fonction `evalue_derivee_polynome` qui, à l'aide de `derive_polynome`, évalue la dérivée pour une valeur x donnée.\n",
    "\n",
    "Par exemple :\n",
    "```py\n",
    "evalue_derivee_polynome(2, (3, 4), (2, 3), (5, 1), (4, 0))\n",
    "```\n",
    "\n",
    "doit afficher :\n",
    "```\n",
    "125\n",
    "```"
   ],
   "metadata": {}
  },
  {
   "cell_type": "code",
   "execution_count": null,
   "source": [
    "def evalue_derivee_polynome(x, *args):\n",
    "    \"\"\"Evalue la derivee d'un polynome pour la valeur x.\"\"\"\n",
    "    pass"
   ],
   "outputs": [],
   "metadata": {}
  },
  {
   "cell_type": "markdown",
   "source": [
    "## Exercice 4 - Fibonacci\n",
    "\n",
    "Les nombres de Fibonacci, dénotés $F_n$ forment une séquence de nombres entiers de telle sorte que chacun de ces nombres est égal à la somme des 2 précédents.\n",
    "\n",
    "Autrement dit :\n",
    "\n",
    "$$\n",
    "F_0=0,\\quad F_1= 1,\n",
    "$$\n",
    "\n",
    "et\n",
    "\n",
    "$$\n",
    "F_n=F_{n-1} + F_{n-2}\n",
    "$$\n",
    "\n",
    "Ecrivez une fonction utilisant une boucle qui calcule et affiche les $n$ premiers nombres de Fibonacci."
   ],
   "metadata": {}
  },
  {
   "cell_type": "code",
   "execution_count": null,
   "source": [
    "def fibonacci(n):\n",
    "    \"\"\"Calcule et affiche les n premiers nombres de Fibonacci.\"\"\"\n",
    "    pass"
   ],
   "outputs": [],
   "metadata": {}
  },
  {
   "cell_type": "markdown",
   "source": [
    "Pour rappel, une fonction récursive est une fonction qui s'appelle elle-même.\n",
    "\n",
    "Ecrivez une fonction `fib` utilisant la récursion pour calculer le `n`ième nombre de Fibonacci."
   ],
   "metadata": {}
  },
  {
   "cell_type": "code",
   "execution_count": null,
   "source": [
    "def fib(n):\n",
    "    \"\"\"Caclule recursivement le n ieme nombre de Fibonacci.\"\"\""
   ],
   "outputs": [],
   "metadata": {}
  }
 ],
 "metadata": {
  "orig_nbformat": 4,
  "language_info": {
   "name": "python",
   "version": "3.9.7",
   "mimetype": "text/x-python",
   "codemirror_mode": {
    "name": "ipython",
    "version": 3
   },
   "pygments_lexer": "ipython3",
   "nbconvert_exporter": "python",
   "file_extension": ".py"
  },
  "kernelspec": {
   "name": "python3",
   "display_name": "Python 3.9.7 64-bit"
  },
  "interpreter": {
   "hash": "36cf16204b8548560b1c020c4e8fb5b57f0e4c58016f52f2d4be01e192833930"
  }
 },
 "nbformat": 4,
 "nbformat_minor": 2
}