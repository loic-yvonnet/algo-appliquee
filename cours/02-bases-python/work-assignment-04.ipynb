{
 "cells": [
  {
   "cell_type": "markdown",
   "source": [
    "# TP 4 - Algorithmes pour l'arithmétique simple\n",
    "\n",
    "Pour chaque exercice, rentrez votre réponse dans l'éditeur Python associé.\n",
    "Enregistrez vos modifications, de préférence au format ipynb, lorsque vous aurez terminé.\n",
    "\n",
    "## Exercice 1 - Absolu\n",
    "\n",
    "En utilisant la fonction `input`, demandez à l'utilisateur de rentrer un nombre entier. Affichez la valeur absolue de ce nombre.\n",
    "Pour rappel, la valeur absolue d'un nombre est égal à lui-même s'il est positif ou nul, et l'opposé de sa valeur dans le cas contraire."
   ],
   "metadata": {}
  },
  {
   "cell_type": "code",
   "execution_count": null,
   "source": [
    "\n",
    "\n"
   ],
   "outputs": [],
   "metadata": {}
  },
  {
   "cell_type": "markdown",
   "source": [
    "## Exercice 2 - Min et Max\n",
    "\n",
    "Dans une boucle, demandez à l'utilisateur, à l'aide de la fonction `input`, de rentrer un nombre entier. La boucle s'arrête lorsque l'utilisateur rentre la chaîne `\"fin\"` à la place d'un nombre entier.\n",
    "\n",
    "Affichez le nombre minimum `min` et le nombre maximum `max` rentrés par l'utilisateur, au format suivant : `{ min ; max }`."
   ],
   "metadata": {}
  },
  {
   "cell_type": "code",
   "execution_count": null,
   "source": [
    "\n",
    "\n"
   ],
   "outputs": [],
   "metadata": {}
  },
  {
   "cell_type": "markdown",
   "source": [
    "## Exercice 3 - Multiplication avec une boucle d'additions\n",
    "\n",
    "En utilisant 2 fois la fonction `input`, demandez à l'utilisateur de rentrer 2 nombres entiers positifs `x` et `y`.\n",
    "\n",
    "Sans utiliser l'opérateur `*`, et en utilisant une boucle avec `+`"
   ],
   "metadata": {}
  },
  {
   "cell_type": "code",
   "execution_count": null,
   "source": [
    "\n",
    "\n"
   ],
   "outputs": [],
   "metadata": {}
  },
  {
   "cell_type": "markdown",
   "source": [
    "## Exercice 4 - Factoriel\n",
    "\n",
    "En utilisant la fonction `input`, demandez à l'utilisateur de rentrer un nombre entier positif. Affichez la factorielle de ce nombre.\n",
    "\n",
    "Pour rappel :\n",
    "\n",
    "$$\n",
    "x! = \\prod_{i=1}^{x} i = 1 \\cdot 2 \\cdot 3 \\cdot ... \\cdot x\n",
    "$$"
   ],
   "metadata": {}
  },
  {
   "cell_type": "code",
   "execution_count": null,
   "source": [
    "\n",
    "\n"
   ],
   "outputs": [],
   "metadata": {}
  },
  {
   "cell_type": "markdown",
   "source": [
    "## Exercice 5 - Nombre premier\n",
    "\n",
    "En utilisant la fonction `input`, demandez à l'utilisateur de rentrer un nombre entier positif. Affichez `\"Premier\"` s'il s'agit d'un nombre premier. Dans le cas contraire, affichez le nombre qui le divise.\n",
    "\n",
    "Un nombre $N$ est premier si :\n",
    "\n",
    "$$\n",
    "\\forall i :\n",
    "\\begin{cases}\n",
    "    i \\ge 2      \\\\\n",
    "    i^{2} \\le N\n",
    "\\end{cases}\n",
    ",\\quad\n",
    "N \\;\\mathrm{mod}\\; i \\ne 0\n",
    "$$"
   ],
   "metadata": {}
  },
  {
   "cell_type": "code",
   "execution_count": null,
   "source": [
    "\n",
    "\n"
   ],
   "outputs": [],
   "metadata": {}
  },
  {
   "cell_type": "markdown",
   "source": [
    "## Exercice 6 - Nombre harmonique\n",
    "\n",
    "Un nombre harmonique $H_{N}$ est défini comme la somme des inverses de 1 à N :\n",
    "\n",
    "$$\n",
    "H_{N} = \\sum_{i=1}^{N} \\frac{1}{i} = \\frac{1}{1} + \\frac{1}{2} + \\frac{1}{3} + \\cdots + \\frac{1}{N}\n",
    "$$\n",
    "\n",
    "En utilisant la fonction `input`, demandez à l'utilisateur de rentrer un nombre entier positif. Affichez le nombre harmonique associé."
   ],
   "metadata": {}
  },
  {
   "cell_type": "code",
   "execution_count": null,
   "source": [
    "\n",
    "\n"
   ],
   "outputs": [],
   "metadata": {}
  },
  {
   "cell_type": "markdown",
   "source": [
    "## Exercice 7 - PGCD\n",
    "\n",
    "Le calcul du PGCD de 2 entiers positifs $p$ et $q$ est tel que : \n",
    "* Si $q$ est égal à $0$, alors la réponse est $p$.\n",
    "* Sinon, on calcul le reste $r$ de la division de $p$ par $q$, et la réponse est le PGCD de $q$ et $r$.\n",
    "\n",
    "Ecrivez un script qui demande 2 nombres entiers positifs à l'utilisateur $p$ e $q$ et qui affiche leur PGCD.\n",
    "\n",
    "*Astuces* :\n",
    "* Utilisez 2 fois la fonction `input`.\n",
    "* Utilisez une boucle dans laquelle vous vérifiez si $q$ est nul, calculez $r$, et intervertissez ${ p, q }$ avec ${ q, r }$."
   ],
   "metadata": {}
  },
  {
   "cell_type": "code",
   "execution_count": null,
   "source": [
    "\n",
    "\n"
   ],
   "outputs": [],
   "metadata": {}
  }
 ],
 "metadata": {
  "orig_nbformat": 4,
  "language_info": {
   "name": "python",
   "version": "3.9.7",
   "mimetype": "text/x-python",
   "codemirror_mode": {
    "name": "ipython",
    "version": 3
   },
   "pygments_lexer": "ipython3",
   "nbconvert_exporter": "python",
   "file_extension": ".py"
  },
  "kernelspec": {
   "name": "python3",
   "display_name": "Python 3.9.7 64-bit"
  },
  "interpreter": {
   "hash": "36cf16204b8548560b1c020c4e8fb5b57f0e4c58016f52f2d4be01e192833930"
  }
 },
 "nbformat": 4,
 "nbformat_minor": 2
}