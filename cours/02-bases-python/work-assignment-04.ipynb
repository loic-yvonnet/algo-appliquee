{
 "cells": [
  {
   "cell_type": "markdown",
   "source": [
    "# TP 4 - Algorithmes pour l'arithmétique simple\n",
    "\n",
    "Pour chaque exercice, rentrez votre réponse dans l'éditeur Python associé.\n",
    "Enregistrez vos modifications, de préférence au format ipynb, lorsque vous aurez terminé.\n",
    "\n",
    "## Exercice 1 - Absolu\n",
    "\n",
    "En utilisant la fonction `input`, demandez à l'utilisateur de rentrer un nombre entier. Affichez la valeur absolue de ce nombre.\n",
    "Pour rappel, la valeur absolue d'un nombre est égal à lui-même s'il est positif ou nul, et l'opposé de sa valeur dans le cas contraire."
   ],
   "metadata": {}
  },
  {
   "cell_type": "code",
   "execution_count": null,
   "source": [],
   "outputs": [],
   "metadata": {}
  },
  {
   "cell_type": "markdown",
   "source": [
    "## Exercice 2 - Min et Max\n",
    "\n",
    "Dans une boucle, demandez à l'utilisateur, à l'aide de la fonction `input`, de rentrer un nombre entier. La boucle s'arrête lorsque l'utilisateur rentre la chaîne `\"fin\"` à la place d'un nombre entier.\n",
    "\n",
    "Affichez le nombre minimum `min` et le nombre maximum `max` rentrés par l'utilisateur, au format suivant : `{ min ; max }`."
   ],
   "metadata": {}
  },
  {
   "cell_type": "code",
   "execution_count": null,
   "source": [],
   "outputs": [],
   "metadata": {}
  },
  {
   "cell_type": "markdown",
   "source": [
    "## Exercice 3 - Factoriel\n",
    "\n",
    "En utilisant la fonction `input`, demandez à l'utilisateur de rentrer un nombre entier positif. Affichez la factorielle de ce nombre.\n",
    "\n",
    "Pour rappel :\n",
    "\n",
    "$$\n",
    "x! = \\prod_{i=1}^{x} = 1 \\cdot 2 \\cdot 3 \\cdot ... \\cdot x\n",
    "$$"
   ],
   "metadata": {}
  },
  {
   "cell_type": "code",
   "execution_count": null,
   "source": [],
   "outputs": [],
   "metadata": {}
  },
  {
   "cell_type": "markdown",
   "source": [
    "## Exercice 4 - Nombre premier\n",
    "\n",
    "En utilisant la fonction `input`, demandez à l'utilisateur de rentrer un nombre entier positif. Affichez `\"Premier\"` s'il s'agit d'un nombre premier. Dans le cas contraire, affichez le nombre qui le divise.\n",
    "\n",
    "Un nombre N est premier si :\n",
    "\n",
    "$$\n",
    "\\forall i :\n",
    "\\begin{cases}\n",
    "    i \\ge 2      \\\\\n",
    "    i^{2} \\le N\n",
    "\\end{cases}\n",
    ", i \\;\\mathrm{mod}\\; N \\mathrel{\\mathtt{!=}} 0\n",
    "$$\n",
    "\n",
    "<!--\n",
    "Note : LaTeX a des bugs depuis Jupyter et `\\ne` ne fonctionne pas, d'où l'usage de `\\mathrel{\\mathtt{!=}}`.\n",
    "-->"
   ],
   "metadata": {}
  },
  {
   "cell_type": "code",
   "execution_count": null,
   "source": [],
   "outputs": [],
   "metadata": {}
  },
  {
   "cell_type": "markdown",
   "source": [
    "## Exercice 5 - Nombre harmonique\n",
    "\n",
    "Un nombre harmonique est défini comme la somme des inverses de 1 à N :\n",
    "\n",
    "$$\n",
    "H_{N} = \\sum_{i=1}^{N} \\frac{1}{i} = \\frac{1}{1} + \\frac{1}{2} + \\frac{1}{3} + ... + \\frac{1}{N}\n",
    "$$\n",
    "\n",
    "En utilisant la fonction `input`, demandez à l'utilisateur de rentrer un nombre entier positif. Affichez le nombre harmonique associé."
   ],
   "metadata": {}
  },
  {
   "cell_type": "code",
   "execution_count": null,
   "source": [],
   "outputs": [],
   "metadata": {}
  },
  {
   "cell_type": "markdown",
   "source": [
    "## Exercice 6 - PGCD"
   ],
   "metadata": {}
  }
 ],
 "metadata": {
  "orig_nbformat": 4,
  "language_info": {
   "name": "python"
  }
 },
 "nbformat": 4,
 "nbformat_minor": 2
}