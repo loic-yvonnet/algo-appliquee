{
 "cells": [
  {
   "cell_type": "markdown",
   "source": [
    "# TP 5 - Comparaison d'algorithmes ayant le même objectif\n",
    "\n",
    "Pour chaque exercice, rentrez votre réponse dans l'éditeur Python associé.\n",
    "Enregistrez vos modifications, de préférence au format ipynb, lorsque vous aurez terminé.\n",
    "\n",
    "## Exercice 1 - Recherche linéaire\n",
    "\n",
    "En utilisant la fonction `input`, demandez à l'utilisateur de rentrer un nombre entier compris entre $0$ et $10^9$. Ecrivez une boucle allant de $0$ à $10^9$, et qui s'arrête dès que le nombre entré par l'utilisateur est trouvé. Cette boucle représente une recherche linéaire dans l'ensemble $[ 0 ; 10^9 ]$.\n",
    "\n",
    "Instrumentez ce code pour afficher le temps passé.\n",
    "\n",
    "Essayez votre algorithme avec de petits et de grands nombres."
   ],
   "metadata": {}
  },
  {
   "cell_type": "code",
   "execution_count": null,
   "source": [],
   "outputs": [],
   "metadata": {}
  },
  {
   "cell_type": "markdown",
   "source": [
    "## Exercice 2 - Recherche dichotomique\n",
    "\n",
    "En utilisant la fonction `input`, demandez à l'utilisateur de rentrer un nombre entier compris entre $0$ et $10^9$. En utilisant une approche dichotomique, retrouvez ce nombre.\n",
    "\n",
    "Instrumentez ce code pour afficher le temps passé.\n",
    "\n",
    "Essayez votre algorithme avec un grand nombre. Utilisez ce même nombre pour réexécuter l'exercice 1. Qu'en déduisez-vous ?"
   ],
   "metadata": {}
  },
  {
   "cell_type": "code",
   "execution_count": null,
   "source": [],
   "outputs": [],
   "metadata": {}
  },
  {
   "cell_type": "markdown",
   "source": [
    "## Exercice 3 - Racine carrée\n",
    "\n",
    "Ecrivez ici l'algorithme de calcul de racine carrée vu dans le [TD01](https://loic-yvonnet.github.io/algo-appliquee/03-programmes-simples/td-01-dichotomie.html).\n",
    "\n",
    "Instrumentez le code pour afficher les étapes successives, ainsi que le temps passé."
   ],
   "metadata": {}
  },
  {
   "cell_type": "code",
   "execution_count": null,
   "source": [],
   "outputs": [],
   "metadata": {}
  },
  {
   "cell_type": "markdown",
   "source": [
    "## Exercice 4 - Newton Raphson\n",
    "\n",
    "Reprenez l'algorithme de Newton Raphson, vu dans la [présentation du cours](https://loic-yvonnet.github.io/algo-appliquee/03-programmes-simples/).\n",
    "\n",
    "Instrumentez le code pour afficher les étapes successives, ainsi que le temps passé.\n",
    "\n",
    "Comparez les résultats avec ceux de l'exercice 3."
   ],
   "metadata": {}
  },
  {
   "cell_type": "code",
   "execution_count": null,
   "source": [],
   "outputs": [],
   "metadata": {}
  }
 ],
 "metadata": {
  "orig_nbformat": 4,
  "language_info": {
   "name": "python"
  }
 },
 "nbformat": 4,
 "nbformat_minor": 2
}