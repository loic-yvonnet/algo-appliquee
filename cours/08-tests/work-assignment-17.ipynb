{
 "cells": [
  {
   "cell_type": "markdown",
   "source": [
    "# TP 13 - Ecriture de tests unitaires\n",
    "\n",
    "Pour chaque exercice, ajoutez un encadré de code Python pour chaque unitaire que vous ajoutez. Si vous trouvez des problèmes dans l'implémentation des fonctions à couvrir par des tests unitaires, vous êtes également invités à les corriger.\n",
    "Enregistrez vos modifications, de préférence au format ipynb, lorsque vous aurez terminé.\n",
    "\n",
    "## Exercice 1 - Division\n",
    "\n",
    "Ajoutez des tests unitaires pour vérifier la validité (ou non) du code suivant :"
   ],
   "metadata": {}
  },
  {
   "cell_type": "code",
   "execution_count": null,
   "source": [
    "def divise_sur(a, b):\n",
    "    \"\"\" Divise a par b.\n",
    "    \n",
    "    Effectue la division de a par b et ne renvoie pas d'exception s'il\n",
    "    y a un problème mais la valeur infinie.\n",
    "    \"\"\"\n",
    "    if a != 0.:\n",
    "        return a / b\n",
    "    return float(\"inf\")"
   ],
   "outputs": [],
   "metadata": {}
  },
  {
   "cell_type": "code",
   "execution_count": null,
   "source": [
    "def test_1():\n",
    "    # Arrange\n",
    "    # Agit\n",
    "    # Affirme\n",
    "    pass"
   ],
   "outputs": [],
   "metadata": {}
  },
  {
   "cell_type": "code",
   "execution_count": null,
   "source": [
    "def test_2():\n",
    "    # Arrange\n",
    "    # Agit\n",
    "    # Affirme\n",
    "    pass"
   ],
   "outputs": [],
   "metadata": {}
  },
  {
   "cell_type": "markdown",
   "source": [
    "## Exercice 2 - Tokenizer"
   ],
   "metadata": {}
  },
  {
   "cell_type": "markdown",
   "source": [
    "## Exercice 3 - Fonction d'ordre supérieur"
   ],
   "metadata": {}
  },
  {
   "cell_type": "markdown",
   "source": [
    "## Exerice N - @TODO"
   ],
   "metadata": {}
  }
 ],
 "metadata": {
  "orig_nbformat": 4,
  "language_info": {
   "name": "python",
   "version": "3.9.6",
   "mimetype": "text/x-python",
   "codemirror_mode": {
    "name": "ipython",
    "version": 3
   },
   "pygments_lexer": "ipython3",
   "nbconvert_exporter": "python",
   "file_extension": ".py"
  },
  "kernelspec": {
   "name": "python3",
   "display_name": "Python 3.9.6 64-bit"
  },
  "interpreter": {
   "hash": "36cf16204b8548560b1c020c4e8fb5b57f0e4c58016f52f2d4be01e192833930"
  }
 },
 "nbformat": 4,
 "nbformat_minor": 2
}