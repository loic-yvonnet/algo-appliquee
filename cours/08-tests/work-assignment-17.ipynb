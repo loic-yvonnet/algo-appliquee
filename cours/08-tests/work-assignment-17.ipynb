{
 "cells": [
  {
   "cell_type": "markdown",
   "source": [
    "# TP 13 - Ecriture de tests unitaires\n",
    "\n",
    "Pour chaque exercice, ajoutez un encadré de code Python pour chaque unitaire que vous ajoutez. Si vous trouvez des problèmes dans l'implémentation des fonctions à couvrir par des tests unitaires, vous êtes également invités à les corriger.\n",
    "Enregistrez vos modifications, de préférence au format ipynb, lorsque vous aurez terminé.\n",
    "\n",
    "## Exercice 1 - Division\n",
    "\n",
    "Ajoutez des tests unitaires pour vérifier la validité (ou non) du code suivant :"
   ],
   "metadata": {}
  },
  {
   "cell_type": "code",
   "execution_count": null,
   "source": [
    "def divise(a, b):\n",
    "    \"\"\" Divise a par b.\n",
    "    \n",
    "    Effectue la division de a par b et ne renvoie pas d'exception s'il\n",
    "    y a un problème mais la valeur infinie.\n",
    "    \"\"\"\n",
    "    if a != 0.:\n",
    "        return a / b\n",
    "    return float(\"inf\")"
   ],
   "outputs": [],
   "metadata": {}
  },
  {
   "cell_type": "code",
   "execution_count": null,
   "source": [
    "def test_1():\n",
    "    # Arrange\n",
    "    # Agit\n",
    "    # Affirme\n",
    "    pass"
   ],
   "outputs": [],
   "metadata": {}
  },
  {
   "cell_type": "code",
   "execution_count": null,
   "source": [
    "def test_2():\n",
    "    # Arrange\n",
    "    # Agit\n",
    "    # Affirme\n",
    "    pass"
   ],
   "outputs": [],
   "metadata": {}
  },
  {
   "cell_type": "code",
   "execution_count": null,
   "source": [
    "# Ajoutez autant de fonctions de test que vous jugez nécessaire"
   ],
   "outputs": [],
   "metadata": {}
  },
  {
   "cell_type": "markdown",
   "source": [
    "## Exercice 2 - Listes chaînées\n",
    "\n",
    "Dans le TP 9, vous avez écrit une bibliothèque de manipulation d'une liste chaînée.\n",
    "\n",
    "Reprenez ici votre bibliothèque :"
   ],
   "metadata": {}
  },
  {
   "cell_type": "code",
   "execution_count": null,
   "source": [
    "\n",
    "\n",
    "\n"
   ],
   "outputs": [],
   "metadata": {}
  },
  {
   "cell_type": "markdown",
   "source": [
    "\n",
    "\n",
    "### Exercice 2.1 - Insertion\n",
    "\n",
    "Ecrivez des tests unitaires pour les fonction `insert_au_debut`, `insert_a_la_fin` et `insert_au_milieu`.\n"
   ],
   "metadata": {}
  },
  {
   "cell_type": "code",
   "execution_count": null,
   "source": [
    "\n",
    "\n",
    "\n"
   ],
   "outputs": [],
   "metadata": {}
  },
  {
   "cell_type": "markdown",
   "source": [
    "\n",
    "\n",
    "### Exercice 2.2 - Taille de la liste chaînée\n",
    "\n",
    "Ecrivez des tests unitaires pour la fonction `taille_de_la_liste`.\n",
    "\n"
   ],
   "metadata": {}
  },
  {
   "cell_type": "code",
   "execution_count": null,
   "source": [
    "\n",
    "\n",
    "\n"
   ],
   "outputs": [],
   "metadata": {}
  },
  {
   "cell_type": "markdown",
   "source": [
    "\n",
    "### Exercice 2.3 - Création d'une liste\n",
    "\n",
    "Ecrivez des tests unitaires pour la fonction `creer_liste_chainee`.\n"
   ],
   "metadata": {}
  },
  {
   "cell_type": "code",
   "execution_count": null,
   "source": [
    "\n",
    "\n",
    "\n"
   ],
   "outputs": [],
   "metadata": {}
  },
  {
   "cell_type": "markdown",
   "source": [
    "\n",
    "\n",
    "### Exercice 2.4 - Recherche\n",
    "\n",
    "Ecrivez des tests unitaires pour la fonction `index_de_valeur`.\n"
   ],
   "metadata": {}
  },
  {
   "cell_type": "code",
   "execution_count": null,
   "source": [
    "\n",
    "\n",
    "\n"
   ],
   "outputs": [],
   "metadata": {}
  },
  {
   "cell_type": "markdown",
   "source": [
    "\n",
    "\n",
    "### Exercice 2.5 - Index\n",
    "\n",
    "Ecrivez des tests unitaires pour la fonction `donne_valeur`.\n"
   ],
   "metadata": {}
  },
  {
   "cell_type": "code",
   "execution_count": null,
   "source": [
    "\n",
    "\n",
    "\n"
   ],
   "outputs": [],
   "metadata": {}
  },
  {
   "cell_type": "markdown",
   "source": [
    "\n",
    "\n",
    "### Exercice 2.6 - Suppression\n",
    "\n",
    "Ecrivez des tests unitaires pour la fonction `supprime_noeud`."
   ],
   "metadata": {}
  },
  {
   "cell_type": "code",
   "execution_count": null,
   "source": [
    "\n",
    "\n",
    "\n"
   ],
   "outputs": [],
   "metadata": {}
  },
  {
   "cell_type": "markdown",
   "source": [
    "## Exercice 3 - Fonction d'ordre supérieur\n",
    "\n",
    "Ajoutez des tests unitaires pour vérifier la validité (ou non) du code suivant :"
   ],
   "metadata": {}
  },
  {
   "cell_type": "code",
   "execution_count": null,
   "source": [
    "def applique(f, liste):\n",
    "    \"\"\"Applique f à tous les éléments de la liste.\n",
    "    \n",
    "    Renvoie une nouvelle liste faite de l'application de f sur les\n",
    "    éléments de la liste.\n",
    "    \"\"\"\n",
    "    resultat = [0]\n",
    "    for i in range(len(liste) - 1):\n",
    "        resultat.append(f(liste[i]))"
   ],
   "outputs": [],
   "metadata": {}
  },
  {
   "cell_type": "code",
   "execution_count": null,
   "source": [
    "def test_():\n",
    "    # Arrange\n",
    "    # Agit\n",
    "    # Affirme\n",
    "    pass"
   ],
   "outputs": [],
   "metadata": {}
  },
  {
   "cell_type": "code",
   "execution_count": null,
   "source": [
    "\n",
    "\n",
    "\n"
   ],
   "outputs": [],
   "metadata": {}
  },
  {
   "cell_type": "markdown",
   "source": [
    "## Exercice 4 - Calcul matriciel\n",
    "\n",
    "Reprenez le code de l'exercice 4 du DM 3."
   ],
   "metadata": {}
  },
  {
   "cell_type": "code",
   "execution_count": null,
   "source": [
    "\n",
    "\n",
    "\n"
   ],
   "outputs": [],
   "metadata": {}
  },
  {
   "cell_type": "markdown",
   "source": [
    "\n",
    "### Exercice 4.1 - Addition matricielle\n",
    "\n",
    "Ecrivez des tests unitaires pour la fonction `ajoute_matrices`.\n"
   ],
   "metadata": {}
  },
  {
   "cell_type": "code",
   "execution_count": null,
   "source": [
    "\n",
    "\n",
    "\n"
   ],
   "outputs": [],
   "metadata": {}
  },
  {
   "cell_type": "markdown",
   "source": [
    "\n",
    "### Exercice 4.2 - Multiplication matricielle\n",
    "\n",
    "Ecrivez des tests unitaires pour la fonction `multiplie_matrices`.\n"
   ],
   "metadata": {}
  },
  {
   "cell_type": "code",
   "execution_count": null,
   "source": [
    "\n",
    "\n",
    "\n"
   ],
   "outputs": [],
   "metadata": {}
  },
  {
   "cell_type": "markdown",
   "source": [
    "\n",
    "### Exercice 4.3 - Déterminant d'une matrice 3x3\n",
    "\n",
    "Ecrivez des tests unitaires pour la fonction `determinant_3x3`.\n"
   ],
   "metadata": {}
  },
  {
   "cell_type": "code",
   "execution_count": null,
   "source": [
    "\n",
    "\n",
    "\n"
   ],
   "outputs": [],
   "metadata": {}
  },
  {
   "cell_type": "markdown",
   "source": [
    "\n",
    "### Exercice 4.4 - Matrice diagonale\n",
    "\n",
    "Ecrivez des tests unitaires pour la fonction `est_diagonale`.\n"
   ],
   "metadata": {}
  },
  {
   "cell_type": "code",
   "execution_count": null,
   "source": [
    "\n",
    "\n",
    "\n"
   ],
   "outputs": [],
   "metadata": {}
  },
  {
   "cell_type": "markdown",
   "source": [
    "\n",
    "### Exercice 4.5 - Matrice identité\n",
    "\n",
    "Ecrivez des tests unitaires pour la fonction `I`.\n"
   ],
   "metadata": {}
  },
  {
   "cell_type": "code",
   "execution_count": null,
   "source": [
    "\n",
    "\n",
    "\n"
   ],
   "outputs": [],
   "metadata": {}
  },
  {
   "cell_type": "markdown",
   "source": [
    "\n",
    "### Exercice 4.6 - Règle de Cramer\n",
    "\n",
    "Ecrivez des tests unitaires pour la fonction `cramer`."
   ],
   "metadata": {}
  },
  {
   "cell_type": "code",
   "execution_count": null,
   "source": [
    "\n",
    "\n",
    "\n"
   ],
   "outputs": [],
   "metadata": {}
  }
 ],
 "metadata": {
  "orig_nbformat": 4,
  "language_info": {
   "name": "python",
   "version": "3.9.6",
   "mimetype": "text/x-python",
   "codemirror_mode": {
    "name": "ipython",
    "version": 3
   },
   "pygments_lexer": "ipython3",
   "nbconvert_exporter": "python",
   "file_extension": ".py"
  },
  "kernelspec": {
   "name": "python3",
   "display_name": "Python 3.9.6 64-bit"
  },
  "interpreter": {
   "hash": "36cf16204b8548560b1c020c4e8fb5b57f0e4c58016f52f2d4be01e192833930"
  }
 },
 "nbformat": 4,
 "nbformat_minor": 2
}