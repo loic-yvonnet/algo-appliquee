{
 "cells": [
  {
   "cell_type": "markdown",
   "source": [
    "# TP 9 - Manipulation d'une liste chaînée\n",
    "\n",
    "Pour chaque exercice, rentrez votre réponse dans l'éditeur Python associé.\n",
    "Enregistrez vos modifications, de préférence au format ipynb, lorsque vous aurez terminé.\n",
    "\n",
    "## Exercice 1 - Représentation d'une liste chaînée\n",
    "\n",
    "On choisi de représenter une liste chaînée avec 2 structures de données :\n",
    "* La première structure, nommée `Noeud`, comporte la valeur d'un noeud et une référence vers le noeud suivant.\n",
    "* La deuxième structure, nommée `Liste`, comporte uniquement une référence vers le premier noeud de la liste chaînée.\n",
    "\n",
    "L'objectif de ce TP est de créer une bibliothèque de fonctions permettant de gérer une liste chaînée avec ces structures de données.\n",
    "\n",
    "![Liste chaînée](https://loic-yvonnet.github.io/algo-appliquee/06-problemes-classiques/assets/liste_chainee.png)"
   ],
   "metadata": {}
  },
  {
   "cell_type": "code",
   "execution_count": 1,
   "source": [
    "from dataclasses import dataclass\n",
    "\n",
    "@dataclass\n",
    "class Noeud:\n",
    "    \"\"\"Noeud de la liste chainee.\n",
    "    \n",
    "    La valeur peut etre n'importe quel objet Python valide.\n",
    "    Le suivant doit avoir pour type Noeud ou None.\n",
    "    \"\"\"\n",
    "    valeur = None\n",
    "    suivant = None\n",
    "\n",
    "@dataclass\n",
    "class Liste:\n",
    "    \"\"\"Liste chainee.\n",
    "\n",
    "    Il s'agit simplement d'un point d'entree vers le 1er noeud\n",
    "    de la liste chainee, nomme initial.\n",
    "    La variable initial doit avoir pour type Noeud ou None.\n",
    "    Toutes les fonctions de ce TP prendront une Liste en entree.\n",
    "    \"\"\"\n",
    "    initial = None"
   ],
   "outputs": [],
   "metadata": {}
  },
  {
   "cell_type": "markdown",
   "source": [
    "Comment initialisez-vous une variable de type `Noeud` ?\n",
    "Comment initialisez-vous une variable de type `Liste` ?\n",
    "Comment accédez-vous aux données membres ?\n",
    "Donnez des exemples ci-dessous."
   ],
   "metadata": {}
  },
  {
   "cell_type": "code",
   "execution_count": 2,
   "source": [
    "liste_chainee = Liste() # Est-ce correct ? \n",
    "                        # Comment accéder à la variable \"initial\" ?\n",
    "\n",
    "# Donnez des exemples valides pour Noeud et \n",
    "# montrer comment accéder aux données membres \"valeur\" et \"suivant\".\n",
    "\n",
    "\n",
    "\n",
    "\n"
   ],
   "outputs": [],
   "metadata": {}
  },
  {
   "cell_type": "markdown",
   "source": [
    "## Exercice 2 - Insertion au début\n",
    "\n",
    "Ecrivez la fonction `insert_au_debut` qui prend une `Liste` nommée `L` et une `valeur` en entrée et renvoie une nouvelle `Liste` en sortie, comme illustré ci-dessous.\n",
    "\n",
    "![Insertion en début de liste chaînée](https://loic-yvonnet.github.io/algo-appliquee/06-problemes-classiques/assets/insertion_debut.png)"
   ],
   "metadata": {}
  },
  {
   "cell_type": "code",
   "execution_count": null,
   "source": [
    "\n",
    "\n",
    "\n",
    "\n",
    "\n",
    "\n",
    "\n",
    "\n",
    "\n"
   ],
   "outputs": [],
   "metadata": {}
  },
  {
   "cell_type": "markdown",
   "source": [
    "## Exercice 3 - Affichage d'une liste\n",
    "\n",
    "Ecrivez la fonction `affiche_liste` qui prend une `Liste` nommée `L` en entrée et affiche son contenu sur la sortie standard.\n",
    "\n",
    "Par exemple :\n",
    "```py\n",
    "L = Liste()\n",
    "L2 = insert_au_debut(L, 2)\n",
    "L3 = insert_au_debut(L2, 4)\n",
    "L4 = insert_au_debut(L3, 8)\n",
    "affiche_liste(L4)\n",
    "```\n",
    "\n",
    "doit afficher :\n",
    "```\n",
    "8 → 4 → 2\n",
    "```"
   ],
   "metadata": {}
  },
  {
   "cell_type": "code",
   "execution_count": null,
   "source": [
    "\n",
    "\n",
    "\n",
    "\n",
    "\n",
    "\n",
    "\n"
   ],
   "outputs": [],
   "metadata": {}
  },
  {
   "cell_type": "markdown",
   "source": [
    "## Exercice 4 - Taille de la liste chaînée\n",
    "\n",
    "Ecrivez la fonction `taille_de_la_liste` qui prend une `Liste` nommée `L` et renvoie sa taille.\n",
    "\n",
    "Par exemple :\n",
    "```py\n",
    "L = Liste()\n",
    "L = insert_au_debut(L, 2)\n",
    "L = insert_au_debut(L, 4)\n",
    "L = insert_au_debut(L, 8)\n",
    "taille = taille_de_la_liste(L)\n",
    "print(taille)\n",
    "```\n",
    "\n",
    "doit afficher :\n",
    "```\n",
    "3\n",
    "```"
   ],
   "metadata": {}
  },
  {
   "cell_type": "code",
   "execution_count": null,
   "source": [
    "\n",
    "\n",
    "\n",
    "\n",
    "\n",
    "\n",
    "\n",
    "\n"
   ],
   "outputs": [],
   "metadata": {}
  },
  {
   "cell_type": "markdown",
   "source": [
    "## Exercice 5 - Créer une liste complète en 1 ligne de code\n",
    "\n",
    "Ecrivez la fonction `creer_liste_chainee` qui prend un nombre variable d'arguments et renvoie une `Liste` telle que :\n",
    "\n",
    "```py\n",
    "L = creer_liste_chainee(1, 2, 3, 4, 5)\n",
    "affiche_liste(L)\n",
    "```\n",
    "\n",
    "doit afficher :\n",
    "```\n",
    "1 → 2 → 3 → 4 → 5\n",
    "```"
   ],
   "metadata": {}
  },
  {
   "cell_type": "code",
   "execution_count": null,
   "source": [
    "\n",
    "\n",
    "\n",
    "\n",
    "\n",
    "\n",
    "\n",
    "\n"
   ],
   "outputs": [],
   "metadata": {}
  },
  {
   "cell_type": "markdown",
   "source": [
    "## Exercice 6 - Insertion au milieu\n",
    "\n",
    "Ecrivez la fonction `insert_au_milieu` qui prend une `Liste` nommée `L`, une `valeur` et un `index` en entrée, et insère cette valeur à l'index comme illustré ci-dessous.\n",
    "\n",
    "![Insertion en milieu de liste chaînée](https://loic-yvonnet.github.io/algo-appliquee/06-problemes-classiques/assets/insertion_milieu.png)\n",
    "\n",
    "On considère que le 1er élément est à l'index 0.\n",
    "Renvoyez -1 si `index < 1 or index >= taille_de_la_liste(L)` et 0 si l'insertion réussit.\n",
    "\n",
    "Par exemple :\n",
    "```py\n",
    "L = creer_liste_chainee(2, 4, 6, 8, 10)\n",
    "insert_au_milieu(L, valeur=5, index=2)\n",
    "affiche_liste(L)\n",
    "```\n",
    "\n",
    "doit afficher :\n",
    "```\n",
    "2 → 4 → 5 → 6 → 8 → 10\n",
    "```"
   ],
   "metadata": {}
  },
  {
   "cell_type": "code",
   "execution_count": null,
   "source": [
    "\n",
    "\n",
    "\n",
    "\n",
    "\n",
    "\n",
    "\n"
   ],
   "outputs": [],
   "metadata": {}
  },
  {
   "cell_type": "markdown",
   "source": [
    "## Exercice 7 - Insertion à la fin\n",
    "\n",
    "Ecrivez la fonction `insert_a_la_fin` qui prend une `Liste` nommée `L`, et une `valeur`, et insère cette valeur à la fin comme illustré ci-dessous.\n",
    "\n",
    "![Insertion en fin de liste chaînée](https://loic-yvonnet.github.io/algo-appliquee/06-problemes-classiques/assets/insertion_fin.png)\n"
   ],
   "metadata": {}
  },
  {
   "cell_type": "code",
   "execution_count": null,
   "source": [
    "\n",
    "\n",
    "\n",
    "\n"
   ],
   "outputs": [],
   "metadata": {}
  },
  {
   "cell_type": "markdown",
   "source": [
    "## Exercice 8 - Recherche d'une valeur\n",
    "\n",
    "Ecrivez la fonction `index_de_valeur` qui prend une `Liste` nommée `L`, et une `valeur` et renvoie l'index de cette valeur dans la liste, ou -1 si cette valeur n'est pas trouvée.\n",
    "\n",
    "On considère que le 1er élément est à l'index 0.\n",
    "\n",
    "Par exemple :\n",
    "```py\n",
    "L = creer_liste_chainee(2, 4, 6, 8, 10)\n",
    "index = index_de_valeur(L, valeur=4)\n",
    "print(index)\n",
    "```\n",
    "\n",
    "doit afficher :\n",
    "```\n",
    "1\n",
    "```"
   ],
   "metadata": {}
  },
  {
   "cell_type": "code",
   "execution_count": null,
   "source": [
    "\n",
    "\n",
    "\n",
    "\n"
   ],
   "outputs": [],
   "metadata": {}
  },
  {
   "cell_type": "markdown",
   "source": [
    "## Exercice 9 - Retourner la i-ième valeur\n",
    "\n",
    "Ecrivez la fonction `donne_valeur` qui prend une `Liste` nommée `L`, et un `index` et qui renvoie la valeur à cet index ou `None` si l'index est en dehors des bornes.\n",
    "\n",
    "Par exemple :\n",
    "```py\n",
    "L = creer_liste_chainee(2, 4, 6, 8, 10)\n",
    "valeur = donne_valeur(L, index=1)\n",
    "print(valeur)\n",
    "```\n",
    "\n",
    "doit afficher :\n",
    "```\n",
    "4\n",
    "```"
   ],
   "metadata": {}
  },
  {
   "cell_type": "code",
   "execution_count": null,
   "source": [
    "\n",
    "\n",
    "\n",
    "\n"
   ],
   "outputs": [],
   "metadata": {}
  },
  {
   "cell_type": "markdown",
   "source": [
    "## Exercice 10 - Suppression d'un noeud (au début, au milieu ou à la fin)\n",
    "\n",
    "Ecrivez la fonction `supprime_noeud` qui prend une `Liste` nommée `L`, et un `index`, et supprime le noeud à cet index s'il existe.\n",
    "\n",
    "Tout comme pour l'insertion, il existe 3 cas :\n",
    "\n",
    "### Suppression au début\n",
    "\n",
    "![Suppression en début de liste chaînée](https://loic-yvonnet.github.io/algo-appliquee/06-problemes-classiques/assets/suppression_debut.png)\n",
    "\n",
    "### Suppression au milieu\n",
    "\n",
    "![Suppression en milieu de liste chaînée](https://loic-yvonnet.github.io/algo-appliquee/06-problemes-classiques/assets/suppression_milieu.png)\n",
    "\n",
    "### Suprresion à la fin\n",
    "\n",
    "![Suppression en fin de liste chaînée](https://loic-yvonnet.github.io/algo-appliquee/06-problemes-classiques/assets/suppression_fin.png)\n",
    "\n",
    "Par exemple :\n",
    "```py\n",
    "L = creer_liste_chainee(2, 4, 6, 8, 10)\n",
    "supprime_noeud(L, index=4)\n",
    "supprime_noeud(L, index=2)\n",
    "supprime_noeud(L, index=0)\n",
    "affiche_liste(L)\n",
    "```\n",
    "\n",
    "doit afficher :\n",
    "```\n",
    "4 → 8\n",
    "```"
   ],
   "metadata": {}
  },
  {
   "cell_type": "code",
   "execution_count": null,
   "source": [
    "\n",
    "\n",
    "\n",
    "\n"
   ],
   "outputs": [],
   "metadata": {}
  }
 ],
 "metadata": {
  "orig_nbformat": 4,
  "language_info": {
   "name": "python",
   "version": "3.9.7",
   "mimetype": "text/x-python",
   "codemirror_mode": {
    "name": "ipython",
    "version": 3
   },
   "pygments_lexer": "ipython3",
   "nbconvert_exporter": "python",
   "file_extension": ".py"
  },
  "kernelspec": {
   "name": "python3",
   "display_name": "Python 3.9.7 64-bit"
  },
  "interpreter": {
   "hash": "36cf16204b8548560b1c020c4e8fb5b57f0e4c58016f52f2d4be01e192833930"
  }
 },
 "nbformat": 4,
 "nbformat_minor": 2
}