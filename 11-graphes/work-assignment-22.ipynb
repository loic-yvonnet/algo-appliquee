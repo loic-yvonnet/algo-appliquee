{
 "cells": [
  {
   "cell_type": "markdown",
   "metadata": {},
   "source": [
    "# TP 18 - Arbres binaires\n",
    "\n",
    "Pour chaque exercice, rentrez votre réponse dans l'éditeur Python associé.\n",
    "Enregistrez vos modifications, de préférence au format ipynb, lorsque vous aurez terminé."
   ]
  },
  {
   "cell_type": "markdown",
   "metadata": {},
   "source": [
    "\n",
    "## Exercice 1 - Insertion\n",
    "\n",
    "Reprenez les structures de données `ArbreBinaire` et `Noeud` vus en cours :\n"
   ]
  },
  {
   "cell_type": "code",
   "execution_count": null,
   "metadata": {},
   "outputs": [],
   "source": [
    "\n",
    "\n",
    "\n"
   ]
  },
  {
   "cell_type": "markdown",
   "metadata": {},
   "source": [
    "Reprenez la fonction `insere_noeud_dans_arbre_binaire` vue en cours :"
   ]
  },
  {
   "cell_type": "code",
   "execution_count": null,
   "metadata": {},
   "outputs": [],
   "source": [
    "def insere_noeud_dans_arbre_binaire(arbre, valeur):\n",
    "    \"\"\"Insère un nouveau noeud dans un arbre binaire.\"\"\"\n",
    "    pass"
   ]
  },
  {
   "cell_type": "markdown",
   "metadata": {},
   "source": [
    "Créez un arbre binaire en exécutant le code ci-dessous :"
   ]
  },
  {
   "cell_type": "code",
   "execution_count": null,
   "metadata": {},
   "outputs": [],
   "source": [
    "arbre = ArbreBinaire()\n",
    "insere_noeud_dans_arbre_binaire(arbre, 42)\n",
    "insere_noeud_dans_arbre_binaire(arbre, 7)\n",
    "insere_noeud_dans_arbre_binaire(arbre, 128)\n",
    "insere_noeud_dans_arbre_binaire(arbre, 3)\n",
    "insere_noeud_dans_arbre_binaire(arbre, 21)\n",
    "insere_noeud_dans_arbre_binaire(arbre, 64)\n",
    "insere_noeud_dans_arbre_binaire(arbre, 256)"
   ]
  },
  {
   "cell_type": "markdown",
   "metadata": {},
   "source": [
    "## Exercice 2 - Affichage\n",
    "\n",
    "Pour affichez un arbre binaire de manière textuelle, différentes approches sont possibles.\n",
    "\n",
    "On va implémenter un algorithme récursif qui va fusionner le bloc de texte représentant la partie gauche de l'arbre avec la partie droite.\n",
    "\n",
    "Implémentez la fonction `fusionne_blocs` qui prend 2 chaînes de caractères en entrée et les fusionne ligne à ligne.\n",
    "\n",
    "Par exemple :\n",
    "```python\n",
    "bloc1 =  \"\"\"\n",
    "+--------------+\n",
    "|      3       |\n",
    "|    /   \\     |\n",
    "|   1     2    |\n",
    "+--------------+\n",
    "\"\"\"\n",
    "bloc2 = \"\"\"\n",
    "+---------------+\n",
    "|       8       |\n",
    "|    /     \\    |\n",
    "|  7        10  |\n",
    "| / \\       / \\ |\n",
    "|5   6     9  11|\n",
    "+---------------+\n",
    "\"\"\"\n",
    "print(fusionne_blocs(bloc1, bloc2))\n",
    "print(fusionne_blocs(bloc2, bloc1))\n",
    "```\n",
    "\n",
    "doit afficher :\n",
    "```bash\n",
    "\n",
    "+--------------++---------------+\n",
    "|      3       ||       8       |\n",
    "|    /   \\     ||    /     \\    |\n",
    "|   1     2    ||  7        10  |\n",
    "+--------------+| / \\       / \\ |\n",
    "                |5   6     9  11|\n",
    "                +---------------+\n",
    "\n",
    "\n",
    "+---------------++--------------+\n",
    "|       8       ||      3       |\n",
    "|    /     \\    ||    /   \\     |\n",
    "|  7        10  ||   1     2    |\n",
    "| / \\       / \\ |+--------------+\n",
    "|5   6     9  11|                \n",
    "+---------------+                \n",
    "\n",
    "```"
   ]
  },
  {
   "cell_type": "code",
   "execution_count": null,
   "metadata": {},
   "outputs": [],
   "source": [
    "def fusionne_blocs(bloc1, bloc2):\n",
    "    \"\"\"Fusionne 2 blocs de texte.\"\"\"\n",
    "    pass"
   ]
  },
  {
   "cell_type": "code",
   "execution_count": null,
   "metadata": {},
   "outputs": [],
   "source": [
    "bloc1 =  \"\"\"\n",
    "+--------------+\n",
    "|      3       |\n",
    "|    /   \\     |\n",
    "|   1     2    |\n",
    "+--------------+\n",
    "\"\"\"\n",
    "bloc2 = \"\"\"\n",
    "+---------------+\n",
    "|       8       |\n",
    "|    /     \\    |\n",
    "|  7        10  |\n",
    "| / \\       / \\ |\n",
    "|5   6     9  11|\n",
    "+---------------+\n",
    "\"\"\"\n",
    "print(fusionne_blocs(bloc1, bloc2))\n",
    "print(fusionne_blocs(bloc2, bloc1))"
   ]
  },
  {
   "cell_type": "markdown",
   "metadata": {},
   "source": [
    "Exécutez la fonction suivante pour afficher l'arbre précédemment créé :"
   ]
  },
  {
   "cell_type": "code",
   "execution_count": null,
   "metadata": {},
   "outputs": [],
   "source": [
    "def serialise_noeud(noeud):\n",
    "    \"\"\"Sérialise récursivement l'arbre à partir du noeud en entrée.\n",
    "    \n",
    "    A chaque niveau, on créé un bloc de texte rectangulaire.\n",
    "    On fusionne chaque bloc récursivement.\n",
    "    \"\"\"\n",
    "    # Fin de la récursivité\n",
    "    if noeud == None:\n",
    "        return \"\"\n",
    "\n",
    "    # Créé une chaîne de caractères pour chaque bloc\n",
    "    bloc_gauche = serialise_noeud(noeud.gauche)\n",
    "    bloc_droite = serialise_noeud(noeud.droite)\n",
    "\n",
    "    # On calcule l'espacement\n",
    "    i = bloc_gauche.find(\"\\n\")\n",
    "    j = bloc_droite.find(\"\\n\")\n",
    "    nb_espaces_gauche = len(bloc_gauche[:i]) if i > 0 else 0\n",
    "    nb_espaces_droite = len(bloc_droite[:j]) if j > 0 else 0\n",
    "    nb_espaces = nb_espaces_gauche + nb_espaces_droite\n",
    "    nb_espaces = max(4, nb_espaces)\n",
    "\n",
    "    # On rajoute le début du nouveau bloc\n",
    "    resultat = str(noeud.valeur).center(nb_espaces) + \"\\n\"\n",
    "    if nb_espaces_gauche > 0:\n",
    "        resultat += \"/\".center(nb_espaces_gauche)\n",
    "    if nb_espaces_droite > 0:\n",
    "        resultat += \"\\\\\".center(nb_espaces_droite)\n",
    "    if nb_espaces_gauche > 0 or nb_espaces_droite > 0:\n",
    "        resultat += \"\\n\"\n",
    "\n",
    "    # On fusionne les 2 sous-blocs\n",
    "    resultat += fusionne_blocs(bloc_gauche, bloc_droite)\n",
    "\n",
    "    return resultat\n",
    "\n",
    "def affiche_arbre(arbre):\n",
    "    \"\"\"Affiche un arbre binaire.\"\"\"\n",
    "    chaine = serialise_noeud(arbre.noeud)\n",
    "    print(chaine)\n",
    "\n",
    "affiche_arbre(arbre)"
   ]
  },
  {
   "cell_type": "markdown",
   "metadata": {},
   "source": [
    "## Exercice 3 - Création à partir d'une liste\n",
    "\n",
    "Implémentez la fonction `creer_arbre_binaire_avec_liste` qui prend une `list` en entrée et renvoie un `ArbreBinaire`. On insère dans cet arbre chaque élément de la `list` en entrée.\n",
    "\n",
    "Par exemple :\n",
    "```python\n",
    "liste = [42, 7, 108, 21, 1, 88, 128, 50, 100, 0, 25, 256, 125, 3, 15]\n",
    "arbre = creer_arbre_binaire_avec_liste(liste)\n",
    "affiche_arbre(arbre)\n",
    "```\n",
    "\n",
    "doit afficher :\n",
    "```bash\n",
    "               42               \n",
    "       /               \\        \n",
    "       7              108       \n",
    "   /       \\       /       \\    \n",
    "   1       21      88     128   \n",
    " /   \\   /   \\   /   \\   /   \\  \n",
    " 0   3   15  25  50 100 125 256 \n",
    "```"
   ]
  },
  {
   "cell_type": "code",
   "execution_count": null,
   "metadata": {},
   "outputs": [],
   "source": [
    "def creer_arbre_binaire_avec_liste(liste):\n",
    "    \"\"\"Convertie une liste en arbre binaire.\"\"\"\n",
    "    pass"
   ]
  },
  {
   "cell_type": "code",
   "execution_count": null,
   "metadata": {},
   "outputs": [],
   "source": [
    "liste = [42, 7, 108, 21, 1, 88, 128, 50, 100, 0, 25, 256, 125, 3, 15]\n",
    "arbre = creer_arbre_binaire_avec_liste(liste)\n",
    "affiche_arbre(arbre)"
   ]
  },
  {
   "cell_type": "markdown",
   "metadata": {},
   "source": [
    "## Exercice 4 - Recherche\n",
    "\n",
    "Reprenez la fonction `trouve_valeur_dans_arbre_binaire` vue en cours :"
   ]
  },
  {
   "cell_type": "code",
   "execution_count": null,
   "metadata": {},
   "outputs": [],
   "source": [
    "def trouve_valeur_dans_arbre_binaire(arbre, valeur):\n",
    "    \"\"\"Trouve une valeur dans l'arbre binaire.\"\"\"\n",
    "    pass"
   ]
  },
  {
   "cell_type": "markdown",
   "metadata": {},
   "source": [
    "Exécutez le code suivant :"
   ]
  },
  {
   "cell_type": "code",
   "execution_count": null,
   "metadata": {},
   "outputs": [],
   "source": [
    "arbre = creer_arbre_binaire_avec_liste([5, 2, 6, 7, 8, 10, 15, 1, 3, 9])\n",
    "affiche_arbre(arbre)"
   ]
  },
  {
   "cell_type": "code",
   "execution_count": null,
   "metadata": {},
   "outputs": [],
   "source": [
    "noeud = trouve_valeur_dans_arbre_binaire(arbre, 7)\n",
    "print(noeud.valeur)\n",
    "noeud = trouve_valeur_dans_arbre_binaire(arbre, -1)\n",
    "if noeud != None:\n",
    "    raise ValueError(\"-1\")"
   ]
  },
  {
   "cell_type": "markdown",
   "metadata": {},
   "source": [
    "## Exercice 5 - Tests unitaires\n",
    "\n",
    "Ecrivez des tests unitaires pour la fonction `trouve_valeur_dans_arbre_binaire`."
   ]
  },
  {
   "cell_type": "code",
   "execution_count": null,
   "metadata": {},
   "outputs": [],
   "source": [
    "\n",
    "\n",
    "\n",
    "\n"
   ]
  },
  {
   "cell_type": "markdown",
   "metadata": {},
   "source": [
    "## Exercice 6 - Profondeur\n",
    "\n",
    "Implémentez la fonction `profondeur` qui renvoie la profondeur d'un arbre binaire.\n",
    "\n",
    "Vous pouvez utiliser une fonction récursive qui renvoie le `max` de la `profondeur` à `gauche` et à `droite`.\n",
    "\n",
    "Par exemple :\n",
    "```python\n",
    "arbre = creer_arbre_binaire_avec_liste([2, 1, 3])\n",
    "print(f\"Profondeur : {profondeur(arbre)}\")\n",
    "```\n",
    "\n",
    "doit afficher :\n",
    "```bash\n",
    "Profondeur : 2\n",
    "```"
   ]
  },
  {
   "cell_type": "code",
   "execution_count": null,
   "metadata": {},
   "outputs": [],
   "source": [
    "def profondeur_noeud(noeud):\n",
    "    \"\"\"Renvoie la profondeur de l'arbre à partir du noeud.\"\"\"\n",
    "    pass\n",
    "\n",
    "def profondeur(arbre):\n",
    "    return profondeur_noeud(arbre.noeud)"
   ]
  },
  {
   "cell_type": "code",
   "execution_count": null,
   "metadata": {},
   "outputs": [],
   "source": [
    "arbre = creer_arbre_binaire_avec_liste([2, 1, 3])\n",
    "affiche_arbre(arbre)\n",
    "print(f\"Profondeur : {profondeur(arbre)}\")"
   ]
  },
  {
   "cell_type": "code",
   "execution_count": null,
   "metadata": {},
   "outputs": [],
   "source": [
    "arbre = creer_arbre_binaire_avec_liste([5, 2, 6, 7, 8, 10, 15, 1, 3, 9])\n",
    "affiche_arbre(arbre)\n",
    "print(f\"Profondeur : {profondeur(arbre)}\")"
   ]
  },
  {
   "cell_type": "markdown",
   "metadata": {},
   "source": [
    "## Exercice 7 - Benchmark\n",
    "\n",
    "Exécutez le code suivant :"
   ]
  },
  {
   "cell_type": "code",
   "execution_count": null,
   "metadata": {},
   "outputs": [],
   "source": [
    "from timeit import timeit\n",
    "import matplotlib.pyplot as plt\n",
    "\n",
    "# Abscisses\n",
    "x = list(range(12))\n",
    "\n",
    "# Listes\n",
    "listes = [list(range(2**xi)) for xi in x]\n",
    "\n",
    "# Arbres binaires non-équilibrés\n",
    "arbres = [creer_arbre_binaire_avec_liste(liste) for liste in listes]\n",
    "\n",
    "# Derniers des listes\n",
    "derniers = [liste[-1] for liste in listes]\n",
    "\n",
    "# Aide\n",
    "def mesure(f, arbre, valeur):\n",
    "    auxiliaire = lambda: f(arbre, valeur)\n",
    "    return timeit(auxiliaire, number=1)\n",
    "\n",
    "# Ordonnées\n",
    "y = []\n",
    "for arbre, dernier in zip(arbres, derniers):\n",
    "    temps = mesure(trouve_valeur_dans_arbre_binaire, arbre, dernier)\n",
    "    y.append(temps)\n",
    "\n",
    "plt.plot(x, y)"
   ]
  },
  {
   "cell_type": "markdown",
   "metadata": {},
   "source": [
    "Qu'en déduisez-vous ?"
   ]
  },
  {
   "cell_type": "code",
   "execution_count": null,
   "metadata": {},
   "outputs": [],
   "source": [
    "\n",
    "\n",
    "\n"
   ]
  },
  {
   "cell_type": "markdown",
   "metadata": {},
   "source": [
    "## Exercice 8 - Utilisation d'un arbre rouge-noir\n",
    "\n",
    "Exécutez le code ci-dessous :"
   ]
  },
  {
   "cell_type": "code",
   "execution_count": null,
   "metadata": {},
   "outputs": [],
   "source": [
    "from dataclasses import dataclass\n",
    "from typing import Any\n",
    "\n",
    "ROUGE = True\n",
    "NOIR = False\n",
    "\n",
    "@dataclass\n",
    "class Noeud:\n",
    "    \"\"\"Noeud d'un arbre rouge-noir.\"\"\"\n",
    "    valeur: Any = None\n",
    "    gauche: Any = None\n",
    "    droite: Any = None\n",
    "    couleur: bool = NOIR\n",
    "\n",
    "@dataclass\n",
    "class ArbreRougeNoir:\n",
    "    \"\"\"Arbre rouge-noir (Red-Black Binary Search Tree).\"\"\"\n",
    "    noeud: Noeud = None\n",
    "\n",
    "def est_rouge(x):\n",
    "    \"\"\"Dit si le noeud x est rouge.\"\"\"\n",
    "    if x == None:\n",
    "        return False\n",
    "\n",
    "    return x.couleur == ROUGE\n",
    "\n",
    "def rotation_gauche(noeud):\n",
    "    \"\"\"Le noeud à droite passe au-dessus.\"\"\"\n",
    "    droite = noeud.droite\n",
    "    noeud.droite = droite.gauche\n",
    "    droite.gauche = noeud\n",
    "    droite.couleur = noeud.couleur\n",
    "    noeud.couleur = ROUGE\n",
    "\n",
    "    return droite\n",
    "\n",
    "def rotation_droite(noeud):\n",
    "    \"\"\"Le noeud à gauche passe au-dessus.\"\"\"\n",
    "    gauche = noeud.gauche\n",
    "    noeud.gauche = gauche.droite\n",
    "    gauche.droite = noeud\n",
    "    gauche.couleur = noeud.couleur\n",
    "    noeud.couleur = ROUGE\n",
    "\n",
    "    return gauche\n",
    "\n",
    "def inverse_couleurs(noeud):\n",
    "    \"\"\"Inverse les couleurs pour converser un équilibre-noir parfait.\"\"\"\n",
    "    noeud.couleur = ROUGE\n",
    "    noeud.gauche.couleur = NOIR\n",
    "    noeud.droite.couleur = NOIR\n",
    "\n",
    "def insere_recursif(noeud, valeur):\n",
    "    \"\"\"Rééquilibre l'arbre récursivement en insérant une nouvelle valeur.\"\"\"\n",
    "    # Fin de la récursion\n",
    "    if noeud == None:\n",
    "        return Noeud(valeur=valeur, couleur=ROUGE)\n",
    "\n",
    "    # Recherche récursivement en rééquilibrant\n",
    "    if valeur < noeud.valeur:\n",
    "        noeud.gauche = insere_recursif(noeud.gauche, valeur)\n",
    "    elif valeur > noeud.valeur:\n",
    "        noeud.droite = insere_recursif(noeud.droite, valeur)\n",
    "\n",
    "    # Rééquilibrage\n",
    "    if est_rouge(noeud.droite) and (not est_rouge(noeud.gauche)):\n",
    "        noeud = rotation_gauche(noeud)\n",
    "    if est_rouge(noeud.gauche) and est_rouge(noeud.gauche.gauche):\n",
    "        noeud = rotation_droite(noeud)\n",
    "    if est_rouge(noeud.gauche) and est_rouge(noeud.droite):\n",
    "        inverse_couleurs(noeud)\n",
    "\n",
    "    return noeud\n",
    "\n",
    "def insere_noeud_dans_arbre_rouge_noir(arbre, valeur):\n",
    "    \"\"\"Insère un nouveau noeud dans un arbre rouge-noir.\"\"\"\n",
    "    arbre.noeud = insere_recursif(arbre.noeud, valeur)\n",
    "    arbre.noeud.couleur = NOIR\n",
    "\n",
    "def creer_arbre_rouge_noir_avec_liste(liste):\n",
    "    \"\"\"Convertie une liste en arbre rouge-noir.\"\"\"\n",
    "    arbre = ArbreRougeNoir()\n",
    "    for element in liste:\n",
    "        insere_noeud_dans_arbre_rouge_noir(arbre, element)\n",
    "\n",
    "    return arbre"
   ]
  },
  {
   "cell_type": "code",
   "execution_count": null,
   "metadata": {},
   "outputs": [],
   "source": [
    "from timeit import timeit\n",
    "import matplotlib.pyplot as plt\n",
    "\n",
    "# Abscisses\n",
    "x = list(range(15))\n",
    "\n",
    "# Listes\n",
    "listes = [list(range(2**xi)) for xi in x]\n",
    "\n",
    "# Arbres binaires équilibrés (rouge-noir)\n",
    "arbres = [creer_arbre_rouge_noir_avec_liste(liste) for liste in listes]\n",
    "\n",
    "# Derniers des listes\n",
    "derniers = [liste[-1] for liste in listes]\n",
    "\n",
    "# Aide\n",
    "def mesure(f, arbre, valeur):\n",
    "    auxiliaire = lambda: f(arbre, valeur)\n",
    "    return timeit(auxiliaire, number=1)\n",
    "\n",
    "# Ordonnées\n",
    "y = []\n",
    "for arbre, dernier in zip(arbres, derniers):\n",
    "    temps = mesure(trouve_valeur_dans_arbre_binaire, arbre, dernier)\n",
    "    y.append(temps)\n",
    "\n",
    "plt.plot(x, y)"
   ]
  },
  {
   "cell_type": "markdown",
   "metadata": {},
   "source": [
    "Qu'en déduisez-vous ?"
   ]
  },
  {
   "cell_type": "code",
   "execution_count": null,
   "metadata": {},
   "outputs": [],
   "source": [
    "\n",
    "\n",
    "\n",
    "\n"
   ]
  },
  {
   "cell_type": "markdown",
   "metadata": {},
   "source": [
    "## Exercice 9 - Plus petite valeur\n",
    "\n",
    "La plus petite valeur sous un noeud est celle la plus à gauche.\n",
    "\n",
    "Implémentez la fonction `plus_petite` qui prend un `noeud` et renvoie le noeud ayant la plus petite valeur sous celui-ci.\n",
    "\n",
    "Par exemple :\n",
    "```python\n",
    "arbre = creer_arbre_binaire_avec_liste([42, 7, 3, 1, 2, 8, 46])\n",
    "noeud = plus_petite(arbre.noeud)\n",
    "print(f\"Plus petit : {noeud.valeur}\")\n",
    "```\n",
    "\n",
    "doit afficher :\n",
    "```bash\n",
    "Plus petit : 1\n",
    "```"
   ]
  },
  {
   "cell_type": "code",
   "execution_count": null,
   "metadata": {},
   "outputs": [],
   "source": [
    "def plus_petite(noeud):\n",
    "    \"\"\"Renvoie le noeud avec la plus petite valeur.\"\"\"\n",
    "    pass"
   ]
  },
  {
   "cell_type": "code",
   "execution_count": null,
   "metadata": {},
   "outputs": [],
   "source": [
    "arbre = creer_arbre_binaire_avec_liste([42, 7, 3, 1, 2, 8, 46])\n",
    "noeud = plus_petite(arbre.noeud)\n",
    "print(f\"Plus petit : {noeud.valeur}\")"
   ]
  },
  {
   "cell_type": "markdown",
   "metadata": {},
   "source": [
    "## Exercice 10 - Suppression\n",
    "\n",
    "La suppression dans un arbre binaire peut s'implémenter de manière récursive en suivant les règles suivantes :\n",
    "* Si le noeud à supprimer n'a pas de descendant, on le met à `None`.\n",
    "* Si le noeud à supprimer a un unique descendant, le descendant en prend la place.\n",
    "* Si le noeud à supprimer a plusieurs descendants :\n",
    "    * On cherche la plus petite valeur sous le noeud à supprimer.\n",
    "    * La valeur du noeud à supprimer devient la plus petite valeur trouvée.\n",
    "    * Le noeud avec la plus petite valeur est supprimé.\n",
    "\n",
    "Implémentez la fonction `supprime_noeud` qui prend un `arbre` et une `valeur` et supprime le noeud ayant cette valeur."
   ]
  },
  {
   "cell_type": "code",
   "execution_count": null,
   "metadata": {},
   "outputs": [],
   "source": [
    "def supprime_noeud(arbre, valeur):\n",
    "    \"\"\"Supprime le noeud avec la valeur indiquée.\"\"\"\n",
    "    pass"
   ]
  },
  {
   "cell_type": "code",
   "execution_count": null,
   "metadata": {},
   "outputs": [],
   "source": [
    "liste = [42, 7, 108, 21, 1, 88, 128, 50, 100, 0, 25, 256, 125, 3, 15]\n",
    "arbre = creer_arbre_binaire_avec_liste(liste)\n",
    "affiche_arbre(arbre)\n",
    "\n",
    "print(\"Supprime 7\")\n",
    "supprime_noeud(arbre, 7)\n",
    "affiche_arbre(arbre)\n",
    "\n",
    "print(\"Supprime 42\")\n",
    "supprime_noeud(arbre, 42)\n",
    "affiche_arbre(arbre)\n",
    "\n",
    "print(\"Supprime 125\")\n",
    "supprime_noeud(arbre, 125)\n",
    "affiche_arbre(arbre)\n",
    "\n",
    "print(\"Supprime 15\")\n",
    "supprime_noeud(arbre, 15)\n",
    "affiche_arbre(arbre)\n",
    "\n",
    "print(\"Quelques étapes plus tard (0, 3, 50, 128 supprimés)...\")\n",
    "supprime_noeud(arbre, 0)\n",
    "supprime_noeud(arbre, 3)\n",
    "supprime_noeud(arbre, 50)\n",
    "supprime_noeud(arbre, 128)\n",
    "affiche_arbre(arbre)"
   ]
  }
 ],
 "metadata": {
  "interpreter": {
   "hash": "36cf16204b8548560b1c020c4e8fb5b57f0e4c58016f52f2d4be01e192833930"
  },
  "kernelspec": {
   "display_name": "Python 3.9.7 64-bit",
   "name": "python3"
  },
  "language_info": {
   "codemirror_mode": {
    "name": "ipython",
    "version": 3
   },
   "file_extension": ".py",
   "mimetype": "text/x-python",
   "name": "python",
   "nbconvert_exporter": "python",
   "pygments_lexer": "ipython3",
   "version": "3.9.7"
  },
  "orig_nbformat": 4
 },
 "nbformat": 4,
 "nbformat_minor": 2
}
