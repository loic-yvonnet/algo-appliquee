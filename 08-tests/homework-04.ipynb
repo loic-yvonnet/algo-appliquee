{
 "cells": [
  {
   "cell_type": "markdown",
   "source": [
    "![Entête CCI](./assets/entete-cci.png)\n",
    "\n",
    "Ce devoir à la maison va donner lieu à une note sur 20. Il doit être rendu avant le début du prochain cours.\n",
    "\n",
    "# DM 4 - Retour sur la complexité et les tests\n",
    "\n",
    "Pour chaque exercice, rentrez votre réponse dans l'éditeur Python associé.\n",
    "Enregistrez vos modifications, de préférence au format ipynb, lorsque vous aurez terminé.\n",
    "\n",
    "Vous devrez créer une archive `dm04.zip` contenant tous vos fichiers et l'envoyer à [loic@yvo.solutions](mailto:loic@yvo.solutions).\n"
   ],
   "metadata": {}
  },
  {
   "cell_type": "markdown",
   "source": [
    "\n",
    "## Exerices 1 - Complexité de fonctions simples\n",
    "\n",
    "Quelle est la complexité de la fonction suivante ?"
   ],
   "metadata": {}
  },
  {
   "cell_type": "code",
   "execution_count": null,
   "source": [
    "def f(x):\n",
    "    \"\"\"x est un entier positif ou nul.\"\"\"\n",
    "    resultat = 0\n",
    "\n",
    "    for _ in range(10000):\n",
    "        resultat += 1\n",
    "\n",
    "    for _ in range(x):\n",
    "        resultat += 1\n",
    "\n",
    "    for _ in range(x):\n",
    "        for _ in range(x):\n",
    "            resultat += 1\n",
    "\n",
    "    return resultat"
   ],
   "outputs": [],
   "metadata": {}
  },
  {
   "cell_type": "markdown",
   "source": [
    "Quelle est la complexité de la fonction suivante ?"
   ],
   "metadata": {}
  },
  {
   "cell_type": "code",
   "execution_count": null,
   "source": [
    "def f(L, x):\n",
    "    \"\"\"L est une liste tandis que x est un entier.\"\"\"\n",
    "    for _ in range(1000):\n",
    "        for element in L:\n",
    "            if element == x:\n",
    "                return True\n",
    "    return False"
   ],
   "outputs": [],
   "metadata": {}
  },
  {
   "cell_type": "markdown",
   "source": [
    "Quelle est la complexité de la fonction suivante ?"
   ],
   "metadata": {}
  },
  {
   "cell_type": "code",
   "execution_count": null,
   "source": [
    "def f(L, x):\n",
    "    \"\"\"L est une liste tandis que x est un entier.\"\"\"\n",
    "    for element in L:\n",
    "        if element == x:\n",
    "            return True\n",
    "    return False"
   ],
   "outputs": [],
   "metadata": {}
  },
  {
   "cell_type": "markdown",
   "source": [
    "Quelle est la complexité de la fonction suivante ?"
   ],
   "metadata": {}
  },
  {
   "cell_type": "code",
   "execution_count": null,
   "source": [
    "def f(x):\n",
    "    \"\"\"x est un entier positif ou nul.\"\"\"\n",
    "    if x == 0:\n",
    "        return \"0\"\n",
    "\n",
    "    resultat = \"\"\n",
    "    digits = \"0123456789\"\n",
    "\n",
    "    while x > 0:\n",
    "        resultat = digits[x % 10] + resultat\n",
    "        x = x // 10\n",
    "\n",
    "    return resultat"
   ],
   "outputs": [],
   "metadata": {}
  },
  {
   "cell_type": "markdown",
   "source": [
    "Quelle est la complexité de la fonction suivante ?"
   ],
   "metadata": {}
  },
  {
   "cell_type": "code",
   "execution_count": null,
   "source": [
    "def f(x):\n",
    "    \"\"\"\"x est un entier strictement positif.\"\"\"\n",
    "    if x == 1:\n",
    "        return 1\n",
    "    else:\n",
    "        return x * f(x - 1)"
   ],
   "outputs": [],
   "metadata": {}
  },
  {
   "cell_type": "markdown",
   "source": [
    "Quelle est la complexité de la fonction suivante ?"
   ],
   "metadata": {}
  },
  {
   "cell_type": "code",
   "execution_count": null,
   "source": [
    "def f(x):\n",
    "    \"\"\"x est un entier positif ou nul.\"\"\"\n",
    "    resultat = 0\n",
    "    for _ in range(x):\n",
    "        for _ in range(2**x):\n",
    "            resultat += 1\n",
    "\n",
    "    return resultat"
   ],
   "outputs": [],
   "metadata": {}
  },
  {
   "cell_type": "markdown",
   "source": [
    "## Exercice 2 - Tests unitaires\n",
    "\n",
    "Dans les exercices suivants, vous allez devoir fournir des tests unitaires pour couvrir la queue et la pile que vous avez écrit lors du TP 10.\n"
   ],
   "metadata": {}
  },
  {
   "cell_type": "markdown",
   "source": [
    "\n",
    "### Exercice 2.1 - Queue\n",
    "\n",
    "Dans l'exercice 3 du TP 10, vous avez implémenté une queue.\n",
    "Reprenez ce code ici."
   ],
   "metadata": {}
  },
  {
   "cell_type": "code",
   "execution_count": null,
   "source": [
    "\n",
    "\n",
    "\n"
   ],
   "outputs": [],
   "metadata": {}
  },
  {
   "cell_type": "markdown",
   "source": [
    "Ecrivez des tests unitaires pour la fonction `empile_dans_queue`."
   ],
   "metadata": {}
  },
  {
   "cell_type": "code",
   "execution_count": null,
   "source": [
    "\n",
    "\n",
    "\n"
   ],
   "outputs": [],
   "metadata": {}
  },
  {
   "cell_type": "markdown",
   "source": [
    "Ecrivez des tests unitaires pour la fonction `depile_de_queue`."
   ],
   "metadata": {}
  },
  {
   "cell_type": "code",
   "execution_count": null,
   "source": [
    "\n",
    "\n"
   ],
   "outputs": [],
   "metadata": {}
  },
  {
   "cell_type": "markdown",
   "source": [
    "### Exercice 2.2 - Pile\n",
    "\n",
    "Dans l'exercice 4 du TP 10, vous avez implémenté une pile.\n",
    "Reprenez ce code ici."
   ],
   "metadata": {}
  },
  {
   "cell_type": "code",
   "execution_count": null,
   "source": [
    "\n",
    "\n"
   ],
   "outputs": [],
   "metadata": {}
  },
  {
   "cell_type": "markdown",
   "source": [
    "Ecrivez des tests unitaires pour la fonction `empile_dans_pile`."
   ],
   "metadata": {}
  },
  {
   "cell_type": "code",
   "execution_count": null,
   "source": [
    "\n",
    "\n"
   ],
   "outputs": [],
   "metadata": {}
  },
  {
   "cell_type": "markdown",
   "source": [
    "Ecrivez des tests unitaires pour la fonction `depile_de_pile`."
   ],
   "metadata": {}
  },
  {
   "cell_type": "code",
   "execution_count": null,
   "source": [
    "\n",
    "\n"
   ],
   "outputs": [],
   "metadata": {}
  },
  {
   "cell_type": "markdown",
   "source": [
    "## Exercice 3 - Fournir une stratégie de test\n",
    "\n",
    "Dans le TP 8, vous avez écrit un programme de gestion d'un hôpital.\n",
    "\n",
    "Veuillez construire une stratégie de test pour ce programme, en vous aidant de la méthodologie de la pyramide des tests.\n",
    "\n",
    "Listez les tests, et précisez leur catégorie. Justifier l'intérêt de chacun des tests.\n",
    "\n",
    "Etablissez également le plan de tests à effectuer manuellement.\n",
    "\n",
    "Vous n'avez pas à écrire les tests."
   ],
   "metadata": {}
  }
 ],
 "metadata": {
  "orig_nbformat": 4,
  "language_info": {
   "name": "python",
   "version": "3.9.7",
   "mimetype": "text/x-python",
   "codemirror_mode": {
    "name": "ipython",
    "version": 3
   },
   "pygments_lexer": "ipython3",
   "nbconvert_exporter": "python",
   "file_extension": ".py"
  },
  "kernelspec": {
   "name": "python3",
   "display_name": "Python 3.9.7 64-bit"
  },
  "interpreter": {
   "hash": "36cf16204b8548560b1c020c4e8fb5b57f0e4c58016f52f2d4be01e192833930"
  }
 },
 "nbformat": 4,
 "nbformat_minor": 2
}